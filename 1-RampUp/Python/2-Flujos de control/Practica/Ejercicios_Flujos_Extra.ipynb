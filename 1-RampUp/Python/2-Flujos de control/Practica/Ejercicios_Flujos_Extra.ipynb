{
 "cells": [
  {
   "cell_type": "markdown",
   "metadata": {},
   "source": [
    "![imagen](./img/ejercicios.png)"
   ]
  },
  {
   "cell_type": "markdown",
   "metadata": {},
   "source": [
    "# Ejercicios Flujos de control"
   ]
  },
  {
   "cell_type": "markdown",
   "metadata": {},
   "source": [
    "## Ejercicio 1\n",
    "Programa una calculadora que\n",
    "\n",
    "* Pregunte qué operación quieres realizar (multiplicación/división/suma/resta/potencia/salir)\n",
    "* Pida dos números \n",
    "* Realice la operación\n",
    "* Siga funcionando hasta que el usuario elija salir\n",
    "\n",
    "#### Bonus:\n",
    "* Que guarde todas las operaciones realizadas y las imprima por pantalla cuando el usuario elija esa opción\n",
    "* Que no "
   ]
  },
  {
   "cell_type": "code",
   "execution_count": 24,
   "metadata": {},
   "outputs": [
    {
     "name": "stdout",
     "output_type": "stream",
     "text": [
      "Opción no válida. Inténtalo de nuevo.\n",
      "Resultado: 25\n",
      "Resultado: 0\n",
      "Opción no válida. Inténtalo de nuevo.\n",
      "Tus resultados acumulados son: [25, 0]\n",
      "Resultado: 25\n",
      "Resultado: 25\n",
      "Resultado: 25\n",
      "Tus resultados acumulados son: [25, 0, 25, 25, 25]\n",
      "De acuerdo, hasta la proxima. Tus resultados han sido [25, 0, 25, 25, 25]\n"
     ]
    }
   ],
   "source": [
    "def calculadora(num1, num2):\n",
    "    respuestas = []\n",
    "    while True:\n",
    "        pregunta = input(\n",
    "    \"¿Qué operación quieres realizar?\\n\"\n",
    "    \"Multiplicación (*)\\t División (/)\\n\"\n",
    "    \"Suma (+)\\t\\t Resta (-)\\n\"\n",
    "    \"Potencia (**)\\t\\t Salir (q)\\n\"\n",
    "    \"Resultados:\")\n",
    "\n",
    "        if pregunta.lower() == \"multiplicacion\" or pregunta.lower() == \"*\":\n",
    "            result = num1*num2\n",
    "            respuestas.append(result)\n",
    "            print(f\"Resultado: {result}\")\n",
    "\n",
    "        elif pregunta.lower() == \"division\" or pregunta.lower() == \"/\":\n",
    "            if num2 != 0:\n",
    "                result = num1 / num2\n",
    "                respuestas.append(result)\n",
    "                print(f\"Resultado: {result}\")\n",
    "            else:\n",
    "                print(\"No se puede dividir por cero.\")\n",
    "        \n",
    "        elif pregunta.lower() == \"suma\" or pregunta.lower() == \"+\":\n",
    "            result = num1+num2\n",
    "            respuestas.append(result)\n",
    "            print(f\"Resultado: {result}\")\n",
    "        \n",
    "        elif pregunta.lower() == \"resta\" or pregunta.lower() == \"-\":\n",
    "            result = num1-num2\n",
    "            respuestas.append(result)\n",
    "            print(f\"Resultado: {result}\")\n",
    "        \n",
    "        elif pregunta.lower() == \"potencia\" or pregunta.lower() == \"**\":\n",
    "            result = num1**num2\n",
    "            respuestas.append(result)\n",
    "            print(f\"Resultado: {result}\")\n",
    "        \n",
    "        elif pregunta.lower() == \"salir\" or pregunta.lower() == \"q\":\n",
    "            if respuestas == []:\n",
    "                return f\"De acuerdo, hasta la proxima. No tienes resultados acumulados\"\n",
    "                break\n",
    "            else:\n",
    "                return f\"De acuerdo, hasta la proxima. Tus resultados han sido {respuestas}\"\n",
    "                break\n",
    "        \n",
    "        elif pregunta.lower() == \"resultados\":\n",
    "            if not respuestas:\n",
    "                print(\"De momento no tienes resultados acumulados.\")\n",
    "            else:\n",
    "                print(f\"Tus resultados acumulados son: {respuestas}\")\n",
    "\n",
    "        else:\n",
    "            print(\"Opción no válida. Inténtalo de nuevo.\")\n",
    "\n",
    "print(calculadora(5,5))"
   ]
  }
 ],
 "metadata": {
  "kernelspec": {
   "display_name": "Python 3",
   "language": "python",
   "name": "python3"
  },
  "language_info": {
   "codemirror_mode": {
    "name": "ipython",
    "version": 3
   },
   "file_extension": ".py",
   "mimetype": "text/x-python",
   "name": "python",
   "nbconvert_exporter": "python",
   "pygments_lexer": "ipython3",
   "version": "3.13.1"
  }
 },
 "nbformat": 4,
 "nbformat_minor": 4
}
