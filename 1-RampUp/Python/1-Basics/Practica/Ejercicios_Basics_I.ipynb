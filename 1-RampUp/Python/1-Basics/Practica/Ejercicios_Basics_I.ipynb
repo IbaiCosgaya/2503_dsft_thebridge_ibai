{
 "cells": [
  {
   "cell_type": "markdown",
   "metadata": {},
   "source": [
    "![imagen](./img/ejercicios.png)"
   ]
  },
  {
   "cell_type": "markdown",
   "metadata": {},
   "source": [
    "# Ejercicios Python Basics I"
   ]
  },
  {
   "cell_type": "markdown",
   "metadata": {},
   "source": [
    "## Ejercicio 0\n",
    "Imprime por pantalla esta cita con el siguiente formato\n",
    "\n",
    "![imagen](./img/frase_Einstein.PNG)"
   ]
  },
  {
   "cell_type": "code",
   "execution_count": 7,
   "metadata": {},
   "outputs": [
    {
     "name": "stdout",
     "output_type": "stream",
     "text": [
      "¿Por qué esta magnífica tecnología cientifica\n",
      "\t que ahorra trabajo y nos hace la vida más fácil\n",
      "\t nos aporta tan poca felicidad?\n",
      "\t La respuesta es esta, simplemente: porque aun no hemos aprendido a usarla con tino\n",
      "\"Albert Einstein\"\n"
     ]
    }
   ],
   "source": [
    "print(\"¿Por qué esta magnífica tecnología cientifica\\n\\t que ahorra trabajo y nos hace la vida más fácil\\n\\t nos aporta tan poca felicidad?\\n\\t La respuesta es esta, simplemente: porque aun no hemos aprendido a usarla con tino\")\n",
    "print(\"\\\"Albert Einstein\\\"\")"
   ]
  },
  {
   "cell_type": "markdown",
   "metadata": {},
   "source": [
    "## Ejercicio 1\n",
    "1. Escribe el nombre de la calle de tu domicilio en una variable\n",
    "2. Escribe el numero de la calle en otra\n",
    "3. Ciudad en una tercera\n",
    "4. Codigo postal en la cuarta variable\n",
    "5. Imprime las 4 variables concatenadas por pantalla\n",
    "6. Crea una quinta variable que concatene todas ellas\n",
    "7. Imprímela por pantalla"
   ]
  },
  {
   "cell_type": "code",
   "execution_count": 1,
   "metadata": {},
   "outputs": [],
   "source": [
    "# \"15\" > \"5\""
   ]
  },
  {
   "cell_type": "code",
   "execution_count": 4,
   "metadata": {},
   "outputs": [
    {
     "name": "stdout",
     "output_type": "stream",
     "text": [
      "Ibai vive en la calle Ronda de Azkue, 8, en Barakaldo, 48902\n",
      "('Ronda de Azkue', 8, 'Barakaldo', 48902)\n"
     ]
    }
   ],
   "source": [
    "calle = \"Ronda de Azkue\"\n",
    "numero = 8\n",
    "ciudad = \"Barakaldo\"\n",
    "cp = 48902\n",
    "\n",
    "print(f\"Ibai vive en la calle {calle}, {numero}, en {ciudad}, {cp}\")\n",
    "\n",
    "concatenacion = calle, numero, ciudad, cp\n",
    "print(concatenacion)"
   ]
  },
  {
   "cell_type": "markdown",
   "metadata": {},
   "source": [
    "## Ejercicio 2\n",
    "Repite el ejercicio 1, pero pidiendo estos datos al usuario mediante un input(), imprimiendo a continuación la dirección completa"
   ]
  },
  {
   "cell_type": "code",
   "execution_count": null,
   "metadata": {},
   "outputs": [],
   "source": [
    "user_calle = input(\"Escribe el nombre de tu calle: \")\n",
    "user_numero = input(\"Escribe el numero de tu calle: \")\n",
    "user_ciudad = input(\"Escribe el nombre de tu ciudad: \")\n",
    "user_cp = input(\"Escribe el codigo postal de tu calle: \")\n",
    "\n",
    "print(f\"Vives en {user_ciudad}, en la calle {user_calle}, {user_numero}, {user_cp}\")"
   ]
  },
  {
   "cell_type": "markdown",
   "metadata": {},
   "source": [
    "## Ejercicio 3\n",
    "¿Qué variables están mal escritas y por qué? Realiza primero tu hipótesis y luego ejecuta las variables para comprobarlo. En ese orden :)\n",
    "\n",
    "\n",
    "1. mi_variable = \"Economía\"\n",
    "2. otra_var = \"Ejercicio\n",
    "3. True = \"Ejercicio\"\n",
    "4. mi variab1e = \"Alpha\"\n",
    "5. import = 40\n",
    "6. 81mi_variable = \"Agua\"\n",
    "7. mi_variable10 = 6"
   ]
  },
  {
   "cell_type": "markdown",
   "metadata": {},
   "source": []
  },
  {
   "cell_type": "code",
   "execution_count": 22,
   "metadata": {},
   "outputs": [],
   "source": []
  },
  {
   "cell_type": "code",
   "execution_count": null,
   "metadata": {},
   "outputs": [],
   "source": []
  },
  {
   "cell_type": "markdown",
   "metadata": {},
   "source": [
    "## Ejercicio 4\n",
    "Realiza un conversor de grados Celsius a Fahrenheit. El conversor tiene que recibir el input del usuario y devolver la conversión.\n",
    "\n",
    "La conversión de grados sigue la siguiente fórmula: F = C × (9 / 5) + 32 "
   ]
  },
  {
   "cell_type": "code",
   "execution_count": 1,
   "metadata": {},
   "outputs": [
    {
     "name": "stdout",
     "output_type": "stream",
     "text": [
      "23.4 grados Celsius equivalen a 74.12 grados Fahrenheit\n"
     ]
    }
   ],
   "source": [
    "celsius = float(input(\"Escribe los grados celsius a convertir: \"))\n",
    "fahrenheit = celsius*(9/5) +32 \n",
    "\n",
    "print(f\"{celsius} grados Celsius equivalen a {fahrenheit} grados Fahrenheit\")"
   ]
  },
  {
   "cell_type": "markdown",
   "metadata": {},
   "source": [
    "## Ejercicio 5\n",
    "Comenta  el Ejercicio 4. Pon un comentario multilinea y haz comentarios de cada linea de código"
   ]
  },
  {
   "cell_type": "code",
   "execution_count": null,
   "metadata": {},
   "outputs": [],
   "source": [
    "celsius = float(input(\"Escribe los grados celsius a convertir: \")) #se le pide al user los grados a convertir en modo float\n",
    "fahrenheit = celsius*(9/5) +32 #se le pasa a la formula los grados del user\n",
    "\n",
    "'''Ahora hacemos \n",
    "el print'''\n",
    "\n",
    "print(f\"{celsius} grados Celsius equivalen a {fahrenheit} grados Fahrenheit\") #se hace el print del resultado con un mensaje"
   ]
  }
 ],
 "metadata": {
  "kernelspec": {
   "display_name": "Python 3",
   "language": "python",
   "name": "python3"
  },
  "language_info": {
   "codemirror_mode": {
    "name": "ipython",
    "version": 3
   },
   "file_extension": ".py",
   "mimetype": "text/x-python",
   "name": "python",
   "nbconvert_exporter": "python",
   "pygments_lexer": "ipython3",
   "version": "3.13.1"
  },
  "nbTranslate": {
   "displayLangs": [
    "*"
   ],
   "hotkey": "alt-t",
   "langInMainMenu": true,
   "sourceLang": "en",
   "targetLang": "fr",
   "useGoogleTranslate": true
  },
  "varInspector": {
   "cols": {
    "lenName": 16,
    "lenType": 16,
    "lenVar": 40
   },
   "kernels_config": {
    "python": {
     "delete_cmd_postfix": "",
     "delete_cmd_prefix": "del ",
     "library": "var_list.py",
     "varRefreshCmd": "print(var_dic_list())"
    },
    "r": {
     "delete_cmd_postfix": ") ",
     "delete_cmd_prefix": "rm(",
     "library": "var_list.r",
     "varRefreshCmd": "cat(var_dic_list()) "
    }
   },
   "types_to_exclude": [
    "module",
    "function",
    "builtin_function_or_method",
    "instance",
    "_Feature"
   ],
   "window_display": false
  }
 },
 "nbformat": 4,
 "nbformat_minor": 4
}
