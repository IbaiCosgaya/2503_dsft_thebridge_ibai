{
 "cells": [
  {
   "cell_type": "markdown",
   "metadata": {},
   "source": [
    "# Test RAMP UP DS-FT Marzo 2025"
   ]
  },
  {
   "cell_type": "markdown",
   "metadata": {},
   "source": [
    "Antes de comenzar, cambia el nombre del archivo notebook poniéndole delante tu nombre y primer apellido:\n",
    "\n",
    "* nombre_apellido_test_pract_marzo_2025.ipynb"
   ]
  },
  {
   "cell_type": "code",
   "execution_count": 2,
   "metadata": {},
   "outputs": [],
   "source": [
    "# Escribe tu nombre y apellidos (apellido si solo tienes uno) en las variables:\n",
    "nombre = \"Ibai\"\n",
    "apellidos = \"Cosgaya Prieto\""
   ]
  },
  {
   "cell_type": "code",
   "execution_count": 3,
   "metadata": {},
   "outputs": [
    {
     "name": "stdout",
     "output_type": "stream",
     "text": [
      "Bienvenido Ibai Cosgaya Prieto. Mucha suerte!\n"
     ]
    }
   ],
   "source": [
    "# Solo ejecutar\n",
    "nombre_apellidos = nombre + ' ' + apellidos\n",
    "print(\"Bienvenido\", nombre_apellidos + '. Mucha suerte!')"
   ]
  },
  {
   "cell_type": "markdown",
   "metadata": {},
   "source": [
    "-----------------"
   ]
  },
  {
   "cell_type": "code",
   "execution_count": null,
   "metadata": {},
   "outputs": [],
   "source": [
    "\"\"\"\n",
    "Criterios de corrección:\n",
    "\n",
    "ejecución (ausencia de errores y obtención de resultados)\n",
    "estructura del código\n",
    "uso correcto de variables\n",
    "manejo de tipo de variables\n",
    "asignaciones\n",
    "operaciones booleanas\n",
    "manejo lógico de flujos de control y bucles\n",
    "uso de colecciones\n",
    "uso de funciones\n",
    "\"\"\"\n",
    "\n",
    "# Ejemplo de como queremos ver el código para más de un intento:\n",
    "\n",
    "# intento 1\n",
    "#your code\n",
    "\n",
    "# intento 2\n",
    "#your code"
   ]
  },
  {
   "cell_type": "markdown",
   "metadata": {},
   "source": [
    "#### Notas y pruebas de apoyo para contestar las preguntas\n",
    "\n",
    "\n",
    "Cualquier código aunque no esté correcto nos dirá más de ti que no escribir nada. "
   ]
  },
  {
   "cell_type": "code",
   "execution_count": null,
   "metadata": {},
   "outputs": [],
   "source": [
    "# No te olvides de documentar el código para dejar clara la lógica, sobre todo cuando no sale el resultado"
   ]
  },
  {
   "cell_type": "markdown",
   "metadata": {},
   "source": [
    "### Ejercicio 1\n",
    "En este ejercicio se va a crear una lista con los siguientes elementos. Primero, crearemos las variables que luego añadiremos a la lista. Las variables son las siguientes:\n",
    "\n",
    "1. Crea una variable llamada `edad` de tipo Integer que represente tu edad en años. \n",
    "2. Crea una variable llamada `poblacion` de tipo String , con tu población de nacimiento. \n",
    "3. Crea una variable llamada `altura` con el valor de tu altura en metros de tipo float.\n",
    "4. Crea una variable llamada `s_operativo` de tipo Boolean True si usas Windows y False si usas otro.\n",
    "5. Crea una variable llamada `nada` de tipo None cuyo valor sea None.\n",
    "6. Crea una variable llamada `lista_vacaciones` de tipo List que contenga 5 destinos de viaje a los que te gustaría ir. Cada elemento ha de ser de tipo String.\n",
    "7. Crea una variable llamada `tupla_isla` de tipo Tuple con tres objetos que te llevarías a una isla desierta.\n",
    "8. Crea una variable llamada `dict_pc` con dos keys y dos values. Una key es `marca`, teniendo como value la marca de tu pc de tipo String. Otra key es la `ram`, cuyo valor es es un entero del número de gigas de la ram de tu ordenador\n",
    "9. Añade todos estos elementos en una lista llamada `lista_examen` en el orden de aparición.\n",
    "10. Guarda en la variable `lon_lista_examen` la longitud de `lista_examen`."
   ]
  },
  {
   "cell_type": "code",
   "execution_count": null,
   "metadata": {},
   "outputs": [
    {
     "name": "stdout",
     "output_type": "stream",
     "text": [
      "8\n"
     ]
    }
   ],
   "source": [
    "edad = 27\n",
    "poblacion = \"Barakaldo\"\n",
    "altura = 1.8\n",
    "s_operativo = True\n",
    "nada = None\n",
    "lista_vacaciones = [\"Albacete\", \"Cuenca\", \"Badajoz\", \"Lugo\", \"Benidorm\"]\n",
    "tupla_isla = (\"Pedernal\", \"Filtro\", \"Cuchillo\")\n",
    "dict_pc = {\"marca\": \"MSI\", \"ram\": 64}\n",
    "\n",
    "lista_examen = [edad, poblacion, altura, s_operativo, nada, lista_vacaciones, tupla_isla, dict_pc]\n",
    "print(lista_examen)\n",
    "lon_lista_examen = len(lista_examen)\n",
    "print(lon_lista_examen)"
   ]
  },
  {
   "cell_type": "markdown",
   "metadata": {},
   "source": [
    "### Ejercicio 2\n",
    "\n",
    "Escribe un programa que simule un libro de \"sigue tu propia aventura\". Solo se pide control de flujo y uso de print().\n",
    "\n",
    "El programa tiene dos variables:\n",
    "\n",
    "*puerta* --> es una variable de tipo entero\n",
    "\n",
    "*amuleto* --> es una variable booleana\n",
    "\n",
    "\n",
    "    · Si la puerta que eliges es la 1, imprime \"has perdido\"\n",
    "\n",
    "    · Si la puerta que eliges es la 2 y tienes el amuleto (verdadero), imprime \"has ganado\"\n",
    "\n",
    "    · En cualquier otro caso, imprime \"sigue jugando\"\n",
    "\n",
    "Haz este programa de dos formas: usando un AND y sin usar un AND\n",
    "\n",
    "Nota: no son necesarias funciones. Puedes declarar puerta y amuleto al principio de tu programa."
   ]
  },
  {
   "cell_type": "code",
   "execution_count": 11,
   "metadata": {},
   "outputs": [
    {
     "name": "stdout",
     "output_type": "stream",
     "text": [
      "Has perdido\n"
     ]
    }
   ],
   "source": [
    "puerta = int(input(\"Elije un numero entero\"))\n",
    "amuleto = eval(input(\"Escribe 'True' si tienes el amuleto y 'False' si no lo tienes\"))\n",
    "\n",
    "if puerta == 1:\n",
    "    print(\"Has perdido\")\n",
    "elif puerta == 2 and amuleto:\n",
    "    print(\"Has ganado\")\n",
    "else:\n",
    "    print(\"Sigue jugando\")\n",
    "    "
   ]
  },
  {
   "cell_type": "code",
   "execution_count": 111,
   "metadata": {},
   "outputs": [
    {
     "name": "stdout",
     "output_type": "stream",
     "text": [
      "Has ganado\n"
     ]
    }
   ],
   "source": [
    "puerta = int(input(\"Elije un numero entero\"))\n",
    "amuleto = eval(input(\"Escribe 'True' si tienes el amuleto y 'False' si no lo tienes\"))\n",
    "\n",
    "\n",
    "if puerta == 1:\n",
    "    print(\"Has perdido\")\n",
    "elif puerta == 2:\n",
    "    if amuleto:\n",
    "        print(\"Has ganado\")\n",
    "else:\n",
    "    print(\"Sigue jugando\")"
   ]
  },
  {
   "cell_type": "markdown",
   "metadata": {},
   "source": [
    "### Ejercicio 3\n",
    "\n",
    "Escribe un programa que solicite al usuario un número entero positivo n y luego imprima un triángulo de asteriscos (*) de altura n. Por ejemplo, si el usuario ingresa 5, el programa debería imprimir:"
   ]
  },
  {
   "cell_type": "code",
   "execution_count": 69,
   "metadata": {},
   "outputs": [
    {
     "data": {
      "text/plain": [
       "'\\n\\n*\\n*  *  \\n*  *  *  \\n*  *  *  *\\n*  *  *  *  *\\n\\n'"
      ]
     },
     "execution_count": 69,
     "metadata": {},
     "output_type": "execute_result"
    }
   ],
   "source": [
    "'''\n",
    "\n",
    "*\n",
    "*  *  \n",
    "*  *  *  \n",
    "*  *  *  *\n",
    "*  *  *  *  *\n",
    "\n",
    "'''"
   ]
  },
  {
   "cell_type": "code",
   "execution_count": null,
   "metadata": {},
   "outputs": [
    {
     "name": "stdout",
     "output_type": "stream",
     "text": [
      " * \n",
      " *  * \n",
      " *  *  * \n",
      " *  *  *  * \n",
      " *  *  *  *  * \n"
     ]
    }
   ],
   "source": [
    "def triangulo(n):\n",
    "    for i in range(1,n+1):\n",
    "        print(i*\" * \")\n",
    "\n",
    "triangulo(5)"
   ]
  },
  {
   "cell_type": "markdown",
   "metadata": {},
   "source": [
    "### Ejercicio 4\n",
    "\n",
    "Crea un programa que pida una contraseña por teclado e indique si es correcta\n",
    "o incorrecta con un print(). La contraseña correcta es “python”. Si la contraseña era incorrecta la pide de nuevo hasta 3 veces como máximo. Si al tercer intento no se acierta, debe ponerse a None y poner en un print() que la cuenta se ha bloqueado. Si se consigue entrar, se muestra que es correcta en un print(). Debe haber como mínimo un **BUCLE WHILE**"
   ]
  },
  {
   "cell_type": "code",
   "execution_count": 68,
   "metadata": {},
   "outputs": [
    {
     "name": "stdout",
     "output_type": "stream",
     "text": [
      "Contraseña correcta\n"
     ]
    }
   ],
   "source": [
    "def contraseña():\n",
    "    contraseña_correcta = \"python\"\n",
    "    contraseña_user = input(\"Escribe tu contraseña\")\n",
    "\n",
    "    counter = 0\n",
    "    max_intentos = 3\n",
    "    \n",
    "    while counter<max_intentos:\n",
    "        if contraseña_user == contraseña_correcta:\n",
    "            print(\"Contraseña correcta\")\n",
    "            break\n",
    "        else:\n",
    "            counter+=1\n",
    "            intentos = max_intentos-counter\n",
    "            contraseña_user = input(f\"Contraseña incorrecta, tienes {intentos} intento(s) vuelve a intentarlo\")\n",
    "\n",
    "        if counter == 3:\n",
    "            print(\"Has llegdo al maximo de tus intentos\")\n",
    "\n",
    "contraseña()\n"
   ]
  },
  {
   "cell_type": "markdown",
   "metadata": {},
   "source": [
    "### Ejercicio 5\n",
    "Una empresa usa dos listas  para guardar la información de sus empleados. Una lista guarda el nombre del empleado y la otra guarda su salario. Escribe un programa que cree esas dos listas originalmente vacías y que a través de un menú pueda hacer lo siguiente:\n",
    "    \n",
    "Inserta 1 para añadir un nuevo empleado y su salario\n",
    "\n",
    "Inserta 2 para imprimir los nombres y salarios de todos los empleados\n",
    "\n",
    "Inserta 3 para mostrar el número de empleados\n",
    "\n",
    "Inserta 4 para imprimir los nombres de los empleados con sueldos superiores a 400000\n",
    "\n",
    "Inserta 5 para subir un 5% los sueldos por debajo de 10000\n",
    "\n",
    "Inserta 6 para mostrar el total de todos los salarios\n",
    "\n",
    "Inserta 7 para salir del programa"
   ]
  },
  {
   "cell_type": "code",
   "execution_count": 2,
   "metadata": {},
   "outputs": [
    {
     "name": "stdout",
     "output_type": "stream",
     "text": [
      "Qué deseas hacer \n",
      "\n",
      "Inserta 1 para añadir un nuevo empleado y su salario\n",
      "Inserta 2 para imprimir los nombres y salarios de todos los empleados\n",
      "Inserta 3 para mostrar el número de empleado\n",
      "Inserta 4 para imprimir los nombres de los empleados con sueldos superiores a 400000\n",
      "Inserta 5 para subir un 5 por ciento los sueldos por debajo de 10000\n",
      "Inserta 6 para mostrar el total de todos los salarios\n",
      "Inserta 7 para salir del programa\n",
      "Qué deseas hacer \n",
      "\n",
      "Inserta 1 para añadir un nuevo empleado y su salario\n",
      "Inserta 2 para imprimir los nombres y salarios de todos los empleados\n",
      "Inserta 3 para mostrar el número de empleado\n",
      "Inserta 4 para imprimir los nombres de los empleados con sueldos superiores a 400000\n",
      "Inserta 5 para subir un 5 por ciento los sueldos por debajo de 10000\n",
      "Inserta 6 para mostrar el total de todos los salarios\n",
      "Inserta 7 para salir del programa\n",
      "['ibai'] [122.0]\n",
      "Qué deseas hacer \n",
      "\n",
      "Inserta 1 para añadir un nuevo empleado y su salario\n",
      "Inserta 2 para imprimir los nombres y salarios de todos los empleados\n",
      "Inserta 3 para mostrar el número de empleado\n",
      "Inserta 4 para imprimir los nombres de los empleados con sueldos superiores a 400000\n",
      "Inserta 5 para subir un 5 por ciento los sueldos por debajo de 10000\n",
      "Inserta 6 para mostrar el total de todos los salarios\n",
      "Inserta 7 para salir del programa\n",
      "Qué deseas hacer \n",
      "\n",
      "Inserta 1 para añadir un nuevo empleado y su salario\n",
      "Inserta 2 para imprimir los nombres y salarios de todos los empleados\n",
      "Inserta 3 para mostrar el número de empleado\n",
      "Inserta 4 para imprimir los nombres de los empleados con sueldos superiores a 400000\n",
      "Inserta 5 para subir un 5 por ciento los sueldos por debajo de 10000\n",
      "Inserta 6 para mostrar el total de todos los salarios\n",
      "Inserta 7 para salir del programa\n",
      "['ibai', 'dedw'] [122.0, 12354.0]\n",
      "Qué deseas hacer \n",
      "\n",
      "Inserta 1 para añadir un nuevo empleado y su salario\n",
      "Inserta 2 para imprimir los nombres y salarios de todos los empleados\n",
      "Inserta 3 para mostrar el número de empleado\n",
      "Inserta 4 para imprimir los nombres de los empleados con sueldos superiores a 400000\n",
      "Inserta 5 para subir un 5 por ciento los sueldos por debajo de 10000\n",
      "Inserta 6 para mostrar el total de todos los salarios\n",
      "Inserta 7 para salir del programa\n",
      "Hasta luego\n"
     ]
    }
   ],
   "source": [
    "empleado = []\n",
    "salario = []\n",
    "\n",
    "def añadir_empleado_salario():\n",
    "    empleado_user = input(\"Escribe el nombre del empleado/a\")\n",
    "    salario_user = float(input(\"Ingresa el salario del empleado/a\"))\n",
    "\n",
    "    empleado.append(empleado_user)\n",
    "    salario.append(salario_user)\n",
    "\n",
    "    # return empleado, salario\n",
    "\n",
    "\n",
    "def mostrar_info():\n",
    "    print(empleado,salario)\n",
    "\n",
    "def mostrar_empleados():\n",
    "    pass\n",
    "\n",
    "def mostrar_empleados_sueldo_alto():\n",
    "    pass\n",
    "\n",
    "def subida_sueldo_bajo():\n",
    "    pass\n",
    "\n",
    "def total_salarios():\n",
    "    pass\n",
    "\n",
    "    \n",
    "def menu():\n",
    "    while True:\n",
    "        print(\"Qué deseas hacer \\n\")\n",
    "        print(\"Inserta 1 para añadir un nuevo empleado y su salario\")\n",
    "        print(\"Inserta 2 para imprimir los nombres y salarios de todos los empleados\")\n",
    "        print(\"Inserta 3 para mostrar el número de empleado\")\n",
    "        print(\"Inserta 4 para imprimir los nombres de los empleados con sueldos superiores a 400000\")\n",
    "        print(\"Inserta 5 para subir un 5 por ciento los sueldos por debajo de 10000\")\n",
    "        print(\"Inserta 6 para mostrar el total de todos los salarios\")\n",
    "        print(\"Inserta 7 para salir del programa\")\n",
    "\n",
    "        opcion = input(\"Elija una accion a realizar: \")\n",
    "\n",
    "        if opcion == \"1\":\n",
    "            añadir_empleado_salario()\n",
    "        elif opcion == \"2\":\n",
    "            mostrar_info()\n",
    "        # elif opcion == \"3\":\n",
    "        #     mi_inventario.eliminar_producto()\n",
    "        # elif opcion == \"4\":\n",
    "        #     mi_inventario.modificar_cantidad()\n",
    "        # elif opcion == \"5\":\n",
    "        #     mi_inventario.buscar_producto()\n",
    "        # elif opcion == \"6\":\n",
    "        #     mi_inventario.calcular_valor()\n",
    "        elif opcion == \"7\":\n",
    "            print(\"Hasta luego\")\n",
    "            break\n",
    "        else:\n",
    "            print(f\"{opcion} invalido. Introduzca numero del 1-7\")\n",
    "\n",
    "menu()\n"
   ]
  },
  {
   "cell_type": "markdown",
   "metadata": {},
   "source": [
    "\n",
    "### Ejercicio 6 (**EXTRA**)\n",
    "\n",
    "#### Crear un programa que calcule la cuota de una hipoteca\n",
    "\n",
    "Las cuotas hipotecarias se calculan utilizando la fórmula del interés francés. \n",
    "\n",
    "La fórmula del interés frances es la siguiente:\n",
    "\\begin{align*}\n",
    "C=V \\frac{(1+i)^n i}{(1+i)^n -1}\n",
    "\\end{align*}\n",
    "\n",
    "\n",
    "    C = cuota a pagar (mensual)\n",
    "    V = volumen del préstamo hipotecario\n",
    "    i = tipo de interés del período (mensual)\n",
    "    n = número de cuotas (mensuales)\n",
    "\n",
    "1. Crea un programa que solicite al usuario los datos de su hipoteca mediante input() los datos (volumen, interés **anual**, y plazo en **años**) y le devuelva la cuota **mensual** a pagar. No es necesario encapsularlo en funciones.\n",
    "\n",
    "2. Crea una función `calcular_hip` que realiza el cálculo y cuyos argumentos de entrada sean `volumen`, `interes_anual` y `años`, devolviendo la couta mensual(float). El argumento de `años` deberá de tener un valor por defecto de 30.\n",
    "3. Calcula la cuota y guárdala en la variable `res_cuota` si la cantidad de la hipoteca son 350000 euros, el interés anual es del 5% y la quiere pagar en 20 años a partir de la función `calcular_hip`.\n",
    "4. Crea una función `gasto_vivienda`, con dos argumentos de entrada `ingreso` y `lista_hip`. Esta lista tendrá los 3 valores de los argumentos de entrada de `calcular_hip`, siendo esta una función que deberá ser utilizada dentro de `gasto_vivienda`. Tiene que devolver el valor del porcentaje de gasto en la hipoteca respecto a los ingresos. (Entre 0 y 1, es decir 0.5 si es del 50%)\n",
    "5. Calcula el porcentaje de gasto en la hipoteca si el ingreso es de 1700 euros y guárdalo en la variable `res_porcentaje`.\n",
    "6. Documenta ambas funciones."
   ]
  },
  {
   "cell_type": "code",
   "execution_count": null,
   "metadata": {},
   "outputs": [
    {
     "ename": "SyntaxError",
     "evalue": "invalid syntax (126455335.py, line 6)",
     "output_type": "error",
     "traceback": [
      "\u001b[1;36m  Cell \u001b[1;32mIn[141], line 6\u001b[1;36m\u001b[0m\n\u001b[1;33m    cuota_mensual =\u001b[0m\n\u001b[1;37m                    ^\u001b[0m\n\u001b[1;31mSyntaxError\u001b[0m\u001b[1;31m:\u001b[0m invalid syntax\n"
     ]
    }
   ],
   "source": [
    "def hipoteca():\n",
    "    \n",
    "    volumen = float(input(\"Introduce el volumen del préstamo hipotecario\"))\n",
    "    interes_anual = float(input(\"Introduce el interes anual \"))\n",
    "    plazo = int(input(\"En cuanto años lo pagas \"))\n",
    "    cuota_mensual = volumen/(1-(1/(1+interes_anual))^N)/i)\n",
    "\n",
    "    return cuota_mensual"
   ]
  },
  {
   "cell_type": "code",
   "execution_count": null,
   "metadata": {},
   "outputs": [],
   "source": []
  },
  {
   "cell_type": "code",
   "execution_count": null,
   "metadata": {},
   "outputs": [],
   "source": []
  },
  {
   "cell_type": "code",
   "execution_count": null,
   "metadata": {},
   "outputs": [],
   "source": []
  },
  {
   "cell_type": "code",
   "execution_count": null,
   "metadata": {},
   "outputs": [],
   "source": []
  },
  {
   "attachments": {},
   "cell_type": "markdown",
   "metadata": {},
   "source": [
    "¡Has terminado!\n",
    "\n",
    "Adjunta este fichero en la tarea del CampusVirtual"
   ]
  }
 ],
 "metadata": {
  "kernelspec": {
   "display_name": "Python 3",
   "language": "python",
   "name": "python3"
  },
  "language_info": {
   "codemirror_mode": {
    "name": "ipython",
    "version": 3
   },
   "file_extension": ".py",
   "mimetype": "text/x-python",
   "name": "python",
   "nbconvert_exporter": "python",
   "pygments_lexer": "ipython3",
   "version": "3.13.1"
  },
  "orig_nbformat": 4,
  "vscode": {
   "interpreter": {
    "hash": "1e989a6a87260c027f3014f78a3a3d191394072689c96a40223c8499353d25ee"
   }
  }
 },
 "nbformat": 4,
 "nbformat_minor": 2
}
