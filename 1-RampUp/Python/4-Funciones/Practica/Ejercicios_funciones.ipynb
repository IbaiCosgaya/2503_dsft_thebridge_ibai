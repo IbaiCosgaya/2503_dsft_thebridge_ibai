{
 "cells": [
  {
   "cell_type": "markdown",
   "metadata": {},
   "source": [
    "![imagen](./img/ejercicios.png)"
   ]
  },
  {
   "cell_type": "markdown",
   "metadata": {},
   "source": [
    "# Ejercicios funciones\n",
    "## Ejercicio 1\n",
    "Escribe una función que convierta números del 1 al 7 en nombres de los dias de la semana. La función constará de un único argumento numérico y una salida de tipo string"
   ]
  },
  {
   "cell_type": "code",
   "execution_count": 2,
   "metadata": {},
   "outputs": [
    {
     "name": "stdout",
     "output_type": "stream",
     "text": [
      "Numero incorrecto\n"
     ]
    }
   ],
   "source": [
    "def numeros_semana(num):\n",
    "    if num == 1:\n",
    "        return \"Lunes\"\n",
    "    elif num == 2:\n",
    "        return \"Martes\"\n",
    "    elif num == 3:\n",
    "        return \"Miercoles\"\n",
    "    elif num == 4:\n",
    "        return \"Jueves\"\n",
    "    elif num == 5:\n",
    "        return \"Viernes\"\n",
    "    elif num == 6:\n",
    "        return \"Sabado\"\n",
    "    elif num == 7:\n",
    "        return \"Domingo\"\n",
    "    else:\n",
    "        return \"Numero incorrecto\"\n",
    "    \n",
    "print(numeros_semana(0))"
   ]
  },
  {
   "cell_type": "markdown",
   "metadata": {},
   "source": [
    "## Ejercicio 2\n",
    "En el ejercicio 8 de flujos de control, creábamos una pirámide invertida de números desde el 5. Crea una función que replique el comportamiento de la pirámide, y utiliza un único parámetro de entrada de la función para determinar el número de filas de la pirámide."
   ]
  },
  {
   "cell_type": "code",
   "execution_count": null,
   "metadata": {},
   "outputs": [],
   "source": []
  },
  {
   "cell_type": "markdown",
   "metadata": {},
   "source": [
    "## Ejercicio 3\n",
    "Escribe una función que compare dos números. La función tiene dos argumentos y hay tres salidas posibles: que sean iguales, que el primero sea  mayor que el segundo, o que el segundo sea mayor que el primero"
   ]
  },
  {
   "cell_type": "code",
   "execution_count": null,
   "metadata": {},
   "outputs": [
    {
     "name": "stdout",
     "output_type": "stream",
     "text": [
      "3 es mayor que 2\n"
     ]
    }
   ],
   "source": [
    "def comparar_numeros(num1, num2):\n",
    "    if num1>num2:\n",
    "        return f\"{num1} es mayor que {num2}\"\n",
    "    elif num1<num2:\n",
    "        return f\"{num2} es mayor que {num1}\"\n",
    "    else:\n",
    "        return \"Los dos numeros son iguales\"\n",
    "    \n",
    "print(comparar_numeros(3,2)) "
   ]
  },
  {
   "attachments": {},
   "cell_type": "markdown",
   "metadata": {},
   "source": [
    "## Ejercicio 4\n",
    "Escribe una función que sea un contador de letras. En el primer argumento tienes que introducir un texto, y el segundo que sea una letra que contar. La función tiene que devolver un entero con el número de veces que aparece esa letra, tanto mayúscula, como minúscula"
   ]
  },
  {
   "cell_type": "code",
   "execution_count": 22,
   "metadata": {},
   "outputs": [
    {
     "name": "stdout",
     "output_type": "stream",
     "text": [
      "La letra a aparece 3 veces en CascAda\n"
     ]
    }
   ],
   "source": [
    "def contador_letras(text, letra_a_contar):\n",
    "    text = str(text)\n",
    "    letra_a_contar = str(letra_a_contar).lower()\n",
    "\n",
    "    counter = 0\n",
    "\n",
    "    for x in text.lower():\n",
    "        if letra_a_contar in x:\n",
    "            counter += 1\n",
    "    print(f\"La letra {letra_a_contar} aparece {counter} veces en {text}\")\n",
    "\n",
    "    if letra_a_contar not in text.lower():\n",
    "        print(f\"La letra {letra_a_contar} no se encuentra en {text}\")\n",
    "\n",
    "contador_letras(\"CascAda\", \"A\")"
   ]
  },
  {
   "cell_type": "markdown",
   "metadata": {},
   "source": [
    "## Ejercicio 5\n",
    "Escribe una función que tenga un único argumento, un string. La salida de la función tiene que ser un diccionario con el conteo de todas las letras de ese string, siendo la clave la letra y el valor el conteo."
   ]
  },
  {
   "cell_type": "code",
   "execution_count": null,
   "metadata": {},
   "outputs": [
    {
     "name": "stdout",
     "output_type": "stream",
     "text": [
      "{'a': 6, 'b': 5, 'u': 1, 'i': 1, 'o': 1}\n"
     ]
    }
   ],
   "source": [
    "def dict_counter(text):\n",
    "    text = str(text)\n",
    "    resultado = {}\n",
    "    \n",
    "    for x in text.lower():\n",
    "        resultado[x]= text.count(x)\n",
    "    return resultado\n",
    "\n",
    "print(dict_counter(\"aaaaaabbbbbuio\"))"
   ]
  },
  {
   "cell_type": "markdown",
   "metadata": {},
   "source": [
    "## Ejercicio 6\n",
    "Escribir una función que añada o elimine elementos en una lista. La función necesita los siguientes argumentos:\n",
    "* lista: la lista donde se añadirán o eliminarán los elementos\n",
    "* comando: \"add\" o \"remove\"\n",
    "* elemento: Por defecto es None.\n",
    "\n",
    "Tendrá como salida la lista"
   ]
  },
  {
   "cell_type": "code",
   "execution_count": null,
   "metadata": {},
   "outputs": [
    {
     "name": "stdout",
     "output_type": "stream",
     "text": [
      "El elemento 4 no se encuentra en la lista\n"
     ]
    }
   ],
   "source": [
    "def modificar_lista(lista, comando, elemento=None):\n",
    "    lista = list(lista)\n",
    "    comando = str(comando)\n",
    "\n",
    "    if comando == \"add\":\n",
    "        lista.append(elemento)\n",
    "    elif comando == \"remove\":\n",
    "        if elemento not in lista:\n",
    "            return f\"El elemento {elemento} no se encuentra en la lista\"\n",
    "        else:\n",
    "            lista.remove(elemento)\n",
    "\n",
    "    return lista\n",
    "\n",
    "print(modificar_lista([1,2,3], \"remove\", 4))\n"
   ]
  },
  {
   "cell_type": "markdown",
   "metadata": {},
   "source": [
    "## Ejercicio 7\n",
    "Crea una función que reciba un número arbitrario de palabras, y devuelva una frase completa, separando las palabras con espacios."
   ]
  },
  {
   "cell_type": "code",
   "execution_count": 41,
   "metadata": {},
   "outputs": [
    {
     "name": "stdout",
     "output_type": "stream",
     "text": [
      "ordenador raton es 1000 mejor\n"
     ]
    }
   ],
   "source": [
    "def convertir_a_frase(palabras):\n",
    "    palabras = list(palabras)\n",
    "    resultado = []\n",
    "    for x in palabras:\n",
    "        resultado.append(x)\n",
    "    return \" \".join(resultado)\n",
    "\n",
    "print(convertir_a_frase([\"ordenador\", \"raton\", \"es\", \"1000\", \"mejor\"]))"
   ]
  },
  {
   "cell_type": "markdown",
   "metadata": {},
   "source": [
    "## Ejercicio 8\n",
    "Escribe un programa que obtenga el enésimo número de la [serie de Fibonacci](https://es.wikipedia.org/wiki/Sucesi%C3%B3n_de_Fibonacci). Tienes que crear una función recursiva con un único argumento.\n",
    "\n",
    "```Python\n",
    "fibonacci(2) = 1\n",
    "fibonacci(4) = 3\n",
    "fibonacci(5) = 5\n",
    "fibonacci(8) = 21\n",
    "```"
   ]
  },
  {
   "cell_type": "markdown",
   "metadata": {},
   "source": [
    "fibonacci(n) = fibonacci(n-1) + fibonacci(n-2)"
   ]
  },
  {
   "cell_type": "code",
   "execution_count": null,
   "metadata": {},
   "outputs": [
    {
     "name": "stdout",
     "output_type": "stream",
     "text": [
      "21\n"
     ]
    }
   ],
   "source": [
    "def fibo(i):\n",
    "    #MANERA SIMPLE\n",
    "    if i == 0 or i == 1:\n",
    "        return i\n",
    "    \n",
    "    elif i>=2:\n",
    "        return fibo(i-1) + fibo(i-2)\n",
    "\n",
    "    #MANERA MENOS SIMPLE\n",
    "    if i == 0 or i == 1:\n",
    "            return i\n",
    "    f1,f2 = 0,1\n",
    "    for _ in range(2, i+1):\n",
    "        next_value = f1+f2\n",
    "        f1 = f2\n",
    "        f2 = next_value\n",
    "    return f2\n",
    "\n",
    "print(fibo(8))"
   ]
  },
  {
   "attachments": {},
   "cell_type": "markdown",
   "metadata": {},
   "source": [
    "## Ejercicio 9\n",
    "Define en una única celda las siguientes funciones:\n",
    "* Función que calcule el área de un cuadrado\n",
    "* Función que calcule el área de un triángulo\n",
    "* Función que calcule el área de un círculo\n",
    "\n",
    "En otra celda, calcular el area de:\n",
    "* Dos círculos de radio 10 + un triángulo de base 3 y altura 7\n",
    "* Un cuadrado de lado = 10 + 3 círculos (uno de radio = 4 y los otros dos de radio = 6) + 5 triángulos de base = 2 + altura = 4"
   ]
  },
  {
   "cell_type": "code",
   "execution_count": 53,
   "metadata": {},
   "outputs": [
    {
     "name": "stdout",
     "output_type": "stream",
     "text": [
      "El area de tu cuadrado es de 27.61 metros cuadrados\n",
      "El area de tu triangulo es de 13.8 metros cuadrados\n",
      "El area de tu circulo es de 78.54 metros cuadrados\n"
     ]
    }
   ],
   "source": [
    "from math import pi\n",
    "\n",
    "def area_cuadrado(a,b):\n",
    "    return f\"El area de tu cuadrado es de {round(float(a)*float(b),2)} metros cuadrados\"\n",
    "\n",
    "def area_triangulo(a,b):\n",
    "    return f\"El area de tu triangulo es de {round(((float(a)*float(b))/2),2)} metros cuadrados\"\n",
    "\n",
    "def area_circulo(r):\n",
    "    return f\"El area de tu circulo es de {round((pi*(r**2)),2)} metros cuadrados\"\n",
    "\n",
    "\n",
    "print(area_cuadrado(3.455667,7.98956))\n",
    "print(area_triangulo(3.455667,7.98956))\n",
    "print(area_circulo(5))"
   ]
  },
  {
   "cell_type": "markdown",
   "metadata": {},
   "source": [
    "## Ejercicio 10\n",
    "\n",
    "Guarda las funciones de estos ejercicios en un fichero llamado `funciones.py` e importalas desde este jupyter notebook para probar que puedes hacer uso de ellas."
   ]
  },
  {
   "cell_type": "code",
   "execution_count": null,
   "metadata": {},
   "outputs": [],
   "source": []
  }
 ],
 "metadata": {
  "kernelspec": {
   "display_name": "Python 3",
   "language": "python",
   "name": "python3"
  },
  "language_info": {
   "codemirror_mode": {
    "name": "ipython",
    "version": 3
   },
   "file_extension": ".py",
   "mimetype": "text/x-python",
   "name": "python",
   "nbconvert_exporter": "python",
   "pygments_lexer": "ipython3",
   "version": "3.13.1"
  }
 },
 "nbformat": 4,
 "nbformat_minor": 4
}
