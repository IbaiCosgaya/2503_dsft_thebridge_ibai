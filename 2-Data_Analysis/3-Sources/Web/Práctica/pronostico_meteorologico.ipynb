{
 "cells": [
  {
   "cell_type": "markdown",
   "metadata": {},
   "source": [
    "## Análisis de Datos Meteorológicos con una API Pública\n",
    "Obtener datos del clima de una ciudad usando la API de Open-Meteo (https://open-meteo.com/) y analizar la temperatura."
   ]
  },
  {
   "cell_type": "markdown",
   "metadata": {},
   "source": [
    "* Haz una petición a la API para que devuelva el pronóstico de las temperaturas para una semana en Bilbao. El parámetro correspondiente es `temperature_2m` además de la latitud y la longitud.\n",
    "* Procesa la respuesta en formato JSON para obtener dos listas: una con la lista de temperaturas y otra con las fechas-horas correspondientes.\n",
    "* Crea un DataFrame con esas dos columnas: `Hora` y `Temperatura`\n",
    "* Elige la gráfica adecuada y visualiza el pronóstico de temperaturas."
   ]
  },
  {
   "cell_type": "markdown",
   "metadata": {},
   "source": [
    "Para crear la variable `Hora` del DataFrame puedes introducir directamente la lista que se obtiene del campo `data[\"hourly\"][\"time\"]` o procesar esa lista mediante el siguiente código:\n",
    "\n",
    "`hours = pd.date_range(start=lista_de_horas, periods=len(temps), freq=\"H\")`"
   ]
  },
  {
   "cell_type": "code",
   "execution_count": 5,
   "metadata": {},
   "outputs": [
    {
     "name": "stdout",
     "output_type": "stream",
     "text": [
      "{'latitude': 43.26, 'longitude': -2.9300003, 'generationtime_ms': 0.057578086853027344, 'utc_offset_seconds': 0, 'timezone': 'GMT', 'timezone_abbreviation': 'GMT', 'elevation': 21.0, 'hourly_units': {'time': 'iso8601', 'temperature_2m': '°C'}, 'hourly': {'time': ['2025-03-28T00:00', '2025-03-28T01:00', '2025-03-28T02:00', '2025-03-28T03:00', '2025-03-28T04:00', '2025-03-28T05:00', '2025-03-28T06:00', '2025-03-28T07:00', '2025-03-28T08:00', '2025-03-28T09:00', '2025-03-28T10:00', '2025-03-28T11:00', '2025-03-28T12:00', '2025-03-28T13:00', '2025-03-28T14:00', '2025-03-28T15:00', '2025-03-28T16:00', '2025-03-28T17:00', '2025-03-28T18:00', '2025-03-28T19:00', '2025-03-28T20:00', '2025-03-28T21:00', '2025-03-28T22:00', '2025-03-28T23:00', '2025-03-29T00:00', '2025-03-29T01:00', '2025-03-29T02:00', '2025-03-29T03:00', '2025-03-29T04:00', '2025-03-29T05:00', '2025-03-29T06:00', '2025-03-29T07:00', '2025-03-29T08:00', '2025-03-29T09:00', '2025-03-29T10:00', '2025-03-29T11:00', '2025-03-29T12:00', '2025-03-29T13:00', '2025-03-29T14:00', '2025-03-29T15:00', '2025-03-29T16:00', '2025-03-29T17:00', '2025-03-29T18:00', '2025-03-29T19:00', '2025-03-29T20:00', '2025-03-29T21:00', '2025-03-29T22:00', '2025-03-29T23:00', '2025-03-30T00:00', '2025-03-30T01:00', '2025-03-30T02:00', '2025-03-30T03:00', '2025-03-30T04:00', '2025-03-30T05:00', '2025-03-30T06:00', '2025-03-30T07:00', '2025-03-30T08:00', '2025-03-30T09:00', '2025-03-30T10:00', '2025-03-30T11:00', '2025-03-30T12:00', '2025-03-30T13:00', '2025-03-30T14:00', '2025-03-30T15:00', '2025-03-30T16:00', '2025-03-30T17:00', '2025-03-30T18:00', '2025-03-30T19:00', '2025-03-30T20:00', '2025-03-30T21:00', '2025-03-30T22:00', '2025-03-30T23:00', '2025-03-31T00:00', '2025-03-31T01:00', '2025-03-31T02:00', '2025-03-31T03:00', '2025-03-31T04:00', '2025-03-31T05:00', '2025-03-31T06:00', '2025-03-31T07:00', '2025-03-31T08:00', '2025-03-31T09:00', '2025-03-31T10:00', '2025-03-31T11:00', '2025-03-31T12:00', '2025-03-31T13:00', '2025-03-31T14:00', '2025-03-31T15:00', '2025-03-31T16:00', '2025-03-31T17:00', '2025-03-31T18:00', '2025-03-31T19:00', '2025-03-31T20:00', '2025-03-31T21:00', '2025-03-31T22:00', '2025-03-31T23:00', '2025-04-01T00:00', '2025-04-01T01:00', '2025-04-01T02:00', '2025-04-01T03:00', '2025-04-01T04:00', '2025-04-01T05:00', '2025-04-01T06:00', '2025-04-01T07:00', '2025-04-01T08:00', '2025-04-01T09:00', '2025-04-01T10:00', '2025-04-01T11:00', '2025-04-01T12:00', '2025-04-01T13:00', '2025-04-01T14:00', '2025-04-01T15:00', '2025-04-01T16:00', '2025-04-01T17:00', '2025-04-01T18:00', '2025-04-01T19:00', '2025-04-01T20:00', '2025-04-01T21:00', '2025-04-01T22:00', '2025-04-01T23:00', '2025-04-02T00:00', '2025-04-02T01:00', '2025-04-02T02:00', '2025-04-02T03:00', '2025-04-02T04:00', '2025-04-02T05:00', '2025-04-02T06:00', '2025-04-02T07:00', '2025-04-02T08:00', '2025-04-02T09:00', '2025-04-02T10:00', '2025-04-02T11:00', '2025-04-02T12:00', '2025-04-02T13:00', '2025-04-02T14:00', '2025-04-02T15:00', '2025-04-02T16:00', '2025-04-02T17:00', '2025-04-02T18:00', '2025-04-02T19:00', '2025-04-02T20:00', '2025-04-02T21:00', '2025-04-02T22:00', '2025-04-02T23:00', '2025-04-03T00:00', '2025-04-03T01:00', '2025-04-03T02:00', '2025-04-03T03:00', '2025-04-03T04:00', '2025-04-03T05:00', '2025-04-03T06:00', '2025-04-03T07:00', '2025-04-03T08:00', '2025-04-03T09:00', '2025-04-03T10:00', '2025-04-03T11:00', '2025-04-03T12:00', '2025-04-03T13:00', '2025-04-03T14:00', '2025-04-03T15:00', '2025-04-03T16:00', '2025-04-03T17:00', '2025-04-03T18:00', '2025-04-03T19:00', '2025-04-03T20:00', '2025-04-03T21:00', '2025-04-03T22:00', '2025-04-03T23:00'], 'temperature_2m': [11.7, 11.6, 11.0, 10.9, 11.4, 11.2, 11.0, 12.0, 11.9, 12.9, 13.5, 12.9, 14.3, 14.6, 14.6, 14.6, 14.3, 14.1, 14.0, 13.1, 12.6, 12.6, 12.3, 12.6, 12.4, 12.2, 12.1, 11.7, 11.7, 10.9, 11.5, 11.9, 11.8, 12.3, 12.4, 12.6, 12.9, 11.8, 12.5, 12.5, 12.7, 12.8, 12.3, 11.6, 11.2, 10.8, 10.4, 10.1, 10.1, 9.7, 9.0, 8.4, 8.2, 7.7, 8.1, 5.3, 7.6, 10.6, 12.6, 13.4, 13.8, 14.5, 14.6, 14.1, 13.5, 12.8, 11.7, 10.0, 8.7, 7.7, 6.9, 6.8, 6.6, 6.5, 6.1, 5.8, 5.7, 5.5, 5.2, 5.7, 8.0, 11.3, 13.8, 15.3, 16.6, 16.5, 16.5, 16.6, 16.5, 15.8, 14.6, 12.6, 11.1, 9.8, 8.9, 8.3, 7.8, 7.5, 7.3, 7.2, 7.2, 7.5, 8.1, 9.4, 13.0, 16.3, 19.1, 21.7, 23.2, 23.3, 22.4, 21.3, 20.1, 18.7, 17.4, 16.0, 14.8, 14.0, 14.2, 14.9, 15.4, 15.3, 15.0, 14.7, 14.2, 13.8, 13.8, 14.6, 15.8, 17.1, 18.5, 20.0, 21.3, 22.2, 22.9, 22.9, 22.2, 21.0, 19.3, 17.1, 14.6, 12.5, 11.4, 10.7, 10.2, 9.6, 9.1, 8.7, 7.9, 7.2, 7.6, 10.1, 13.7, 16.9, 18.9, 20.5, 21.6, 22.4, 22.7, 22.6, 21.8, 20.5, 18.8, 16.4, 13.7, 11.5, 10.1, 9.3]}}\n"
     ]
    }
   ],
   "source": [
    "import matplotlib.pyplot as plt\n",
    "import seaborn as sns\n",
    "import requests\n",
    "import pandas as pd\n",
    "\n",
    "# Coordenadas de Bilbao\n",
    "latitude = 43.26271\n",
    "longitude = -2.92528\n",
    "\n",
    "\n",
    "url = f\"https://api.open-meteo.com/v1/forecast?\"  # Aquí vienen el resto de los parámetros\n",
    "\n",
    "params = {\n",
    "\t\"latitude\": latitude,\n",
    "\t\"longitude\": longitude,\n",
    "\t\"hourly\": \"temperature_2m\"\n",
    "}\n",
    "\n",
    "responses = requests.get(url, params=params).json()\n",
    "print(responses)\n"
   ]
  },
  {
   "cell_type": "code",
   "execution_count": 4,
   "metadata": {},
   "outputs": [
    {
     "data": {
      "application/vnd.microsoft.datawrangler.viewer.v0+json": {
       "columns": [
        {
         "name": "index",
         "rawType": "int64",
         "type": "integer"
        },
        {
         "name": "Hora",
         "rawType": "object",
         "type": "string"
        },
        {
         "name": "Temperatura",
         "rawType": "float64",
         "type": "float"
        }
       ],
       "conversionMethod": "pd.DataFrame",
       "ref": "3f8493f0-ebb1-437d-ba70-bc49f85fc04f",
       "rows": [
        [
         "0",
         "2025-03-28T00:00",
         "11.7"
        ],
        [
         "1",
         "2025-03-28T01:00",
         "11.6"
        ],
        [
         "2",
         "2025-03-28T02:00",
         "11.0"
        ],
        [
         "3",
         "2025-03-28T03:00",
         "10.9"
        ],
        [
         "4",
         "2025-03-28T04:00",
         "11.4"
        ],
        [
         "5",
         "2025-03-28T05:00",
         "11.2"
        ],
        [
         "6",
         "2025-03-28T06:00",
         "11.0"
        ],
        [
         "7",
         "2025-03-28T07:00",
         "12.0"
        ],
        [
         "8",
         "2025-03-28T08:00",
         "11.9"
        ],
        [
         "9",
         "2025-03-28T09:00",
         "12.9"
        ],
        [
         "10",
         "2025-03-28T10:00",
         "13.5"
        ],
        [
         "11",
         "2025-03-28T11:00",
         "12.9"
        ],
        [
         "12",
         "2025-03-28T12:00",
         "14.3"
        ],
        [
         "13",
         "2025-03-28T13:00",
         "14.6"
        ],
        [
         "14",
         "2025-03-28T14:00",
         "14.6"
        ],
        [
         "15",
         "2025-03-28T15:00",
         "14.6"
        ],
        [
         "16",
         "2025-03-28T16:00",
         "14.3"
        ],
        [
         "17",
         "2025-03-28T17:00",
         "14.1"
        ],
        [
         "18",
         "2025-03-28T18:00",
         "14.0"
        ],
        [
         "19",
         "2025-03-28T19:00",
         "13.1"
        ],
        [
         "20",
         "2025-03-28T20:00",
         "12.6"
        ],
        [
         "21",
         "2025-03-28T21:00",
         "12.6"
        ],
        [
         "22",
         "2025-03-28T22:00",
         "12.3"
        ],
        [
         "23",
         "2025-03-28T23:00",
         "12.6"
        ],
        [
         "24",
         "2025-03-29T00:00",
         "12.4"
        ],
        [
         "25",
         "2025-03-29T01:00",
         "12.2"
        ],
        [
         "26",
         "2025-03-29T02:00",
         "12.1"
        ],
        [
         "27",
         "2025-03-29T03:00",
         "11.7"
        ],
        [
         "28",
         "2025-03-29T04:00",
         "11.7"
        ],
        [
         "29",
         "2025-03-29T05:00",
         "10.9"
        ],
        [
         "30",
         "2025-03-29T06:00",
         "11.5"
        ],
        [
         "31",
         "2025-03-29T07:00",
         "11.9"
        ],
        [
         "32",
         "2025-03-29T08:00",
         "11.8"
        ],
        [
         "33",
         "2025-03-29T09:00",
         "12.3"
        ],
        [
         "34",
         "2025-03-29T10:00",
         "12.4"
        ],
        [
         "35",
         "2025-03-29T11:00",
         "12.6"
        ],
        [
         "36",
         "2025-03-29T12:00",
         "12.9"
        ],
        [
         "37",
         "2025-03-29T13:00",
         "11.8"
        ],
        [
         "38",
         "2025-03-29T14:00",
         "12.5"
        ],
        [
         "39",
         "2025-03-29T15:00",
         "12.5"
        ],
        [
         "40",
         "2025-03-29T16:00",
         "12.7"
        ],
        [
         "41",
         "2025-03-29T17:00",
         "12.8"
        ],
        [
         "42",
         "2025-03-29T18:00",
         "12.3"
        ],
        [
         "43",
         "2025-03-29T19:00",
         "11.6"
        ],
        [
         "44",
         "2025-03-29T20:00",
         "11.2"
        ],
        [
         "45",
         "2025-03-29T21:00",
         "10.8"
        ],
        [
         "46",
         "2025-03-29T22:00",
         "10.4"
        ],
        [
         "47",
         "2025-03-29T23:00",
         "10.1"
        ],
        [
         "48",
         "2025-03-30T00:00",
         "10.1"
        ],
        [
         "49",
         "2025-03-30T01:00",
         "9.7"
        ]
       ],
       "shape": {
        "columns": 2,
        "rows": 168
       }
      },
      "text/html": [
       "<div>\n",
       "<style scoped>\n",
       "    .dataframe tbody tr th:only-of-type {\n",
       "        vertical-align: middle;\n",
       "    }\n",
       "\n",
       "    .dataframe tbody tr th {\n",
       "        vertical-align: top;\n",
       "    }\n",
       "\n",
       "    .dataframe thead th {\n",
       "        text-align: right;\n",
       "    }\n",
       "</style>\n",
       "<table border=\"1\" class=\"dataframe\">\n",
       "  <thead>\n",
       "    <tr style=\"text-align: right;\">\n",
       "      <th></th>\n",
       "      <th>Hora</th>\n",
       "      <th>Temperatura</th>\n",
       "    </tr>\n",
       "  </thead>\n",
       "  <tbody>\n",
       "    <tr>\n",
       "      <th>0</th>\n",
       "      <td>2025-03-28T00:00</td>\n",
       "      <td>11.7</td>\n",
       "    </tr>\n",
       "    <tr>\n",
       "      <th>1</th>\n",
       "      <td>2025-03-28T01:00</td>\n",
       "      <td>11.6</td>\n",
       "    </tr>\n",
       "    <tr>\n",
       "      <th>2</th>\n",
       "      <td>2025-03-28T02:00</td>\n",
       "      <td>11.0</td>\n",
       "    </tr>\n",
       "    <tr>\n",
       "      <th>3</th>\n",
       "      <td>2025-03-28T03:00</td>\n",
       "      <td>10.9</td>\n",
       "    </tr>\n",
       "    <tr>\n",
       "      <th>4</th>\n",
       "      <td>2025-03-28T04:00</td>\n",
       "      <td>11.4</td>\n",
       "    </tr>\n",
       "    <tr>\n",
       "      <th>...</th>\n",
       "      <td>...</td>\n",
       "      <td>...</td>\n",
       "    </tr>\n",
       "    <tr>\n",
       "      <th>163</th>\n",
       "      <td>2025-04-03T19:00</td>\n",
       "      <td>16.4</td>\n",
       "    </tr>\n",
       "    <tr>\n",
       "      <th>164</th>\n",
       "      <td>2025-04-03T20:00</td>\n",
       "      <td>13.7</td>\n",
       "    </tr>\n",
       "    <tr>\n",
       "      <th>165</th>\n",
       "      <td>2025-04-03T21:00</td>\n",
       "      <td>11.5</td>\n",
       "    </tr>\n",
       "    <tr>\n",
       "      <th>166</th>\n",
       "      <td>2025-04-03T22:00</td>\n",
       "      <td>10.1</td>\n",
       "    </tr>\n",
       "    <tr>\n",
       "      <th>167</th>\n",
       "      <td>2025-04-03T23:00</td>\n",
       "      <td>9.3</td>\n",
       "    </tr>\n",
       "  </tbody>\n",
       "</table>\n",
       "<p>168 rows × 2 columns</p>\n",
       "</div>"
      ],
      "text/plain": [
       "                 Hora  Temperatura\n",
       "0    2025-03-28T00:00         11.7\n",
       "1    2025-03-28T01:00         11.6\n",
       "2    2025-03-28T02:00         11.0\n",
       "3    2025-03-28T03:00         10.9\n",
       "4    2025-03-28T04:00         11.4\n",
       "..                ...          ...\n",
       "163  2025-04-03T19:00         16.4\n",
       "164  2025-04-03T20:00         13.7\n",
       "165  2025-04-03T21:00         11.5\n",
       "166  2025-04-03T22:00         10.1\n",
       "167  2025-04-03T23:00          9.3\n",
       "\n",
       "[168 rows x 2 columns]"
      ]
     },
     "execution_count": 4,
     "metadata": {},
     "output_type": "execute_result"
    }
   ],
   "source": [
    "data = pd.DataFrame({\"Hora\": responses[\"hourly\"][\"time\"], \"Temperatura\" : responses[\"hourly\"][\"temperature_2m\"]})\n",
    "\n",
    "data"
   ]
  },
  {
   "cell_type": "code",
   "execution_count": 7,
   "metadata": {},
   "outputs": [
    {
     "data": {
      "text/plain": [
       "([], [])"
      ]
     },
     "execution_count": 7,
     "metadata": {},
     "output_type": "execute_result"
    },
    {
     "data": {
      "image/png": "[encoded data removed]",
      "text/plain": [
       "<Figure size 640x480 with 1 Axes>"
      ]
     },
     "metadata": {},
     "output_type": "display_data"
    }
   ],
   "source": [
    "sns.lineplot(data=data, x=\"Hora\", y=\"Temperatura\")\n",
    "plt.xticks([])"
   ]
  }
 ],
 "metadata": {
  "kernelspec": {
   "display_name": "Python 3",
   "language": "python",
   "name": "python3"
  },
  "language_info": {
   "codemirror_mode": {
    "name": "ipython",
    "version": 3
   },
   "file_extension": ".py",
   "mimetype": "text/x-python",
   "name": "python",
   "nbconvert_exporter": "python",
   "pygments_lexer": "ipython3",
   "version": "3.13.1"
  }
 },
 "nbformat": 4,
 "nbformat_minor": 2
}
