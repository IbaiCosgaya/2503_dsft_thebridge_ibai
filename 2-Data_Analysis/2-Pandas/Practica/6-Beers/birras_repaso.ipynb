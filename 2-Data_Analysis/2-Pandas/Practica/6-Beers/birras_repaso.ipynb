{
 "cells": [
  {
   "attachments": {},
   "cell_type": "markdown",
   "metadata": {},
   "source": [
    "![imagen](https://cdn.foodbeast.com/content/wp-content/uploads/2012/03/beer-print-01-selectism.jpg)\n",
    "\n",
    "# Ejercicio pandas estadística\n",
    "Para este ejercicio se ha utilizado [un dataset de un concurso de kaggle](https://www.kaggle.com/nickhould/craft-cans), cuyo reto consiste en predecir el tipo de cerveza en función de sus características (nivel de alcohol, amargura, tamaño...).\n",
    "\n",
    "# Ejercicio 1\n",
    "Importa las librerias que consideres"
   ]
  },
  {
   "cell_type": "code",
   "execution_count": 51,
   "metadata": {},
   "outputs": [],
   "source": [
    "import numpy as np\n",
    "import pandas as pd"
   ]
  },
  {
   "attachments": {},
   "cell_type": "markdown",
   "metadata": {},
   "source": [
    "## Ejercicio 2\n",
    "1. Importa el dataset \"datasets_beer.csv\"\n",
    "2. Imprime por pantalla los primeros registros.\n",
    "3. ¿Cuáles son sus columnas?\n",
    "4. ¿Qué dimensiones tiene el DataFrame?"
   ]
  },
  {
   "cell_type": "code",
   "execution_count": 52,
   "metadata": {},
   "outputs": [
    {
     "data": {
      "application/vnd.microsoft.datawrangler.viewer.v0+json": {
       "columns": [
        {
         "name": "index",
         "rawType": "int64",
         "type": "integer"
        },
        {
         "name": "Unnamed: 0",
         "rawType": "int64",
         "type": "integer"
        },
        {
         "name": "abv",
         "rawType": "float64",
         "type": "float"
        },
        {
         "name": "ibu",
         "rawType": "float64",
         "type": "float"
        },
        {
         "name": "id",
         "rawType": "int64",
         "type": "integer"
        },
        {
         "name": "name",
         "rawType": "object",
         "type": "string"
        },
        {
         "name": "style",
         "rawType": "object",
         "type": "unknown"
        },
        {
         "name": "brewery_id",
         "rawType": "int64",
         "type": "integer"
        },
        {
         "name": "ounces",
         "rawType": "float64",
         "type": "float"
        }
       ],
       "conversionMethod": "pd.DataFrame",
       "ref": "374d4b48-e6a5-4689-9710-98cc17d0be4b",
       "rows": [
        [
         "0",
         "0",
         "0.05",
         null,
         "1436",
         "Pub Beer",
         "American Pale Lager",
         "408",
         "12.0"
        ],
        [
         "1",
         "1",
         "0.066",
         null,
         "2265",
         "Devil's Cup",
         "American Pale Ale (APA)",
         "177",
         "12.0"
        ],
        [
         "2",
         "2",
         "0.071",
         null,
         "2264",
         "Rise of the Phoenix",
         "American IPA",
         "177",
         "12.0"
        ],
        [
         "3",
         "3",
         "0.09",
         null,
         "2263",
         "Sinister",
         "American Double / Imperial IPA",
         "177",
         "12.0"
        ],
        [
         "4",
         "4",
         "0.075",
         null,
         "2262",
         "Sex and Candy",
         "American IPA",
         "177",
         "12.0"
        ],
        [
         "5",
         "5",
         "0.077",
         null,
         "2261",
         "Black Exodus",
         "Oatmeal Stout",
         "177",
         "12.0"
        ],
        [
         "6",
         "6",
         "0.045",
         null,
         "2260",
         "Lake Street Express",
         "American Pale Ale (APA)",
         "177",
         "12.0"
        ],
        [
         "7",
         "7",
         "0.065",
         null,
         "2259",
         "Foreman",
         "American Porter",
         "177",
         "12.0"
        ],
        [
         "8",
         "8",
         "0.055",
         null,
         "2258",
         "Jade",
         "American Pale Ale (APA)",
         "177",
         "12.0"
        ],
        [
         "9",
         "9",
         "0.086",
         null,
         "2131",
         "Cone Crusher",
         "American Double / Imperial IPA",
         "177",
         "12.0"
        ],
        [
         "10",
         "10",
         "0.072",
         null,
         "2099",
         "Sophomoric Saison",
         "Saison / Farmhouse Ale",
         "177",
         "12.0"
        ],
        [
         "11",
         "11",
         "0.073",
         null,
         "2098",
         "Regional Ring Of Fire",
         "Saison / Farmhouse Ale",
         "177",
         "12.0"
        ],
        [
         "12",
         "12",
         "0.069",
         null,
         "2097",
         "Garce Selé",
         "Saison / Farmhouse Ale",
         "177",
         "12.0"
        ],
        [
         "13",
         "13",
         "0.085",
         null,
         "1980",
         "Troll Destroyer",
         "Belgian IPA",
         "177",
         "12.0"
        ],
        [
         "14",
         "14",
         "0.061",
         "60.0",
         "1979",
         "Bitter Bitch",
         "American Pale Ale (APA)",
         "177",
         "12.0"
        ],
        [
         "15",
         "15",
         "0.06",
         null,
         "2318",
         "Ginja Ninja",
         "Cider",
         "154",
         "12.0"
        ],
        [
         "16",
         "16",
         "0.06",
         null,
         "2170",
         "Cherried Away",
         "Cider",
         "154",
         "12.0"
        ],
        [
         "17",
         "17",
         "0.06",
         null,
         "2169",
         "Rhubarbarian",
         "Cider",
         "154",
         "12.0"
        ],
        [
         "18",
         "18",
         "0.06",
         null,
         "1502",
         "BrightCider",
         "Cider",
         "154",
         "12.0"
        ],
        [
         "19",
         "19",
         "0.0819999999999999",
         null,
         "1593",
         "He Said Baltic-Style Porter",
         "Baltic Porter",
         "368",
         "12.0"
        ],
        [
         "20",
         "20",
         "0.0819999999999999",
         null,
         "1592",
         "He Said Belgian-Style Tripel",
         "Tripel",
         "368",
         "12.0"
        ],
        [
         "21",
         "21",
         "0.099",
         "92.0",
         "1036",
         "Lower De Boom",
         "American Barleywine",
         "368",
         "8.4"
        ],
        [
         "22",
         "22",
         "0.079",
         "45.0",
         "1024",
         "Fireside Chat",
         "Winter Warmer",
         "368",
         "12.0"
        ],
        [
         "23",
         "23",
         "0.079",
         null,
         "976",
         "Marooned On Hog Island",
         "American Stout",
         "368",
         "12.0"
        ],
        [
         "24",
         "24",
         "0.044",
         "42.0",
         "876",
         "Bitter American",
         "American Pale Ale (APA)",
         "368",
         "12.0"
        ],
        [
         "25",
         "25",
         "0.049",
         "17.0",
         "802",
         "Hell or High Watermelon Wheat (2009)",
         "Fruit / Vegetable Beer",
         "368",
         "12.0"
        ],
        [
         "26",
         "26",
         "0.049",
         "17.0",
         "801",
         "Hell or High Watermelon Wheat (2009)",
         "Fruit / Vegetable Beer",
         "368",
         "12.0"
        ],
        [
         "27",
         "27",
         "0.049",
         "17.0",
         "800",
         "21st Amendment Watermelon Wheat Beer (2006)",
         "Fruit / Vegetable Beer",
         "368",
         "12.0"
        ],
        [
         "28",
         "28",
         "0.07",
         "70.0",
         "799",
         "21st Amendment IPA (2006)",
         "American IPA",
         "368",
         "12.0"
        ],
        [
         "29",
         "29",
         "0.07",
         "70.0",
         "797",
         "Brew Free! or Die IPA (2008)",
         "American IPA",
         "368",
         "12.0"
        ],
        [
         "30",
         "30",
         "0.07",
         "70.0",
         "796",
         "Brew Free! or Die IPA (2009)",
         "American IPA",
         "368",
         "12.0"
        ],
        [
         "31",
         "31",
         "0.085",
         "52.0",
         "531",
         "Special Edition: Allies Win The War!",
         "English Strong Ale",
         "368",
         "12.0"
        ],
        [
         "32",
         "32",
         "0.0969999999999999",
         "94.0",
         "432",
         "Hop Crisis",
         "American Double / Imperial IPA",
         "368",
         "12.0"
        ],
        [
         "33",
         "33",
         "0.044",
         "42.0",
         "353",
         "Bitter American (2011)",
         "American Pale Ale (APA)",
         "368",
         "12.0"
        ],
        [
         "34",
         "34",
         "0.079",
         "45.0",
         "321",
         "Fireside Chat (2010)",
         "Winter Warmer",
         "368",
         "12.0"
        ],
        [
         "35",
         "35",
         "0.068",
         "65.0",
         "173",
         "Back in Black",
         "American Black Ale",
         "368",
         "12.0"
        ],
        [
         "36",
         "36",
         "0.083",
         "35.0",
         "11",
         "Monk's Blood",
         "Belgian Dark Ale",
         "368",
         "12.0"
        ],
        [
         "37",
         "37",
         "0.07",
         "65.0",
         "10",
         "Brew Free! or Die IPA",
         "American IPA",
         "368",
         "12.0"
        ],
        [
         "38",
         "38",
         "0.049",
         "17.0",
         "9",
         "Hell or High Watermelon Wheat",
         "Fruit / Vegetable Beer",
         "368",
         "12.0"
        ],
        [
         "39",
         "39",
         "0.07",
         "82.0",
         "2519",
         "Bimini Twist",
         "American IPA",
         "67",
         "12.0"
        ],
        [
         "40",
         "40",
         "0.05",
         null,
         "2518",
         "Beach Blonde",
         "American Blonde Ale",
         "67",
         "12.0"
        ],
        [
         "41",
         "41",
         "0.059",
         null,
         "2517",
         "Rod Bender Red",
         "American Amber / Red Ale",
         "67",
         "12.0"
        ],
        [
         "42",
         "42",
         "0.035",
         "11.0",
         "2545",
         "Passion Fruit Prussia",
         "Berliner Weissbier",
         "60",
         "12.0"
        ],
        [
         "43",
         "43",
         "0.045",
         "18.0",
         "2544",
         "Send Help",
         "American Blonde Ale",
         "60",
         "12.0"
        ],
        [
         "44",
         "44",
         "0.055",
         null,
         "2324",
         "Cast Iron Oatmeal Brown",
         "American Brown Ale",
         "60",
         "12.0"
        ],
        [
         "45",
         "45",
         "0.06",
         null,
         "2288",
         "Reprise Centennial Red",
         "American Amber / Red Ale",
         "60",
         "12.0"
        ],
        [
         "46",
         "46",
         "0.055",
         null,
         "2287",
         "Alter Ego",
         "American Black Ale",
         "60",
         "12.0"
        ],
        [
         "47",
         "47",
         "0.065",
         null,
         "2286",
         "Divided Sky",
         "American IPA",
         "60",
         "12.0"
        ],
        [
         "48",
         "48",
         "0.065",
         null,
         "2285",
         "Resurrected",
         "American IPA",
         "60",
         "12.0"
        ],
        [
         "49",
         "49",
         "0.05",
         "28.0",
         "1870",
         "Contact High",
         "American Pale Wheat Ale",
         "60",
         "12.0"
        ]
       ],
       "shape": {
        "columns": 8,
        "rows": 2410
       }
      },
      "text/html": [
       "<div>\n",
       "<style scoped>\n",
       "    .dataframe tbody tr th:only-of-type {\n",
       "        vertical-align: middle;\n",
       "    }\n",
       "\n",
       "    .dataframe tbody tr th {\n",
       "        vertical-align: top;\n",
       "    }\n",
       "\n",
       "    .dataframe thead th {\n",
       "        text-align: right;\n",
       "    }\n",
       "</style>\n",
       "<table border=\"1\" class=\"dataframe\">\n",
       "  <thead>\n",
       "    <tr style=\"text-align: right;\">\n",
       "      <th></th>\n",
       "      <th>Unnamed: 0</th>\n",
       "      <th>abv</th>\n",
       "      <th>ibu</th>\n",
       "      <th>id</th>\n",
       "      <th>name</th>\n",
       "      <th>style</th>\n",
       "      <th>brewery_id</th>\n",
       "      <th>ounces</th>\n",
       "    </tr>\n",
       "  </thead>\n",
       "  <tbody>\n",
       "    <tr>\n",
       "      <th>0</th>\n",
       "      <td>0</td>\n",
       "      <td>0.050</td>\n",
       "      <td>NaN</td>\n",
       "      <td>1436</td>\n",
       "      <td>Pub Beer</td>\n",
       "      <td>American Pale Lager</td>\n",
       "      <td>408</td>\n",
       "      <td>12.0</td>\n",
       "    </tr>\n",
       "    <tr>\n",
       "      <th>1</th>\n",
       "      <td>1</td>\n",
       "      <td>0.066</td>\n",
       "      <td>NaN</td>\n",
       "      <td>2265</td>\n",
       "      <td>Devil's Cup</td>\n",
       "      <td>American Pale Ale (APA)</td>\n",
       "      <td>177</td>\n",
       "      <td>12.0</td>\n",
       "    </tr>\n",
       "    <tr>\n",
       "      <th>2</th>\n",
       "      <td>2</td>\n",
       "      <td>0.071</td>\n",
       "      <td>NaN</td>\n",
       "      <td>2264</td>\n",
       "      <td>Rise of the Phoenix</td>\n",
       "      <td>American IPA</td>\n",
       "      <td>177</td>\n",
       "      <td>12.0</td>\n",
       "    </tr>\n",
       "    <tr>\n",
       "      <th>3</th>\n",
       "      <td>3</td>\n",
       "      <td>0.090</td>\n",
       "      <td>NaN</td>\n",
       "      <td>2263</td>\n",
       "      <td>Sinister</td>\n",
       "      <td>American Double / Imperial IPA</td>\n",
       "      <td>177</td>\n",
       "      <td>12.0</td>\n",
       "    </tr>\n",
       "    <tr>\n",
       "      <th>4</th>\n",
       "      <td>4</td>\n",
       "      <td>0.075</td>\n",
       "      <td>NaN</td>\n",
       "      <td>2262</td>\n",
       "      <td>Sex and Candy</td>\n",
       "      <td>American IPA</td>\n",
       "      <td>177</td>\n",
       "      <td>12.0</td>\n",
       "    </tr>\n",
       "    <tr>\n",
       "      <th>...</th>\n",
       "      <td>...</td>\n",
       "      <td>...</td>\n",
       "      <td>...</td>\n",
       "      <td>...</td>\n",
       "      <td>...</td>\n",
       "      <td>...</td>\n",
       "      <td>...</td>\n",
       "      <td>...</td>\n",
       "    </tr>\n",
       "    <tr>\n",
       "      <th>2405</th>\n",
       "      <td>2405</td>\n",
       "      <td>0.067</td>\n",
       "      <td>45.0</td>\n",
       "      <td>928</td>\n",
       "      <td>Belgorado</td>\n",
       "      <td>Belgian IPA</td>\n",
       "      <td>424</td>\n",
       "      <td>12.0</td>\n",
       "    </tr>\n",
       "    <tr>\n",
       "      <th>2406</th>\n",
       "      <td>2406</td>\n",
       "      <td>0.052</td>\n",
       "      <td>NaN</td>\n",
       "      <td>807</td>\n",
       "      <td>Rail Yard Ale</td>\n",
       "      <td>American Amber / Red Ale</td>\n",
       "      <td>424</td>\n",
       "      <td>12.0</td>\n",
       "    </tr>\n",
       "    <tr>\n",
       "      <th>2407</th>\n",
       "      <td>2407</td>\n",
       "      <td>0.055</td>\n",
       "      <td>NaN</td>\n",
       "      <td>620</td>\n",
       "      <td>B3K Black Lager</td>\n",
       "      <td>Schwarzbier</td>\n",
       "      <td>424</td>\n",
       "      <td>12.0</td>\n",
       "    </tr>\n",
       "    <tr>\n",
       "      <th>2408</th>\n",
       "      <td>2408</td>\n",
       "      <td>0.055</td>\n",
       "      <td>40.0</td>\n",
       "      <td>145</td>\n",
       "      <td>Silverback Pale Ale</td>\n",
       "      <td>American Pale Ale (APA)</td>\n",
       "      <td>424</td>\n",
       "      <td>12.0</td>\n",
       "    </tr>\n",
       "    <tr>\n",
       "      <th>2409</th>\n",
       "      <td>2409</td>\n",
       "      <td>0.052</td>\n",
       "      <td>NaN</td>\n",
       "      <td>84</td>\n",
       "      <td>Rail Yard Ale (2009)</td>\n",
       "      <td>American Amber / Red Ale</td>\n",
       "      <td>424</td>\n",
       "      <td>12.0</td>\n",
       "    </tr>\n",
       "  </tbody>\n",
       "</table>\n",
       "<p>2410 rows × 8 columns</p>\n",
       "</div>"
      ],
      "text/plain": [
       "      Unnamed: 0    abv   ibu    id                  name  \\\n",
       "0              0  0.050   NaN  1436              Pub Beer   \n",
       "1              1  0.066   NaN  2265           Devil's Cup   \n",
       "2              2  0.071   NaN  2264   Rise of the Phoenix   \n",
       "3              3  0.090   NaN  2263              Sinister   \n",
       "4              4  0.075   NaN  2262         Sex and Candy   \n",
       "...          ...    ...   ...   ...                   ...   \n",
       "2405        2405  0.067  45.0   928             Belgorado   \n",
       "2406        2406  0.052   NaN   807         Rail Yard Ale   \n",
       "2407        2407  0.055   NaN   620       B3K Black Lager   \n",
       "2408        2408  0.055  40.0   145   Silverback Pale Ale   \n",
       "2409        2409  0.052   NaN    84  Rail Yard Ale (2009)   \n",
       "\n",
       "                               style  brewery_id  ounces  \n",
       "0                American Pale Lager         408    12.0  \n",
       "1            American Pale Ale (APA)         177    12.0  \n",
       "2                       American IPA         177    12.0  \n",
       "3     American Double / Imperial IPA         177    12.0  \n",
       "4                       American IPA         177    12.0  \n",
       "...                              ...         ...     ...  \n",
       "2405                     Belgian IPA         424    12.0  \n",
       "2406        American Amber / Red Ale         424    12.0  \n",
       "2407                     Schwarzbier         424    12.0  \n",
       "2408         American Pale Ale (APA)         424    12.0  \n",
       "2409        American Amber / Red Ale         424    12.0  \n",
       "\n",
       "[2410 rows x 8 columns]"
      ]
     },
     "execution_count": 52,
     "metadata": {},
     "output_type": "execute_result"
    }
   ],
   "source": [
    "birra = pd.read_csv('data/datasets_beers.csv')\n",
    "birra"
   ]
  },
  {
   "cell_type": "code",
   "execution_count": 53,
   "metadata": {},
   "outputs": [
    {
     "data": {
      "application/vnd.microsoft.datawrangler.viewer.v0+json": {
       "columns": [
        {
         "name": "index",
         "rawType": "int64",
         "type": "integer"
        },
        {
         "name": "Unnamed: 0",
         "rawType": "int64",
         "type": "integer"
        },
        {
         "name": "abv",
         "rawType": "float64",
         "type": "float"
        },
        {
         "name": "ibu",
         "rawType": "float64",
         "type": "float"
        },
        {
         "name": "id",
         "rawType": "int64",
         "type": "integer"
        },
        {
         "name": "name",
         "rawType": "object",
         "type": "string"
        },
        {
         "name": "style",
         "rawType": "object",
         "type": "string"
        },
        {
         "name": "brewery_id",
         "rawType": "int64",
         "type": "integer"
        },
        {
         "name": "ounces",
         "rawType": "float64",
         "type": "float"
        }
       ],
       "conversionMethod": "pd.DataFrame",
       "ref": "27ac556f-a283-4776-8c27-dd5eb8e48464",
       "rows": [
        [
         "0",
         "0",
         "0.05",
         null,
         "1436",
         "Pub Beer",
         "American Pale Lager",
         "408",
         "12.0"
        ],
        [
         "1",
         "1",
         "0.066",
         null,
         "2265",
         "Devil's Cup",
         "American Pale Ale (APA)",
         "177",
         "12.0"
        ],
        [
         "2",
         "2",
         "0.071",
         null,
         "2264",
         "Rise of the Phoenix",
         "American IPA",
         "177",
         "12.0"
        ],
        [
         "3",
         "3",
         "0.09",
         null,
         "2263",
         "Sinister",
         "American Double / Imperial IPA",
         "177",
         "12.0"
        ],
        [
         "4",
         "4",
         "0.075",
         null,
         "2262",
         "Sex and Candy",
         "American IPA",
         "177",
         "12.0"
        ]
       ],
       "shape": {
        "columns": 8,
        "rows": 5
       }
      },
      "text/html": [
       "<div>\n",
       "<style scoped>\n",
       "    .dataframe tbody tr th:only-of-type {\n",
       "        vertical-align: middle;\n",
       "    }\n",
       "\n",
       "    .dataframe tbody tr th {\n",
       "        vertical-align: top;\n",
       "    }\n",
       "\n",
       "    .dataframe thead th {\n",
       "        text-align: right;\n",
       "    }\n",
       "</style>\n",
       "<table border=\"1\" class=\"dataframe\">\n",
       "  <thead>\n",
       "    <tr style=\"text-align: right;\">\n",
       "      <th></th>\n",
       "      <th>Unnamed: 0</th>\n",
       "      <th>abv</th>\n",
       "      <th>ibu</th>\n",
       "      <th>id</th>\n",
       "      <th>name</th>\n",
       "      <th>style</th>\n",
       "      <th>brewery_id</th>\n",
       "      <th>ounces</th>\n",
       "    </tr>\n",
       "  </thead>\n",
       "  <tbody>\n",
       "    <tr>\n",
       "      <th>0</th>\n",
       "      <td>0</td>\n",
       "      <td>0.050</td>\n",
       "      <td>NaN</td>\n",
       "      <td>1436</td>\n",
       "      <td>Pub Beer</td>\n",
       "      <td>American Pale Lager</td>\n",
       "      <td>408</td>\n",
       "      <td>12.0</td>\n",
       "    </tr>\n",
       "    <tr>\n",
       "      <th>1</th>\n",
       "      <td>1</td>\n",
       "      <td>0.066</td>\n",
       "      <td>NaN</td>\n",
       "      <td>2265</td>\n",
       "      <td>Devil's Cup</td>\n",
       "      <td>American Pale Ale (APA)</td>\n",
       "      <td>177</td>\n",
       "      <td>12.0</td>\n",
       "    </tr>\n",
       "    <tr>\n",
       "      <th>2</th>\n",
       "      <td>2</td>\n",
       "      <td>0.071</td>\n",
       "      <td>NaN</td>\n",
       "      <td>2264</td>\n",
       "      <td>Rise of the Phoenix</td>\n",
       "      <td>American IPA</td>\n",
       "      <td>177</td>\n",
       "      <td>12.0</td>\n",
       "    </tr>\n",
       "    <tr>\n",
       "      <th>3</th>\n",
       "      <td>3</td>\n",
       "      <td>0.090</td>\n",
       "      <td>NaN</td>\n",
       "      <td>2263</td>\n",
       "      <td>Sinister</td>\n",
       "      <td>American Double / Imperial IPA</td>\n",
       "      <td>177</td>\n",
       "      <td>12.0</td>\n",
       "    </tr>\n",
       "    <tr>\n",
       "      <th>4</th>\n",
       "      <td>4</td>\n",
       "      <td>0.075</td>\n",
       "      <td>NaN</td>\n",
       "      <td>2262</td>\n",
       "      <td>Sex and Candy</td>\n",
       "      <td>American IPA</td>\n",
       "      <td>177</td>\n",
       "      <td>12.0</td>\n",
       "    </tr>\n",
       "  </tbody>\n",
       "</table>\n",
       "</div>"
      ],
      "text/plain": [
       "   Unnamed: 0    abv  ibu    id                 name  \\\n",
       "0           0  0.050  NaN  1436             Pub Beer   \n",
       "1           1  0.066  NaN  2265          Devil's Cup   \n",
       "2           2  0.071  NaN  2264  Rise of the Phoenix   \n",
       "3           3  0.090  NaN  2263             Sinister   \n",
       "4           4  0.075  NaN  2262        Sex and Candy   \n",
       "\n",
       "                            style  brewery_id  ounces  \n",
       "0             American Pale Lager         408    12.0  \n",
       "1         American Pale Ale (APA)         177    12.0  \n",
       "2                    American IPA         177    12.0  \n",
       "3  American Double / Imperial IPA         177    12.0  \n",
       "4                    American IPA         177    12.0  "
      ]
     },
     "execution_count": 53,
     "metadata": {},
     "output_type": "execute_result"
    }
   ],
   "source": [
    "birra.head()"
   ]
  },
  {
   "cell_type": "code",
   "execution_count": 54,
   "metadata": {},
   "outputs": [
    {
     "data": {
      "text/plain": [
       "['Unnamed: 0', 'abv', 'ibu', 'id', 'name', 'style', 'brewery_id', 'ounces']"
      ]
     },
     "execution_count": 54,
     "metadata": {},
     "output_type": "execute_result"
    }
   ],
   "source": [
    "list(birra.columns)"
   ]
  },
  {
   "cell_type": "code",
   "execution_count": 55,
   "metadata": {},
   "outputs": [
    {
     "data": {
      "text/plain": [
       "(2410, 8)"
      ]
     },
     "execution_count": 55,
     "metadata": {},
     "output_type": "execute_result"
    }
   ],
   "source": [
    "birra.shape"
   ]
  },
  {
   "attachments": {},
   "cell_type": "markdown",
   "metadata": {},
   "source": [
    "## Ejercicio 3\n",
    "[Elimina la columna \"Unnamed: 0\"](https://pandas.pydata.org/pandas-docs/stable/reference/api/pandas.DataFrame.drop.html)"
   ]
  },
  {
   "cell_type": "code",
   "execution_count": null,
   "metadata": {},
   "outputs": [],
   "source": [
    "birra.drop(columns=['Unnamed: 0'], inplace=True)\n",
    "\n"
   ]
  },
  {
   "cell_type": "code",
   "execution_count": 64,
   "metadata": {},
   "outputs": [
    {
     "data": {
      "application/vnd.microsoft.datawrangler.viewer.v0+json": {
       "columns": [
        {
         "name": "index",
         "rawType": "int64",
         "type": "integer"
        },
        {
         "name": "abv",
         "rawType": "float64",
         "type": "float"
        },
        {
         "name": "ibu",
         "rawType": "float64",
         "type": "float"
        },
        {
         "name": "id",
         "rawType": "int64",
         "type": "integer"
        },
        {
         "name": "name",
         "rawType": "object",
         "type": "string"
        },
        {
         "name": "style",
         "rawType": "object",
         "type": "unknown"
        },
        {
         "name": "brewery_id",
         "rawType": "int64",
         "type": "integer"
        },
        {
         "name": "ounces",
         "rawType": "float64",
         "type": "float"
        }
       ],
       "conversionMethod": "pd.DataFrame",
       "ref": "bfb51486-617e-4a81-94ec-bcaf4390bca2",
       "rows": [
        [
         "0",
         "0.05",
         null,
         "1436",
         "Pub Beer",
         "American Pale Lager",
         "408",
         "12.0"
        ],
        [
         "1",
         "0.066",
         null,
         "2265",
         "Devil's Cup",
         "American Pale Ale (APA)",
         "177",
         "12.0"
        ],
        [
         "2",
         "0.071",
         null,
         "2264",
         "Rise of the Phoenix",
         "American IPA",
         "177",
         "12.0"
        ],
        [
         "3",
         "0.09",
         null,
         "2263",
         "Sinister",
         "American Double / Imperial IPA",
         "177",
         "12.0"
        ],
        [
         "4",
         "0.075",
         null,
         "2262",
         "Sex and Candy",
         "American IPA",
         "177",
         "12.0"
        ],
        [
         "5",
         "0.077",
         null,
         "2261",
         "Black Exodus",
         "Oatmeal Stout",
         "177",
         "12.0"
        ],
        [
         "6",
         "0.045",
         null,
         "2260",
         "Lake Street Express",
         "American Pale Ale (APA)",
         "177",
         "12.0"
        ],
        [
         "7",
         "0.065",
         null,
         "2259",
         "Foreman",
         "American Porter",
         "177",
         "12.0"
        ],
        [
         "8",
         "0.055",
         null,
         "2258",
         "Jade",
         "American Pale Ale (APA)",
         "177",
         "12.0"
        ],
        [
         "9",
         "0.086",
         null,
         "2131",
         "Cone Crusher",
         "American Double / Imperial IPA",
         "177",
         "12.0"
        ],
        [
         "10",
         "0.072",
         null,
         "2099",
         "Sophomoric Saison",
         "Saison / Farmhouse Ale",
         "177",
         "12.0"
        ],
        [
         "11",
         "0.073",
         null,
         "2098",
         "Regional Ring Of Fire",
         "Saison / Farmhouse Ale",
         "177",
         "12.0"
        ],
        [
         "12",
         "0.069",
         null,
         "2097",
         "Garce Selé",
         "Saison / Farmhouse Ale",
         "177",
         "12.0"
        ],
        [
         "13",
         "0.085",
         null,
         "1980",
         "Troll Destroyer",
         "Belgian IPA",
         "177",
         "12.0"
        ],
        [
         "14",
         "0.061",
         "60.0",
         "1979",
         "Bitter Bitch",
         "American Pale Ale (APA)",
         "177",
         "12.0"
        ],
        [
         "15",
         "0.06",
         null,
         "2318",
         "Ginja Ninja",
         "Cider",
         "154",
         "12.0"
        ],
        [
         "16",
         "0.06",
         null,
         "2170",
         "Cherried Away",
         "Cider",
         "154",
         "12.0"
        ],
        [
         "17",
         "0.06",
         null,
         "2169",
         "Rhubarbarian",
         "Cider",
         "154",
         "12.0"
        ],
        [
         "18",
         "0.06",
         null,
         "1502",
         "BrightCider",
         "Cider",
         "154",
         "12.0"
        ],
        [
         "19",
         "0.0819999999999999",
         null,
         "1593",
         "He Said Baltic-Style Porter",
         "Baltic Porter",
         "368",
         "12.0"
        ],
        [
         "20",
         "0.0819999999999999",
         null,
         "1592",
         "He Said Belgian-Style Tripel",
         "Tripel",
         "368",
         "12.0"
        ],
        [
         "21",
         "0.099",
         "92.0",
         "1036",
         "Lower De Boom",
         "American Barleywine",
         "368",
         "8.4"
        ],
        [
         "22",
         "0.079",
         "45.0",
         "1024",
         "Fireside Chat",
         "Winter Warmer",
         "368",
         "12.0"
        ],
        [
         "23",
         "0.079",
         null,
         "976",
         "Marooned On Hog Island",
         "American Stout",
         "368",
         "12.0"
        ],
        [
         "24",
         "0.044",
         "42.0",
         "876",
         "Bitter American",
         "American Pale Ale (APA)",
         "368",
         "12.0"
        ],
        [
         "25",
         "0.049",
         "17.0",
         "802",
         "Hell or High Watermelon Wheat (2009)",
         "Fruit / Vegetable Beer",
         "368",
         "12.0"
        ],
        [
         "26",
         "0.049",
         "17.0",
         "801",
         "Hell or High Watermelon Wheat (2009)",
         "Fruit / Vegetable Beer",
         "368",
         "12.0"
        ],
        [
         "27",
         "0.049",
         "17.0",
         "800",
         "21st Amendment Watermelon Wheat Beer (2006)",
         "Fruit / Vegetable Beer",
         "368",
         "12.0"
        ],
        [
         "28",
         "0.07",
         "70.0",
         "799",
         "21st Amendment IPA (2006)",
         "American IPA",
         "368",
         "12.0"
        ],
        [
         "29",
         "0.07",
         "70.0",
         "797",
         "Brew Free! or Die IPA (2008)",
         "American IPA",
         "368",
         "12.0"
        ],
        [
         "30",
         "0.07",
         "70.0",
         "796",
         "Brew Free! or Die IPA (2009)",
         "American IPA",
         "368",
         "12.0"
        ],
        [
         "31",
         "0.085",
         "52.0",
         "531",
         "Special Edition: Allies Win The War!",
         "English Strong Ale",
         "368",
         "12.0"
        ],
        [
         "32",
         "0.0969999999999999",
         "94.0",
         "432",
         "Hop Crisis",
         "American Double / Imperial IPA",
         "368",
         "12.0"
        ],
        [
         "33",
         "0.044",
         "42.0",
         "353",
         "Bitter American (2011)",
         "American Pale Ale (APA)",
         "368",
         "12.0"
        ],
        [
         "34",
         "0.079",
         "45.0",
         "321",
         "Fireside Chat (2010)",
         "Winter Warmer",
         "368",
         "12.0"
        ],
        [
         "35",
         "0.068",
         "65.0",
         "173",
         "Back in Black",
         "American Black Ale",
         "368",
         "12.0"
        ],
        [
         "36",
         "0.083",
         "35.0",
         "11",
         "Monk's Blood",
         "Belgian Dark Ale",
         "368",
         "12.0"
        ],
        [
         "37",
         "0.07",
         "65.0",
         "10",
         "Brew Free! or Die IPA",
         "American IPA",
         "368",
         "12.0"
        ],
        [
         "38",
         "0.049",
         "17.0",
         "9",
         "Hell or High Watermelon Wheat",
         "Fruit / Vegetable Beer",
         "368",
         "12.0"
        ],
        [
         "39",
         "0.07",
         "82.0",
         "2519",
         "Bimini Twist",
         "American IPA",
         "67",
         "12.0"
        ],
        [
         "40",
         "0.05",
         null,
         "2518",
         "Beach Blonde",
         "American Blonde Ale",
         "67",
         "12.0"
        ],
        [
         "41",
         "0.059",
         null,
         "2517",
         "Rod Bender Red",
         "American Amber / Red Ale",
         "67",
         "12.0"
        ],
        [
         "42",
         "0.035",
         "11.0",
         "2545",
         "Passion Fruit Prussia",
         "Berliner Weissbier",
         "60",
         "12.0"
        ],
        [
         "43",
         "0.045",
         "18.0",
         "2544",
         "Send Help",
         "American Blonde Ale",
         "60",
         "12.0"
        ],
        [
         "44",
         "0.055",
         null,
         "2324",
         "Cast Iron Oatmeal Brown",
         "American Brown Ale",
         "60",
         "12.0"
        ],
        [
         "45",
         "0.06",
         null,
         "2288",
         "Reprise Centennial Red",
         "American Amber / Red Ale",
         "60",
         "12.0"
        ],
        [
         "46",
         "0.055",
         null,
         "2287",
         "Alter Ego",
         "American Black Ale",
         "60",
         "12.0"
        ],
        [
         "47",
         "0.065",
         null,
         "2286",
         "Divided Sky",
         "American IPA",
         "60",
         "12.0"
        ],
        [
         "48",
         "0.065",
         null,
         "2285",
         "Resurrected",
         "American IPA",
         "60",
         "12.0"
        ],
        [
         "49",
         "0.05",
         "28.0",
         "1870",
         "Contact High",
         "American Pale Wheat Ale",
         "60",
         "12.0"
        ]
       ],
       "shape": {
        "columns": 7,
        "rows": 2410
       }
      },
      "text/html": [
       "<div>\n",
       "<style scoped>\n",
       "    .dataframe tbody tr th:only-of-type {\n",
       "        vertical-align: middle;\n",
       "    }\n",
       "\n",
       "    .dataframe tbody tr th {\n",
       "        vertical-align: top;\n",
       "    }\n",
       "\n",
       "    .dataframe thead th {\n",
       "        text-align: right;\n",
       "    }\n",
       "</style>\n",
       "<table border=\"1\" class=\"dataframe\">\n",
       "  <thead>\n",
       "    <tr style=\"text-align: right;\">\n",
       "      <th></th>\n",
       "      <th>abv</th>\n",
       "      <th>ibu</th>\n",
       "      <th>id</th>\n",
       "      <th>name</th>\n",
       "      <th>style</th>\n",
       "      <th>brewery_id</th>\n",
       "      <th>ounces</th>\n",
       "    </tr>\n",
       "  </thead>\n",
       "  <tbody>\n",
       "    <tr>\n",
       "      <th>0</th>\n",
       "      <td>0.050</td>\n",
       "      <td>NaN</td>\n",
       "      <td>1436</td>\n",
       "      <td>Pub Beer</td>\n",
       "      <td>American Pale Lager</td>\n",
       "      <td>408</td>\n",
       "      <td>12.0</td>\n",
       "    </tr>\n",
       "    <tr>\n",
       "      <th>1</th>\n",
       "      <td>0.066</td>\n",
       "      <td>NaN</td>\n",
       "      <td>2265</td>\n",
       "      <td>Devil's Cup</td>\n",
       "      <td>American Pale Ale (APA)</td>\n",
       "      <td>177</td>\n",
       "      <td>12.0</td>\n",
       "    </tr>\n",
       "    <tr>\n",
       "      <th>2</th>\n",
       "      <td>0.071</td>\n",
       "      <td>NaN</td>\n",
       "      <td>2264</td>\n",
       "      <td>Rise of the Phoenix</td>\n",
       "      <td>American IPA</td>\n",
       "      <td>177</td>\n",
       "      <td>12.0</td>\n",
       "    </tr>\n",
       "    <tr>\n",
       "      <th>3</th>\n",
       "      <td>0.090</td>\n",
       "      <td>NaN</td>\n",
       "      <td>2263</td>\n",
       "      <td>Sinister</td>\n",
       "      <td>American Double / Imperial IPA</td>\n",
       "      <td>177</td>\n",
       "      <td>12.0</td>\n",
       "    </tr>\n",
       "    <tr>\n",
       "      <th>4</th>\n",
       "      <td>0.075</td>\n",
       "      <td>NaN</td>\n",
       "      <td>2262</td>\n",
       "      <td>Sex and Candy</td>\n",
       "      <td>American IPA</td>\n",
       "      <td>177</td>\n",
       "      <td>12.0</td>\n",
       "    </tr>\n",
       "    <tr>\n",
       "      <th>...</th>\n",
       "      <td>...</td>\n",
       "      <td>...</td>\n",
       "      <td>...</td>\n",
       "      <td>...</td>\n",
       "      <td>...</td>\n",
       "      <td>...</td>\n",
       "      <td>...</td>\n",
       "    </tr>\n",
       "    <tr>\n",
       "      <th>2405</th>\n",
       "      <td>0.067</td>\n",
       "      <td>45.0</td>\n",
       "      <td>928</td>\n",
       "      <td>Belgorado</td>\n",
       "      <td>Belgian IPA</td>\n",
       "      <td>424</td>\n",
       "      <td>12.0</td>\n",
       "    </tr>\n",
       "    <tr>\n",
       "      <th>2406</th>\n",
       "      <td>0.052</td>\n",
       "      <td>NaN</td>\n",
       "      <td>807</td>\n",
       "      <td>Rail Yard Ale</td>\n",
       "      <td>American Amber / Red Ale</td>\n",
       "      <td>424</td>\n",
       "      <td>12.0</td>\n",
       "    </tr>\n",
       "    <tr>\n",
       "      <th>2407</th>\n",
       "      <td>0.055</td>\n",
       "      <td>NaN</td>\n",
       "      <td>620</td>\n",
       "      <td>B3K Black Lager</td>\n",
       "      <td>Schwarzbier</td>\n",
       "      <td>424</td>\n",
       "      <td>12.0</td>\n",
       "    </tr>\n",
       "    <tr>\n",
       "      <th>2408</th>\n",
       "      <td>0.055</td>\n",
       "      <td>40.0</td>\n",
       "      <td>145</td>\n",
       "      <td>Silverback Pale Ale</td>\n",
       "      <td>American Pale Ale (APA)</td>\n",
       "      <td>424</td>\n",
       "      <td>12.0</td>\n",
       "    </tr>\n",
       "    <tr>\n",
       "      <th>2409</th>\n",
       "      <td>0.052</td>\n",
       "      <td>NaN</td>\n",
       "      <td>84</td>\n",
       "      <td>Rail Yard Ale (2009)</td>\n",
       "      <td>American Amber / Red Ale</td>\n",
       "      <td>424</td>\n",
       "      <td>12.0</td>\n",
       "    </tr>\n",
       "  </tbody>\n",
       "</table>\n",
       "<p>2410 rows × 7 columns</p>\n",
       "</div>"
      ],
      "text/plain": [
       "        abv   ibu    id                  name                           style  \\\n",
       "0     0.050   NaN  1436              Pub Beer             American Pale Lager   \n",
       "1     0.066   NaN  2265           Devil's Cup         American Pale Ale (APA)   \n",
       "2     0.071   NaN  2264   Rise of the Phoenix                    American IPA   \n",
       "3     0.090   NaN  2263              Sinister  American Double / Imperial IPA   \n",
       "4     0.075   NaN  2262         Sex and Candy                    American IPA   \n",
       "...     ...   ...   ...                   ...                             ...   \n",
       "2405  0.067  45.0   928             Belgorado                     Belgian IPA   \n",
       "2406  0.052   NaN   807         Rail Yard Ale        American Amber / Red Ale   \n",
       "2407  0.055   NaN   620       B3K Black Lager                     Schwarzbier   \n",
       "2408  0.055  40.0   145   Silverback Pale Ale         American Pale Ale (APA)   \n",
       "2409  0.052   NaN    84  Rail Yard Ale (2009)        American Amber / Red Ale   \n",
       "\n",
       "      brewery_id  ounces  \n",
       "0            408    12.0  \n",
       "1            177    12.0  \n",
       "2            177    12.0  \n",
       "3            177    12.0  \n",
       "4            177    12.0  \n",
       "...          ...     ...  \n",
       "2405         424    12.0  \n",
       "2406         424    12.0  \n",
       "2407         424    12.0  \n",
       "2408         424    12.0  \n",
       "2409         424    12.0  \n",
       "\n",
       "[2410 rows x 7 columns]"
      ]
     },
     "execution_count": 64,
     "metadata": {},
     "output_type": "execute_result"
    }
   ],
   "source": [
    "birra"
   ]
  },
  {
   "attachments": {},
   "cell_type": "markdown",
   "metadata": {},
   "source": [
    "## Ejercicio 4\n",
    "¿Cuántas filas y columnas tiene el dataset?"
   ]
  },
  {
   "cell_type": "code",
   "execution_count": 57,
   "metadata": {},
   "outputs": [
    {
     "name": "stdout",
     "output_type": "stream",
     "text": [
      "Filas: 2410\n",
      "FColumnas: 8\n"
     ]
    }
   ],
   "source": [
    "print(\"Filas:\",len(birra))\n",
    "print(\"FColumnas:\", birra.shape[1])"
   ]
  },
  {
   "attachments": {},
   "cell_type": "markdown",
   "metadata": {},
   "source": [
    "## Ejercicio 5\n",
    "¿De qué tipo son los datos?"
   ]
  },
  {
   "cell_type": "code",
   "execution_count": 65,
   "metadata": {},
   "outputs": [
    {
     "data": {
      "text/plain": [
       "abv           float64\n",
       "ibu           float64\n",
       "id              int64\n",
       "name           object\n",
       "style          object\n",
       "brewery_id      int64\n",
       "ounces        float64\n",
       "dtype: object"
      ]
     },
     "execution_count": 65,
     "metadata": {},
     "output_type": "execute_result"
    }
   ],
   "source": [
    "birra.dtypes"
   ]
  },
  {
   "attachments": {},
   "cell_type": "markdown",
   "metadata": {},
   "source": [
    "## Ejercicio 6\n",
    "Obtén en un nuevo DataFrame un resumen con las principales estadísticas de las columnas numéricas: mean, max, count, cuartiles..."
   ]
  },
  {
   "cell_type": "code",
   "execution_count": 67,
   "metadata": {},
   "outputs": [
    {
     "data": {
      "application/vnd.microsoft.datawrangler.viewer.v0+json": {
       "columns": [
        {
         "name": "index",
         "rawType": "object",
         "type": "string"
        },
        {
         "name": "abv",
         "rawType": "float64",
         "type": "float"
        },
        {
         "name": "ibu",
         "rawType": "float64",
         "type": "float"
        },
        {
         "name": "id",
         "rawType": "float64",
         "type": "float"
        },
        {
         "name": "brewery_id",
         "rawType": "float64",
         "type": "float"
        },
        {
         "name": "ounces",
         "rawType": "float64",
         "type": "float"
        }
       ],
       "conversionMethod": "pd.DataFrame",
       "ref": "a3514bb1-44e6-4fac-a583-16b2584de392",
       "rows": [
        [
         "count",
         "2348.0",
         "1405.0",
         "2410.0",
         "2410.0",
         "2410.0"
        ],
        [
         "mean",
         "0.05977342419080067",
         "42.71316725978647",
         "1431.1132780082987",
         "231.74979253112033",
         "13.592240663900414"
        ],
        [
         "std",
         "0.013541733716680264",
         "25.954065911259317",
         "752.4599745599074",
         "157.68560410041619",
         "2.3522036778603734"
        ],
        [
         "min",
         "0.001",
         "4.0",
         "1.0",
         "0.0",
         "8.4"
        ],
        [
         "25%",
         "0.05",
         "21.0",
         "808.25",
         "93.0",
         "12.0"
        ],
        [
         "50%",
         "0.0559999999999999",
         "35.0",
         "1453.5",
         "205.0",
         "12.0"
        ],
        [
         "75%",
         "0.067",
         "64.0",
         "2075.75",
         "366.0",
         "16.0"
        ],
        [
         "max",
         "0.128",
         "138.0",
         "2692.0",
         "557.0",
         "32.0"
        ]
       ],
       "shape": {
        "columns": 5,
        "rows": 8
       }
      },
      "text/html": [
       "<div>\n",
       "<style scoped>\n",
       "    .dataframe tbody tr th:only-of-type {\n",
       "        vertical-align: middle;\n",
       "    }\n",
       "\n",
       "    .dataframe tbody tr th {\n",
       "        vertical-align: top;\n",
       "    }\n",
       "\n",
       "    .dataframe thead th {\n",
       "        text-align: right;\n",
       "    }\n",
       "</style>\n",
       "<table border=\"1\" class=\"dataframe\">\n",
       "  <thead>\n",
       "    <tr style=\"text-align: right;\">\n",
       "      <th></th>\n",
       "      <th>abv</th>\n",
       "      <th>ibu</th>\n",
       "      <th>id</th>\n",
       "      <th>brewery_id</th>\n",
       "      <th>ounces</th>\n",
       "    </tr>\n",
       "  </thead>\n",
       "  <tbody>\n",
       "    <tr>\n",
       "      <th>count</th>\n",
       "      <td>2348.000000</td>\n",
       "      <td>1405.000000</td>\n",
       "      <td>2410.000000</td>\n",
       "      <td>2410.000000</td>\n",
       "      <td>2410.000000</td>\n",
       "    </tr>\n",
       "    <tr>\n",
       "      <th>mean</th>\n",
       "      <td>0.059773</td>\n",
       "      <td>42.713167</td>\n",
       "      <td>1431.113278</td>\n",
       "      <td>231.749793</td>\n",
       "      <td>13.592241</td>\n",
       "    </tr>\n",
       "    <tr>\n",
       "      <th>std</th>\n",
       "      <td>0.013542</td>\n",
       "      <td>25.954066</td>\n",
       "      <td>752.459975</td>\n",
       "      <td>157.685604</td>\n",
       "      <td>2.352204</td>\n",
       "    </tr>\n",
       "    <tr>\n",
       "      <th>min</th>\n",
       "      <td>0.001000</td>\n",
       "      <td>4.000000</td>\n",
       "      <td>1.000000</td>\n",
       "      <td>0.000000</td>\n",
       "      <td>8.400000</td>\n",
       "    </tr>\n",
       "    <tr>\n",
       "      <th>25%</th>\n",
       "      <td>0.050000</td>\n",
       "      <td>21.000000</td>\n",
       "      <td>808.250000</td>\n",
       "      <td>93.000000</td>\n",
       "      <td>12.000000</td>\n",
       "    </tr>\n",
       "    <tr>\n",
       "      <th>50%</th>\n",
       "      <td>0.056000</td>\n",
       "      <td>35.000000</td>\n",
       "      <td>1453.500000</td>\n",
       "      <td>205.000000</td>\n",
       "      <td>12.000000</td>\n",
       "    </tr>\n",
       "    <tr>\n",
       "      <th>75%</th>\n",
       "      <td>0.067000</td>\n",
       "      <td>64.000000</td>\n",
       "      <td>2075.750000</td>\n",
       "      <td>366.000000</td>\n",
       "      <td>16.000000</td>\n",
       "    </tr>\n",
       "    <tr>\n",
       "      <th>max</th>\n",
       "      <td>0.128000</td>\n",
       "      <td>138.000000</td>\n",
       "      <td>2692.000000</td>\n",
       "      <td>557.000000</td>\n",
       "      <td>32.000000</td>\n",
       "    </tr>\n",
       "  </tbody>\n",
       "</table>\n",
       "</div>"
      ],
      "text/plain": [
       "               abv          ibu           id   brewery_id       ounces\n",
       "count  2348.000000  1405.000000  2410.000000  2410.000000  2410.000000\n",
       "mean      0.059773    42.713167  1431.113278   231.749793    13.592241\n",
       "std       0.013542    25.954066   752.459975   157.685604     2.352204\n",
       "min       0.001000     4.000000     1.000000     0.000000     8.400000\n",
       "25%       0.050000    21.000000   808.250000    93.000000    12.000000\n",
       "50%       0.056000    35.000000  1453.500000   205.000000    12.000000\n",
       "75%       0.067000    64.000000  2075.750000   366.000000    16.000000\n",
       "max       0.128000   138.000000  2692.000000   557.000000    32.000000"
      ]
     },
     "execution_count": 67,
     "metadata": {},
     "output_type": "execute_result"
    }
   ],
   "source": [
    "resumen = birra.describe()\n",
    "resumen"
   ]
  },
  {
   "attachments": {},
   "cell_type": "markdown",
   "metadata": {},
   "source": [
    "## Ejercicio 7\n",
    "¿Cuántas birras hay de cada estilo en este dataset? [Investiga en la documentación de Series](https://pandas.pydata.org/pandas-docs/stable/reference/api/pandas.Series.html) si puedes hacer un conteo de valores."
   ]
  },
  {
   "cell_type": "code",
   "execution_count": 80,
   "metadata": {},
   "outputs": [
    {
     "data": {
      "text/plain": [
       "style\n",
       "Abbey Single Ale                2\n",
       "Altbier                        13\n",
       "American Adjunct Lager         18\n",
       "American Amber / Red Ale      133\n",
       "American Amber / Red Lager     29\n",
       "                             ... \n",
       "Tripel                         11\n",
       "Vienna Lager                   20\n",
       "Wheat Ale                       1\n",
       "Winter Warmer                  15\n",
       "Witbier                        51\n",
       "Name: name, Length: 99, dtype: int64"
      ]
     },
     "execution_count": 80,
     "metadata": {},
     "output_type": "execute_result"
    }
   ],
   "source": [
    "# birra[\"style\"].unique().shape[0]\n",
    "birra.groupby(\"style\")[\"name\"].count()\n"
   ]
  },
  {
   "attachments": {},
   "cell_type": "markdown",
   "metadata": {},
   "source": [
    "## Ejercicio 8\n",
    "1. Imprime por pantalla los registros desde el décimo hasta el vigésimo\n",
    "2. De esos registros, imprime por pantalla desde la columna `name` a `ounces`, ambas incluidas\n",
    "3. Quédate con las columnas `abv`, `ibu` y `ounces`, y además quédate sólo con los registros 10 al 20.\n",
    "4. Convierte el resultado del apartado 3 en un array de `numpy`"
   ]
  },
  {
   "cell_type": "code",
   "execution_count": 75,
   "metadata": {},
   "outputs": [
    {
     "data": {
      "application/vnd.microsoft.datawrangler.viewer.v0+json": {
       "columns": [
        {
         "name": "index",
         "rawType": "int64",
         "type": "integer"
        },
        {
         "name": "abv",
         "rawType": "float64",
         "type": "float"
        },
        {
         "name": "ibu",
         "rawType": "float64",
         "type": "float"
        },
        {
         "name": "id",
         "rawType": "int64",
         "type": "integer"
        },
        {
         "name": "name",
         "rawType": "object",
         "type": "string"
        },
        {
         "name": "style",
         "rawType": "object",
         "type": "string"
        },
        {
         "name": "brewery_id",
         "rawType": "int64",
         "type": "integer"
        },
        {
         "name": "ounces",
         "rawType": "float64",
         "type": "float"
        }
       ],
       "conversionMethod": "pd.DataFrame",
       "ref": "1a15f6fb-6d14-46aa-9bc8-f0a7b4825e84",
       "rows": [
        [
         "10",
         "0.072",
         null,
         "2099",
         "Sophomoric Saison",
         "Saison / Farmhouse Ale",
         "177",
         "12.0"
        ],
        [
         "11",
         "0.073",
         null,
         "2098",
         "Regional Ring Of Fire",
         "Saison / Farmhouse Ale",
         "177",
         "12.0"
        ],
        [
         "12",
         "0.069",
         null,
         "2097",
         "Garce Selé",
         "Saison / Farmhouse Ale",
         "177",
         "12.0"
        ],
        [
         "13",
         "0.085",
         null,
         "1980",
         "Troll Destroyer",
         "Belgian IPA",
         "177",
         "12.0"
        ],
        [
         "14",
         "0.061",
         "60.0",
         "1979",
         "Bitter Bitch",
         "American Pale Ale (APA)",
         "177",
         "12.0"
        ],
        [
         "15",
         "0.06",
         null,
         "2318",
         "Ginja Ninja",
         "Cider",
         "154",
         "12.0"
        ],
        [
         "16",
         "0.06",
         null,
         "2170",
         "Cherried Away",
         "Cider",
         "154",
         "12.0"
        ],
        [
         "17",
         "0.06",
         null,
         "2169",
         "Rhubarbarian",
         "Cider",
         "154",
         "12.0"
        ],
        [
         "18",
         "0.06",
         null,
         "1502",
         "BrightCider",
         "Cider",
         "154",
         "12.0"
        ],
        [
         "19",
         "0.0819999999999999",
         null,
         "1593",
         "He Said Baltic-Style Porter",
         "Baltic Porter",
         "368",
         "12.0"
        ],
        [
         "20",
         "0.0819999999999999",
         null,
         "1592",
         "He Said Belgian-Style Tripel",
         "Tripel",
         "368",
         "12.0"
        ]
       ],
       "shape": {
        "columns": 7,
        "rows": 11
       }
      },
      "text/html": [
       "<div>\n",
       "<style scoped>\n",
       "    .dataframe tbody tr th:only-of-type {\n",
       "        vertical-align: middle;\n",
       "    }\n",
       "\n",
       "    .dataframe tbody tr th {\n",
       "        vertical-align: top;\n",
       "    }\n",
       "\n",
       "    .dataframe thead th {\n",
       "        text-align: right;\n",
       "    }\n",
       "</style>\n",
       "<table border=\"1\" class=\"dataframe\">\n",
       "  <thead>\n",
       "    <tr style=\"text-align: right;\">\n",
       "      <th></th>\n",
       "      <th>abv</th>\n",
       "      <th>ibu</th>\n",
       "      <th>id</th>\n",
       "      <th>name</th>\n",
       "      <th>style</th>\n",
       "      <th>brewery_id</th>\n",
       "      <th>ounces</th>\n",
       "    </tr>\n",
       "  </thead>\n",
       "  <tbody>\n",
       "    <tr>\n",
       "      <th>10</th>\n",
       "      <td>0.072</td>\n",
       "      <td>NaN</td>\n",
       "      <td>2099</td>\n",
       "      <td>Sophomoric Saison</td>\n",
       "      <td>Saison / Farmhouse Ale</td>\n",
       "      <td>177</td>\n",
       "      <td>12.0</td>\n",
       "    </tr>\n",
       "    <tr>\n",
       "      <th>11</th>\n",
       "      <td>0.073</td>\n",
       "      <td>NaN</td>\n",
       "      <td>2098</td>\n",
       "      <td>Regional Ring Of Fire</td>\n",
       "      <td>Saison / Farmhouse Ale</td>\n",
       "      <td>177</td>\n",
       "      <td>12.0</td>\n",
       "    </tr>\n",
       "    <tr>\n",
       "      <th>12</th>\n",
       "      <td>0.069</td>\n",
       "      <td>NaN</td>\n",
       "      <td>2097</td>\n",
       "      <td>Garce Selé</td>\n",
       "      <td>Saison / Farmhouse Ale</td>\n",
       "      <td>177</td>\n",
       "      <td>12.0</td>\n",
       "    </tr>\n",
       "    <tr>\n",
       "      <th>13</th>\n",
       "      <td>0.085</td>\n",
       "      <td>NaN</td>\n",
       "      <td>1980</td>\n",
       "      <td>Troll Destroyer</td>\n",
       "      <td>Belgian IPA</td>\n",
       "      <td>177</td>\n",
       "      <td>12.0</td>\n",
       "    </tr>\n",
       "    <tr>\n",
       "      <th>14</th>\n",
       "      <td>0.061</td>\n",
       "      <td>60.0</td>\n",
       "      <td>1979</td>\n",
       "      <td>Bitter Bitch</td>\n",
       "      <td>American Pale Ale (APA)</td>\n",
       "      <td>177</td>\n",
       "      <td>12.0</td>\n",
       "    </tr>\n",
       "    <tr>\n",
       "      <th>15</th>\n",
       "      <td>0.060</td>\n",
       "      <td>NaN</td>\n",
       "      <td>2318</td>\n",
       "      <td>Ginja Ninja</td>\n",
       "      <td>Cider</td>\n",
       "      <td>154</td>\n",
       "      <td>12.0</td>\n",
       "    </tr>\n",
       "    <tr>\n",
       "      <th>16</th>\n",
       "      <td>0.060</td>\n",
       "      <td>NaN</td>\n",
       "      <td>2170</td>\n",
       "      <td>Cherried Away</td>\n",
       "      <td>Cider</td>\n",
       "      <td>154</td>\n",
       "      <td>12.0</td>\n",
       "    </tr>\n",
       "    <tr>\n",
       "      <th>17</th>\n",
       "      <td>0.060</td>\n",
       "      <td>NaN</td>\n",
       "      <td>2169</td>\n",
       "      <td>Rhubarbarian</td>\n",
       "      <td>Cider</td>\n",
       "      <td>154</td>\n",
       "      <td>12.0</td>\n",
       "    </tr>\n",
       "    <tr>\n",
       "      <th>18</th>\n",
       "      <td>0.060</td>\n",
       "      <td>NaN</td>\n",
       "      <td>1502</td>\n",
       "      <td>BrightCider</td>\n",
       "      <td>Cider</td>\n",
       "      <td>154</td>\n",
       "      <td>12.0</td>\n",
       "    </tr>\n",
       "    <tr>\n",
       "      <th>19</th>\n",
       "      <td>0.082</td>\n",
       "      <td>NaN</td>\n",
       "      <td>1593</td>\n",
       "      <td>He Said Baltic-Style Porter</td>\n",
       "      <td>Baltic Porter</td>\n",
       "      <td>368</td>\n",
       "      <td>12.0</td>\n",
       "    </tr>\n",
       "    <tr>\n",
       "      <th>20</th>\n",
       "      <td>0.082</td>\n",
       "      <td>NaN</td>\n",
       "      <td>1592</td>\n",
       "      <td>He Said Belgian-Style Tripel</td>\n",
       "      <td>Tripel</td>\n",
       "      <td>368</td>\n",
       "      <td>12.0</td>\n",
       "    </tr>\n",
       "  </tbody>\n",
       "</table>\n",
       "</div>"
      ],
      "text/plain": [
       "      abv   ibu    id                          name                    style  \\\n",
       "10  0.072   NaN  2099             Sophomoric Saison   Saison / Farmhouse Ale   \n",
       "11  0.073   NaN  2098         Regional Ring Of Fire   Saison / Farmhouse Ale   \n",
       "12  0.069   NaN  2097                    Garce Selé   Saison / Farmhouse Ale   \n",
       "13  0.085   NaN  1980               Troll Destroyer              Belgian IPA   \n",
       "14  0.061  60.0  1979                  Bitter Bitch  American Pale Ale (APA)   \n",
       "15  0.060   NaN  2318                   Ginja Ninja                    Cider   \n",
       "16  0.060   NaN  2170                 Cherried Away                    Cider   \n",
       "17  0.060   NaN  2169                  Rhubarbarian                    Cider   \n",
       "18  0.060   NaN  1502                   BrightCider                    Cider   \n",
       "19  0.082   NaN  1593   He Said Baltic-Style Porter            Baltic Porter   \n",
       "20  0.082   NaN  1592  He Said Belgian-Style Tripel                   Tripel   \n",
       "\n",
       "    brewery_id  ounces  \n",
       "10         177    12.0  \n",
       "11         177    12.0  \n",
       "12         177    12.0  \n",
       "13         177    12.0  \n",
       "14         177    12.0  \n",
       "15         154    12.0  \n",
       "16         154    12.0  \n",
       "17         154    12.0  \n",
       "18         154    12.0  \n",
       "19         368    12.0  \n",
       "20         368    12.0  "
      ]
     },
     "execution_count": 75,
     "metadata": {},
     "output_type": "execute_result"
    }
   ],
   "source": [
    "ejer_8 = birra.loc[10:20,:]\n",
    "ejer_8"
   ]
  },
  {
   "cell_type": "code",
   "execution_count": 82,
   "metadata": {},
   "outputs": [
    {
     "data": {
      "application/vnd.microsoft.datawrangler.viewer.v0+json": {
       "columns": [
        {
         "name": "index",
         "rawType": "int64",
         "type": "integer"
        },
        {
         "name": "name",
         "rawType": "object",
         "type": "string"
        },
        {
         "name": "style",
         "rawType": "object",
         "type": "string"
        },
        {
         "name": "brewery_id",
         "rawType": "int64",
         "type": "integer"
        },
        {
         "name": "ounces",
         "rawType": "float64",
         "type": "float"
        }
       ],
       "conversionMethod": "pd.DataFrame",
       "ref": "0bdb3a5e-e8ed-4242-b1dd-1433f49ba713",
       "rows": [
        [
         "10",
         "Sophomoric Saison",
         "Saison / Farmhouse Ale",
         "177",
         "12.0"
        ],
        [
         "11",
         "Regional Ring Of Fire",
         "Saison / Farmhouse Ale",
         "177",
         "12.0"
        ],
        [
         "12",
         "Garce Selé",
         "Saison / Farmhouse Ale",
         "177",
         "12.0"
        ],
        [
         "13",
         "Troll Destroyer",
         "Belgian IPA",
         "177",
         "12.0"
        ],
        [
         "14",
         "Bitter Bitch",
         "American Pale Ale (APA)",
         "177",
         "12.0"
        ],
        [
         "15",
         "Ginja Ninja",
         "Cider",
         "154",
         "12.0"
        ],
        [
         "16",
         "Cherried Away",
         "Cider",
         "154",
         "12.0"
        ],
        [
         "17",
         "Rhubarbarian",
         "Cider",
         "154",
         "12.0"
        ],
        [
         "18",
         "BrightCider",
         "Cider",
         "154",
         "12.0"
        ],
        [
         "19",
         "He Said Baltic-Style Porter",
         "Baltic Porter",
         "368",
         "12.0"
        ],
        [
         "20",
         "He Said Belgian-Style Tripel",
         "Tripel",
         "368",
         "12.0"
        ]
       ],
       "shape": {
        "columns": 4,
        "rows": 11
       }
      },
      "text/html": [
       "<div>\n",
       "<style scoped>\n",
       "    .dataframe tbody tr th:only-of-type {\n",
       "        vertical-align: middle;\n",
       "    }\n",
       "\n",
       "    .dataframe tbody tr th {\n",
       "        vertical-align: top;\n",
       "    }\n",
       "\n",
       "    .dataframe thead th {\n",
       "        text-align: right;\n",
       "    }\n",
       "</style>\n",
       "<table border=\"1\" class=\"dataframe\">\n",
       "  <thead>\n",
       "    <tr style=\"text-align: right;\">\n",
       "      <th></th>\n",
       "      <th>name</th>\n",
       "      <th>style</th>\n",
       "      <th>brewery_id</th>\n",
       "      <th>ounces</th>\n",
       "    </tr>\n",
       "  </thead>\n",
       "  <tbody>\n",
       "    <tr>\n",
       "      <th>10</th>\n",
       "      <td>Sophomoric Saison</td>\n",
       "      <td>Saison / Farmhouse Ale</td>\n",
       "      <td>177</td>\n",
       "      <td>12.0</td>\n",
       "    </tr>\n",
       "    <tr>\n",
       "      <th>11</th>\n",
       "      <td>Regional Ring Of Fire</td>\n",
       "      <td>Saison / Farmhouse Ale</td>\n",
       "      <td>177</td>\n",
       "      <td>12.0</td>\n",
       "    </tr>\n",
       "    <tr>\n",
       "      <th>12</th>\n",
       "      <td>Garce Selé</td>\n",
       "      <td>Saison / Farmhouse Ale</td>\n",
       "      <td>177</td>\n",
       "      <td>12.0</td>\n",
       "    </tr>\n",
       "    <tr>\n",
       "      <th>13</th>\n",
       "      <td>Troll Destroyer</td>\n",
       "      <td>Belgian IPA</td>\n",
       "      <td>177</td>\n",
       "      <td>12.0</td>\n",
       "    </tr>\n",
       "    <tr>\n",
       "      <th>14</th>\n",
       "      <td>Bitter Bitch</td>\n",
       "      <td>American Pale Ale (APA)</td>\n",
       "      <td>177</td>\n",
       "      <td>12.0</td>\n",
       "    </tr>\n",
       "    <tr>\n",
       "      <th>15</th>\n",
       "      <td>Ginja Ninja</td>\n",
       "      <td>Cider</td>\n",
       "      <td>154</td>\n",
       "      <td>12.0</td>\n",
       "    </tr>\n",
       "    <tr>\n",
       "      <th>16</th>\n",
       "      <td>Cherried Away</td>\n",
       "      <td>Cider</td>\n",
       "      <td>154</td>\n",
       "      <td>12.0</td>\n",
       "    </tr>\n",
       "    <tr>\n",
       "      <th>17</th>\n",
       "      <td>Rhubarbarian</td>\n",
       "      <td>Cider</td>\n",
       "      <td>154</td>\n",
       "      <td>12.0</td>\n",
       "    </tr>\n",
       "    <tr>\n",
       "      <th>18</th>\n",
       "      <td>BrightCider</td>\n",
       "      <td>Cider</td>\n",
       "      <td>154</td>\n",
       "      <td>12.0</td>\n",
       "    </tr>\n",
       "    <tr>\n",
       "      <th>19</th>\n",
       "      <td>He Said Baltic-Style Porter</td>\n",
       "      <td>Baltic Porter</td>\n",
       "      <td>368</td>\n",
       "      <td>12.0</td>\n",
       "    </tr>\n",
       "    <tr>\n",
       "      <th>20</th>\n",
       "      <td>He Said Belgian-Style Tripel</td>\n",
       "      <td>Tripel</td>\n",
       "      <td>368</td>\n",
       "      <td>12.0</td>\n",
       "    </tr>\n",
       "  </tbody>\n",
       "</table>\n",
       "</div>"
      ],
      "text/plain": [
       "                            name                    style  brewery_id  ounces\n",
       "10             Sophomoric Saison   Saison / Farmhouse Ale         177    12.0\n",
       "11         Regional Ring Of Fire   Saison / Farmhouse Ale         177    12.0\n",
       "12                    Garce Selé   Saison / Farmhouse Ale         177    12.0\n",
       "13               Troll Destroyer              Belgian IPA         177    12.0\n",
       "14                  Bitter Bitch  American Pale Ale (APA)         177    12.0\n",
       "15                   Ginja Ninja                    Cider         154    12.0\n",
       "16                 Cherried Away                    Cider         154    12.0\n",
       "17                  Rhubarbarian                    Cider         154    12.0\n",
       "18                   BrightCider                    Cider         154    12.0\n",
       "19   He Said Baltic-Style Porter            Baltic Porter         368    12.0\n",
       "20  He Said Belgian-Style Tripel                   Tripel         368    12.0"
      ]
     },
     "execution_count": 82,
     "metadata": {},
     "output_type": "execute_result"
    }
   ],
   "source": [
    "ejer_8.loc[:, \"name\":\"ounces\"]"
   ]
  },
  {
   "cell_type": "code",
   "execution_count": 84,
   "metadata": {},
   "outputs": [
    {
     "data": {
      "application/vnd.microsoft.datawrangler.viewer.v0+json": {
       "columns": [
        {
         "name": "index",
         "rawType": "int64",
         "type": "integer"
        },
        {
         "name": "abv",
         "rawType": "float64",
         "type": "float"
        },
        {
         "name": "ibu",
         "rawType": "float64",
         "type": "float"
        },
        {
         "name": "ounces",
         "rawType": "float64",
         "type": "float"
        }
       ],
       "conversionMethod": "pd.DataFrame",
       "ref": "bffa8e76-f747-48ac-827a-772e1320ee71",
       "rows": [
        [
         "10",
         "0.072",
         null,
         "12.0"
        ],
        [
         "11",
         "0.073",
         null,
         "12.0"
        ],
        [
         "12",
         "0.069",
         null,
         "12.0"
        ],
        [
         "13",
         "0.085",
         null,
         "12.0"
        ],
        [
         "14",
         "0.061",
         "60.0",
         "12.0"
        ],
        [
         "15",
         "0.06",
         null,
         "12.0"
        ],
        [
         "16",
         "0.06",
         null,
         "12.0"
        ],
        [
         "17",
         "0.06",
         null,
         "12.0"
        ],
        [
         "18",
         "0.06",
         null,
         "12.0"
        ],
        [
         "19",
         "0.0819999999999999",
         null,
         "12.0"
        ],
        [
         "20",
         "0.0819999999999999",
         null,
         "12.0"
        ]
       ],
       "shape": {
        "columns": 3,
        "rows": 11
       }
      },
      "text/html": [
       "<div>\n",
       "<style scoped>\n",
       "    .dataframe tbody tr th:only-of-type {\n",
       "        vertical-align: middle;\n",
       "    }\n",
       "\n",
       "    .dataframe tbody tr th {\n",
       "        vertical-align: top;\n",
       "    }\n",
       "\n",
       "    .dataframe thead th {\n",
       "        text-align: right;\n",
       "    }\n",
       "</style>\n",
       "<table border=\"1\" class=\"dataframe\">\n",
       "  <thead>\n",
       "    <tr style=\"text-align: right;\">\n",
       "      <th></th>\n",
       "      <th>abv</th>\n",
       "      <th>ibu</th>\n",
       "      <th>ounces</th>\n",
       "    </tr>\n",
       "  </thead>\n",
       "  <tbody>\n",
       "    <tr>\n",
       "      <th>10</th>\n",
       "      <td>0.072</td>\n",
       "      <td>NaN</td>\n",
       "      <td>12.0</td>\n",
       "    </tr>\n",
       "    <tr>\n",
       "      <th>11</th>\n",
       "      <td>0.073</td>\n",
       "      <td>NaN</td>\n",
       "      <td>12.0</td>\n",
       "    </tr>\n",
       "    <tr>\n",
       "      <th>12</th>\n",
       "      <td>0.069</td>\n",
       "      <td>NaN</td>\n",
       "      <td>12.0</td>\n",
       "    </tr>\n",
       "    <tr>\n",
       "      <th>13</th>\n",
       "      <td>0.085</td>\n",
       "      <td>NaN</td>\n",
       "      <td>12.0</td>\n",
       "    </tr>\n",
       "    <tr>\n",
       "      <th>14</th>\n",
       "      <td>0.061</td>\n",
       "      <td>60.0</td>\n",
       "      <td>12.0</td>\n",
       "    </tr>\n",
       "    <tr>\n",
       "      <th>15</th>\n",
       "      <td>0.060</td>\n",
       "      <td>NaN</td>\n",
       "      <td>12.0</td>\n",
       "    </tr>\n",
       "    <tr>\n",
       "      <th>16</th>\n",
       "      <td>0.060</td>\n",
       "      <td>NaN</td>\n",
       "      <td>12.0</td>\n",
       "    </tr>\n",
       "    <tr>\n",
       "      <th>17</th>\n",
       "      <td>0.060</td>\n",
       "      <td>NaN</td>\n",
       "      <td>12.0</td>\n",
       "    </tr>\n",
       "    <tr>\n",
       "      <th>18</th>\n",
       "      <td>0.060</td>\n",
       "      <td>NaN</td>\n",
       "      <td>12.0</td>\n",
       "    </tr>\n",
       "    <tr>\n",
       "      <th>19</th>\n",
       "      <td>0.082</td>\n",
       "      <td>NaN</td>\n",
       "      <td>12.0</td>\n",
       "    </tr>\n",
       "    <tr>\n",
       "      <th>20</th>\n",
       "      <td>0.082</td>\n",
       "      <td>NaN</td>\n",
       "      <td>12.0</td>\n",
       "    </tr>\n",
       "  </tbody>\n",
       "</table>\n",
       "</div>"
      ],
      "text/plain": [
       "      abv   ibu  ounces\n",
       "10  0.072   NaN    12.0\n",
       "11  0.073   NaN    12.0\n",
       "12  0.069   NaN    12.0\n",
       "13  0.085   NaN    12.0\n",
       "14  0.061  60.0    12.0\n",
       "15  0.060   NaN    12.0\n",
       "16  0.060   NaN    12.0\n",
       "17  0.060   NaN    12.0\n",
       "18  0.060   NaN    12.0\n",
       "19  0.082   NaN    12.0\n",
       "20  0.082   NaN    12.0"
      ]
     },
     "execution_count": 84,
     "metadata": {},
     "output_type": "execute_result"
    }
   ],
   "source": [
    "ejer_8_1 = ejer_8[[\"abv\",\"ibu\",\"ounces\"]]\n",
    "ejer_8_1"
   ]
  },
  {
   "cell_type": "code",
   "execution_count": 85,
   "metadata": {},
   "outputs": [
    {
     "data": {
      "text/plain": [
       "array([[ 0.072,    nan, 12.   ],\n",
       "       [ 0.073,    nan, 12.   ],\n",
       "       [ 0.069,    nan, 12.   ],\n",
       "       [ 0.085,    nan, 12.   ],\n",
       "       [ 0.061, 60.   , 12.   ],\n",
       "       [ 0.06 ,    nan, 12.   ],\n",
       "       [ 0.06 ,    nan, 12.   ],\n",
       "       [ 0.06 ,    nan, 12.   ],\n",
       "       [ 0.06 ,    nan, 12.   ],\n",
       "       [ 0.082,    nan, 12.   ],\n",
       "       [ 0.082,    nan, 12.   ]])"
      ]
     },
     "execution_count": 85,
     "metadata": {},
     "output_type": "execute_result"
    }
   ],
   "source": [
    "ejer_8_1.to_numpy()"
   ]
  },
  {
   "attachments": {},
   "cell_type": "markdown",
   "metadata": {},
   "source": [
    "## Ejercicio 9\n",
    "¿Cuántas onzas pesan todas las birras del dataset?"
   ]
  },
  {
   "cell_type": "code",
   "execution_count": null,
   "metadata": {},
   "outputs": [
    {
     "data": {
      "text/plain": [
       "np.float64(32757.3)"
      ]
     },
     "execution_count": 79,
     "metadata": {},
     "output_type": "execute_result"
    }
   ],
   "source": [
    "birra[\"ounces\"].sum()"
   ]
  },
  {
   "attachments": {},
   "cell_type": "markdown",
   "metadata": {},
   "source": [
    "## Ejercicio 10\n",
    "El amargor de las cervezas se mide por su nivel de IBUs.\n",
    "1. ¿Cuál es el amargor medio de las cervezas?\n",
    "2. ¿El máximo? ¿Y el mínimo?\n",
    "3. ¿Qué cerveza es la que tiene el amargor máximo? ¿Cuál es la de amargor mínimo?"
   ]
  },
  {
   "cell_type": "code",
   "execution_count": 92,
   "metadata": {},
   "outputs": [
    {
     "data": {
      "text/plain": [
       "np.float64(42.7)"
      ]
     },
     "execution_count": 92,
     "metadata": {},
     "output_type": "execute_result"
    }
   ],
   "source": [
    "birra[\"ibu\"].mean().round(1)"
   ]
  },
  {
   "cell_type": "code",
   "execution_count": 95,
   "metadata": {},
   "outputs": [
    {
     "name": "stdout",
     "output_type": "stream",
     "text": [
      "138.0 4.0\n"
     ]
    }
   ],
   "source": [
    "max_ibu = birra[\"ibu\"].max()\n",
    "min_ibu = birra[\"ibu\"].min()\n",
    "print(max_ibu,min_ibu)"
   ]
  },
  {
   "cell_type": "code",
   "execution_count": 99,
   "metadata": {},
   "outputs": [
    {
     "data": {
      "text/plain": [
       "'Bitter Bitch Imperial IPA'"
      ]
     },
     "execution_count": 99,
     "metadata": {},
     "output_type": "execute_result"
    }
   ],
   "source": [
    "max_ibu_id = birra[[\"ibu\"]].idxmax().values[0]\n",
    "beer_name = birra.loc[max_ibu_id, \"name\"]\n",
    "beer_name"
   ]
  },
  {
   "attachments": {},
   "cell_type": "markdown",
   "metadata": {},
   "source": [
    "## Ejercicio 11\n",
    "No queda muy claro cuánto de dispar, de dispersa, es la medida de IBU. Mediante estadística descriptiva (una o dos métricas, sin gráficas), razona la dispersión de la variable IBU."
   ]
  },
  {
   "cell_type": "code",
   "execution_count": null,
   "metadata": {},
   "outputs": [
    {
     "name": "stdout",
     "output_type": "stream",
     "text": [
      "42.7 35.0\n"
     ]
    }
   ],
   "source": [
    "mean = birra[\"ibu\"].mean().round(1)\n",
    "median = birra[\"ibu\"].median().round(1)\n",
    "\n",
    "print(mean,median) #no está bien dispersa la medida del ibu, hay valores extremos a un lado del grafico, se acumulan mucho en un lado\n"
   ]
  },
  {
   "attachments": {},
   "cell_type": "markdown",
   "metadata": {},
   "source": [
    "## Ejercicio 12\n",
    "¿Existe alguna relación lineal entre las variables numéricas del dataset? Intenta pintar este razonamiento mediante un gráfico"
   ]
  },
  {
   "cell_type": "code",
   "execution_count": 116,
   "metadata": {},
   "outputs": [
    {
     "data": {
      "image/png": "[encoded data removed]",
      "text/plain": [
       "<Figure size 500x500 with 1 Axes>"
      ]
     },
     "metadata": {},
     "output_type": "display_data"
    }
   ],
   "source": [
    "import matplotlib.pyplot as plt\n",
    "import seaborn as sns\n",
    "\n",
    "# normal = plt.hist(birra[\"ibu\"], 20, histtype=\"stepfilled\", alpha=.7);\n",
    "# normal\n",
    "\n",
    "sns.lmplot(x=\"ibu\", y=\"abv\",data=birra,fit_reg=True);"
   ]
  },
  {
   "attachments": {},
   "cell_type": "markdown",
   "metadata": {},
   "source": [
    "## Ejercicio 13\n",
    "Representa el nivel de alcohol (columna `abv`) en un histograma. ¿Se trata de una distribución simétrica o asimétrica?"
   ]
  },
  {
   "cell_type": "code",
   "execution_count": 111,
   "metadata": {},
   "outputs": [
    {
     "data": {
      "text/plain": [
       "(array([  1.,   0.,  38., 699., 857., 486., 159., 104.,   1.,   3.]),\n",
       " array([0.001 , 0.0137, 0.0264, 0.0391, 0.0518, 0.0645, 0.0772, 0.0899,\n",
       "        0.1026, 0.1153, 0.128 ]),\n",
       " [<matplotlib.patches.Polygon at 0x172a4a97750>])"
      ]
     },
     "execution_count": 111,
     "metadata": {},
     "output_type": "execute_result"
    },
    {
     "data": {
      "image/png": "[encoded data removed]",
      "text/plain": [
       "<Figure size 640x480 with 1 Axes>"
      ]
     },
     "metadata": {},
     "output_type": "display_data"
    }
   ],
   "source": [
    "alc = plt.hist(birra[\"abv\"], 10, histtype=\"stepfilled\", alpha=.7);\n",
    "alc"
   ]
  },
  {
   "cell_type": "code",
   "execution_count": null,
   "metadata": {},
   "outputs": [],
   "source": [
    "# es mas o menos simetrica aunque hay muchos valores en la mediana que no están representados"
   ]
  },
  {
   "attachments": {},
   "cell_type": "markdown",
   "metadata": {},
   "source": [
    "## Ejercicio 14\n",
    "Representa mediante un *boxplot* de `seaborn` la variable `abv`"
   ]
  },
  {
   "cell_type": "code",
   "execution_count": 118,
   "metadata": {},
   "outputs": [
    {
     "data": {
      "image/png": "[encoded data removed]",
      "text/plain": [
       "<Figure size 800x600 with 1 Axes>"
      ]
     },
     "metadata": {},
     "output_type": "display_data"
    }
   ],
   "source": [
    "# sns.boxplot(x='Sexo', y='Nota', birra=birra)\n",
    "\n",
    "plt.figure(figsize=(8, 6))\n",
    "sns.boxplot(x=birra['abv'], color='skyblue')\n",
    "plt.title(\"Boxplot de la Variable 'abv'\", fontsize=14)\n",
    "plt.xlabel(\"ABV (Alcohol by Volume)\", fontsize=12)\n",
    "plt.show()\n"
   ]
  },
  {
   "attachments": {},
   "cell_type": "markdown",
   "metadata": {},
   "source": [
    "## Ejercicio 15\n",
    "1. ¿Qué estilos son los que tienen en media más alcohol?\n",
    "2. ¿Y los estilos que son en media más amargos?"
   ]
  },
  {
   "cell_type": "code",
   "execution_count": 130,
   "metadata": {},
   "outputs": [
    {
     "name": "stdout",
     "output_type": "stream",
     "text": [
      "Los estilos de birra que tienen de media mas alcohol son: style\n",
      "American Malt Liquor    0.099000\n",
      "American Barleywine     0.099000\n",
      "Quadrupel (Quad)        0.104000\n",
      "English Barleywine      0.107667\n",
      "Name: abv, dtype: float64\n"
     ]
    }
   ],
   "source": [
    "print(f\"Los estilos de birra que tienen de media mas alcohol son: {birra.groupby(\"style\")[\"abv\"].mean().sort_values().tail(4)}\")"
   ]
  },
  {
   "attachments": {},
   "cell_type": "markdown",
   "metadata": {},
   "source": [
    "## Ejercicio 16\n",
    "Carga el datasets de cervecerias `datasets_breweries.csv`"
   ]
  },
  {
   "cell_type": "code",
   "execution_count": 131,
   "metadata": {},
   "outputs": [
    {
     "data": {
      "application/vnd.microsoft.datawrangler.viewer.v0+json": {
       "columns": [
        {
         "name": "index",
         "rawType": "int64",
         "type": "integer"
        },
        {
         "name": "Unnamed: 0",
         "rawType": "int64",
         "type": "integer"
        },
        {
         "name": "name",
         "rawType": "object",
         "type": "string"
        },
        {
         "name": "city",
         "rawType": "object",
         "type": "string"
        },
        {
         "name": "state",
         "rawType": "object",
         "type": "string"
        }
       ],
       "conversionMethod": "pd.DataFrame",
       "ref": "6d01051e-0c95-4569-ac4a-da20754d45a7",
       "rows": [
        [
         "0",
         "0",
         "NorthGate Brewing ",
         "Minneapolis",
         " MN"
        ],
        [
         "1",
         "1",
         "Against the Grain Brewery",
         "Louisville",
         " KY"
        ],
        [
         "2",
         "2",
         "Jack's Abby Craft Lagers",
         "Framingham",
         " MA"
        ],
        [
         "3",
         "3",
         "Mike Hess Brewing Company",
         "San Diego",
         " CA"
        ],
        [
         "4",
         "4",
         "Fort Point Beer Company",
         "San Francisco",
         " CA"
        ],
        [
         "5",
         "5",
         "COAST Brewing Company",
         "Charleston",
         " SC"
        ],
        [
         "6",
         "6",
         "Great Divide Brewing Company",
         "Denver",
         " CO"
        ],
        [
         "7",
         "7",
         "Tapistry Brewing",
         "Bridgman",
         " MI"
        ],
        [
         "8",
         "8",
         "Big Lake Brewing",
         "Holland",
         " MI"
        ],
        [
         "9",
         "9",
         "The Mitten Brewing Company",
         "Grand Rapids",
         " MI"
        ],
        [
         "10",
         "10",
         "Brewery Vivant",
         "Grand Rapids",
         " MI"
        ],
        [
         "11",
         "11",
         "Petoskey Brewing",
         "Petoskey",
         " MI"
        ],
        [
         "12",
         "12",
         "Blackrocks Brewery",
         "Marquette",
         " MI"
        ],
        [
         "13",
         "13",
         "Perrin Brewing Company",
         "Comstock Park",
         " MI"
        ],
        [
         "14",
         "14",
         "Witch's Hat Brewing Company",
         "South Lyon",
         " MI"
        ],
        [
         "15",
         "15",
         "Founders Brewing Company",
         "Grand Rapids",
         " MI"
        ],
        [
         "16",
         "16",
         "Flat 12 Bierwerks",
         "Indianapolis",
         " IN"
        ],
        [
         "17",
         "17",
         "Tin Man Brewing Company",
         "Evansville",
         " IN"
        ],
        [
         "18",
         "18",
         "Black Acre Brewing Co.",
         "Indianapolis",
         " IN"
        ],
        [
         "19",
         "19",
         "Brew Link Brewing",
         "Plainfield",
         " IN"
        ],
        [
         "20",
         "20",
         "Bare Hands Brewery",
         "Granger",
         " IN"
        ],
        [
         "21",
         "21",
         "Three Pints Brewing",
         "Martinsville",
         " IN"
        ],
        [
         "22",
         "22",
         "Four Fathers Brewing ",
         "Valparaiso",
         " IN"
        ],
        [
         "23",
         "23",
         "Indiana City Brewing",
         "Indianapolis",
         " IN"
        ],
        [
         "24",
         "24",
         "Burn 'Em Brewing",
         "Michigan City",
         " IN"
        ],
        [
         "25",
         "25",
         "Sun King Brewing Company",
         "Indianapolis",
         " IN"
        ],
        [
         "26",
         "26",
         "Evil Czech Brewery",
         "Mishawaka",
         " IN"
        ],
        [
         "27",
         "27",
         "450 North Brewing Company",
         "Columbus",
         " IN"
        ],
        [
         "28",
         "28",
         "Taxman Brewing Company",
         "Bargersville",
         " IN"
        ],
        [
         "29",
         "29",
         "Cedar Creek Brewery",
         "Seven Points",
         " TX"
        ],
        [
         "30",
         "30",
         "SanTan Brewing Company",
         "Chandler",
         " AZ"
        ],
        [
         "31",
         "31",
         "Boulevard Brewing Company",
         "Kansas City",
         " MO"
        ],
        [
         "32",
         "32",
         "James Page Brewing Company",
         "Stevens Point",
         " WI"
        ],
        [
         "33",
         "33",
         "The Dudes' Brewing Company",
         "Torrance",
         " CA"
        ],
        [
         "34",
         "34",
         "Ballast Point Brewing Company",
         "San Diego",
         " CA"
        ],
        [
         "35",
         "35",
         "Anchor Brewing Company",
         "San Francisco",
         " CA"
        ],
        [
         "36",
         "36",
         "Figueroa Mountain Brewing Company",
         "Buellton",
         " CA"
        ],
        [
         "37",
         "37",
         "Avery Brewing Company",
         "Boulder",
         " CO"
        ],
        [
         "38",
         "38",
         "Twisted X Brewing Company",
         "Dripping Springs",
         " TX"
        ],
        [
         "39",
         "39",
         "Gonzo's BiggDogg Brewing",
         "Kalamazoo",
         " MI"
        ],
        [
         "40",
         "40",
         "Big Muddy Brewing",
         "Murphysboro",
         " IL"
        ],
        [
         "41",
         "41",
         "Lost Nation Brewing",
         "East Fairfield",
         " VT"
        ],
        [
         "42",
         "42",
         "Rising Tide Brewing Company",
         "Portland",
         " ME"
        ],
        [
         "43",
         "43",
         "Rivertowne Brewing Company",
         "Export",
         " PA"
        ],
        [
         "44",
         "44",
         "Revolution Brewing Company",
         "Chicago",
         " IL"
        ],
        [
         "45",
         "45",
         "Tallgrass Brewing Company",
         "Manhattan",
         " KS"
        ],
        [
         "46",
         "46",
         "Sixpoint Craft Ales",
         "Brooklyn",
         " NY"
        ],
        [
         "47",
         "47",
         "White Birch Brewing",
         "Hooksett",
         " NH"
        ],
        [
         "48",
         "48",
         "Firestone Walker Brewing Company",
         "Paso Robles",
         " CA"
        ],
        [
         "49",
         "49",
         "SweetWater Brewing Company",
         "Atlanta",
         " GA"
        ]
       ],
       "shape": {
        "columns": 4,
        "rows": 558
       }
      },
      "text/html": [
       "<div>\n",
       "<style scoped>\n",
       "    .dataframe tbody tr th:only-of-type {\n",
       "        vertical-align: middle;\n",
       "    }\n",
       "\n",
       "    .dataframe tbody tr th {\n",
       "        vertical-align: top;\n",
       "    }\n",
       "\n",
       "    .dataframe thead th {\n",
       "        text-align: right;\n",
       "    }\n",
       "</style>\n",
       "<table border=\"1\" class=\"dataframe\">\n",
       "  <thead>\n",
       "    <tr style=\"text-align: right;\">\n",
       "      <th></th>\n",
       "      <th>Unnamed: 0</th>\n",
       "      <th>name</th>\n",
       "      <th>city</th>\n",
       "      <th>state</th>\n",
       "    </tr>\n",
       "  </thead>\n",
       "  <tbody>\n",
       "    <tr>\n",
       "      <th>0</th>\n",
       "      <td>0</td>\n",
       "      <td>NorthGate Brewing</td>\n",
       "      <td>Minneapolis</td>\n",
       "      <td>MN</td>\n",
       "    </tr>\n",
       "    <tr>\n",
       "      <th>1</th>\n",
       "      <td>1</td>\n",
       "      <td>Against the Grain Brewery</td>\n",
       "      <td>Louisville</td>\n",
       "      <td>KY</td>\n",
       "    </tr>\n",
       "    <tr>\n",
       "      <th>2</th>\n",
       "      <td>2</td>\n",
       "      <td>Jack's Abby Craft Lagers</td>\n",
       "      <td>Framingham</td>\n",
       "      <td>MA</td>\n",
       "    </tr>\n",
       "    <tr>\n",
       "      <th>3</th>\n",
       "      <td>3</td>\n",
       "      <td>Mike Hess Brewing Company</td>\n",
       "      <td>San Diego</td>\n",
       "      <td>CA</td>\n",
       "    </tr>\n",
       "    <tr>\n",
       "      <th>4</th>\n",
       "      <td>4</td>\n",
       "      <td>Fort Point Beer Company</td>\n",
       "      <td>San Francisco</td>\n",
       "      <td>CA</td>\n",
       "    </tr>\n",
       "    <tr>\n",
       "      <th>...</th>\n",
       "      <td>...</td>\n",
       "      <td>...</td>\n",
       "      <td>...</td>\n",
       "      <td>...</td>\n",
       "    </tr>\n",
       "    <tr>\n",
       "      <th>553</th>\n",
       "      <td>553</td>\n",
       "      <td>Covington Brewhouse</td>\n",
       "      <td>Covington</td>\n",
       "      <td>LA</td>\n",
       "    </tr>\n",
       "    <tr>\n",
       "      <th>554</th>\n",
       "      <td>554</td>\n",
       "      <td>Dave's Brewfarm</td>\n",
       "      <td>Wilson</td>\n",
       "      <td>WI</td>\n",
       "    </tr>\n",
       "    <tr>\n",
       "      <th>555</th>\n",
       "      <td>555</td>\n",
       "      <td>Ukiah Brewing Company</td>\n",
       "      <td>Ukiah</td>\n",
       "      <td>CA</td>\n",
       "    </tr>\n",
       "    <tr>\n",
       "      <th>556</th>\n",
       "      <td>556</td>\n",
       "      <td>Butternuts Beer and Ale</td>\n",
       "      <td>Garrattsville</td>\n",
       "      <td>NY</td>\n",
       "    </tr>\n",
       "    <tr>\n",
       "      <th>557</th>\n",
       "      <td>557</td>\n",
       "      <td>Sleeping Lady Brewing Company</td>\n",
       "      <td>Anchorage</td>\n",
       "      <td>AK</td>\n",
       "    </tr>\n",
       "  </tbody>\n",
       "</table>\n",
       "<p>558 rows × 4 columns</p>\n",
       "</div>"
      ],
      "text/plain": [
       "     Unnamed: 0                           name           city state\n",
       "0             0             NorthGate Brewing     Minneapolis    MN\n",
       "1             1      Against the Grain Brewery     Louisville    KY\n",
       "2             2       Jack's Abby Craft Lagers     Framingham    MA\n",
       "3             3      Mike Hess Brewing Company      San Diego    CA\n",
       "4             4        Fort Point Beer Company  San Francisco    CA\n",
       "..          ...                            ...            ...   ...\n",
       "553         553            Covington Brewhouse      Covington    LA\n",
       "554         554                Dave's Brewfarm         Wilson    WI\n",
       "555         555          Ukiah Brewing Company          Ukiah    CA\n",
       "556         556        Butternuts Beer and Ale  Garrattsville    NY\n",
       "557         557  Sleeping Lady Brewing Company      Anchorage    AK\n",
       "\n",
       "[558 rows x 4 columns]"
      ]
     },
     "execution_count": 131,
     "metadata": {},
     "output_type": "execute_result"
    }
   ],
   "source": [
    "cerveceras = pd.read_csv('data/datasets_breweries.csv')\n",
    "cerveceras"
   ]
  },
  {
   "attachments": {},
   "cell_type": "markdown",
   "metadata": {},
   "source": [
    "## Ejercicio 17\n",
    "1. Renombra la columna `Unnamed: 0` como `brewery_id`\n",
    "2. Renombra también la columna `name` por `brewery_name`. ¿Puedes hacer ambos apartados en una sola sentencia?"
   ]
  },
  {
   "cell_type": "code",
   "execution_count": 134,
   "metadata": {},
   "outputs": [
    {
     "data": {
      "application/vnd.microsoft.datawrangler.viewer.v0+json": {
       "columns": [
        {
         "name": "index",
         "rawType": "int64",
         "type": "integer"
        },
        {
         "name": "brewery_id",
         "rawType": "int64",
         "type": "integer"
        },
        {
         "name": "brewery_name",
         "rawType": "object",
         "type": "string"
        },
        {
         "name": "city",
         "rawType": "object",
         "type": "string"
        },
        {
         "name": "state",
         "rawType": "object",
         "type": "string"
        }
       ],
       "conversionMethod": "pd.DataFrame",
       "ref": "4c10e8ef-4c08-45fb-b43c-3e13160b05c8",
       "rows": [
        [
         "0",
         "0",
         "NorthGate Brewing ",
         "Minneapolis",
         " MN"
        ],
        [
         "1",
         "1",
         "Against the Grain Brewery",
         "Louisville",
         " KY"
        ],
        [
         "2",
         "2",
         "Jack's Abby Craft Lagers",
         "Framingham",
         " MA"
        ],
        [
         "3",
         "3",
         "Mike Hess Brewing Company",
         "San Diego",
         " CA"
        ],
        [
         "4",
         "4",
         "Fort Point Beer Company",
         "San Francisco",
         " CA"
        ],
        [
         "5",
         "5",
         "COAST Brewing Company",
         "Charleston",
         " SC"
        ],
        [
         "6",
         "6",
         "Great Divide Brewing Company",
         "Denver",
         " CO"
        ],
        [
         "7",
         "7",
         "Tapistry Brewing",
         "Bridgman",
         " MI"
        ],
        [
         "8",
         "8",
         "Big Lake Brewing",
         "Holland",
         " MI"
        ],
        [
         "9",
         "9",
         "The Mitten Brewing Company",
         "Grand Rapids",
         " MI"
        ],
        [
         "10",
         "10",
         "Brewery Vivant",
         "Grand Rapids",
         " MI"
        ],
        [
         "11",
         "11",
         "Petoskey Brewing",
         "Petoskey",
         " MI"
        ],
        [
         "12",
         "12",
         "Blackrocks Brewery",
         "Marquette",
         " MI"
        ],
        [
         "13",
         "13",
         "Perrin Brewing Company",
         "Comstock Park",
         " MI"
        ],
        [
         "14",
         "14",
         "Witch's Hat Brewing Company",
         "South Lyon",
         " MI"
        ],
        [
         "15",
         "15",
         "Founders Brewing Company",
         "Grand Rapids",
         " MI"
        ],
        [
         "16",
         "16",
         "Flat 12 Bierwerks",
         "Indianapolis",
         " IN"
        ],
        [
         "17",
         "17",
         "Tin Man Brewing Company",
         "Evansville",
         " IN"
        ],
        [
         "18",
         "18",
         "Black Acre Brewing Co.",
         "Indianapolis",
         " IN"
        ],
        [
         "19",
         "19",
         "Brew Link Brewing",
         "Plainfield",
         " IN"
        ],
        [
         "20",
         "20",
         "Bare Hands Brewery",
         "Granger",
         " IN"
        ],
        [
         "21",
         "21",
         "Three Pints Brewing",
         "Martinsville",
         " IN"
        ],
        [
         "22",
         "22",
         "Four Fathers Brewing ",
         "Valparaiso",
         " IN"
        ],
        [
         "23",
         "23",
         "Indiana City Brewing",
         "Indianapolis",
         " IN"
        ],
        [
         "24",
         "24",
         "Burn 'Em Brewing",
         "Michigan City",
         " IN"
        ],
        [
         "25",
         "25",
         "Sun King Brewing Company",
         "Indianapolis",
         " IN"
        ],
        [
         "26",
         "26",
         "Evil Czech Brewery",
         "Mishawaka",
         " IN"
        ],
        [
         "27",
         "27",
         "450 North Brewing Company",
         "Columbus",
         " IN"
        ],
        [
         "28",
         "28",
         "Taxman Brewing Company",
         "Bargersville",
         " IN"
        ],
        [
         "29",
         "29",
         "Cedar Creek Brewery",
         "Seven Points",
         " TX"
        ],
        [
         "30",
         "30",
         "SanTan Brewing Company",
         "Chandler",
         " AZ"
        ],
        [
         "31",
         "31",
         "Boulevard Brewing Company",
         "Kansas City",
         " MO"
        ],
        [
         "32",
         "32",
         "James Page Brewing Company",
         "Stevens Point",
         " WI"
        ],
        [
         "33",
         "33",
         "The Dudes' Brewing Company",
         "Torrance",
         " CA"
        ],
        [
         "34",
         "34",
         "Ballast Point Brewing Company",
         "San Diego",
         " CA"
        ],
        [
         "35",
         "35",
         "Anchor Brewing Company",
         "San Francisco",
         " CA"
        ],
        [
         "36",
         "36",
         "Figueroa Mountain Brewing Company",
         "Buellton",
         " CA"
        ],
        [
         "37",
         "37",
         "Avery Brewing Company",
         "Boulder",
         " CO"
        ],
        [
         "38",
         "38",
         "Twisted X Brewing Company",
         "Dripping Springs",
         " TX"
        ],
        [
         "39",
         "39",
         "Gonzo's BiggDogg Brewing",
         "Kalamazoo",
         " MI"
        ],
        [
         "40",
         "40",
         "Big Muddy Brewing",
         "Murphysboro",
         " IL"
        ],
        [
         "41",
         "41",
         "Lost Nation Brewing",
         "East Fairfield",
         " VT"
        ],
        [
         "42",
         "42",
         "Rising Tide Brewing Company",
         "Portland",
         " ME"
        ],
        [
         "43",
         "43",
         "Rivertowne Brewing Company",
         "Export",
         " PA"
        ],
        [
         "44",
         "44",
         "Revolution Brewing Company",
         "Chicago",
         " IL"
        ],
        [
         "45",
         "45",
         "Tallgrass Brewing Company",
         "Manhattan",
         " KS"
        ],
        [
         "46",
         "46",
         "Sixpoint Craft Ales",
         "Brooklyn",
         " NY"
        ],
        [
         "47",
         "47",
         "White Birch Brewing",
         "Hooksett",
         " NH"
        ],
        [
         "48",
         "48",
         "Firestone Walker Brewing Company",
         "Paso Robles",
         " CA"
        ],
        [
         "49",
         "49",
         "SweetWater Brewing Company",
         "Atlanta",
         " GA"
        ]
       ],
       "shape": {
        "columns": 4,
        "rows": 558
       }
      },
      "text/html": [
       "<div>\n",
       "<style scoped>\n",
       "    .dataframe tbody tr th:only-of-type {\n",
       "        vertical-align: middle;\n",
       "    }\n",
       "\n",
       "    .dataframe tbody tr th {\n",
       "        vertical-align: top;\n",
       "    }\n",
       "\n",
       "    .dataframe thead th {\n",
       "        text-align: right;\n",
       "    }\n",
       "</style>\n",
       "<table border=\"1\" class=\"dataframe\">\n",
       "  <thead>\n",
       "    <tr style=\"text-align: right;\">\n",
       "      <th></th>\n",
       "      <th>brewery_id</th>\n",
       "      <th>brewery_name</th>\n",
       "      <th>city</th>\n",
       "      <th>state</th>\n",
       "    </tr>\n",
       "  </thead>\n",
       "  <tbody>\n",
       "    <tr>\n",
       "      <th>0</th>\n",
       "      <td>0</td>\n",
       "      <td>NorthGate Brewing</td>\n",
       "      <td>Minneapolis</td>\n",
       "      <td>MN</td>\n",
       "    </tr>\n",
       "    <tr>\n",
       "      <th>1</th>\n",
       "      <td>1</td>\n",
       "      <td>Against the Grain Brewery</td>\n",
       "      <td>Louisville</td>\n",
       "      <td>KY</td>\n",
       "    </tr>\n",
       "    <tr>\n",
       "      <th>2</th>\n",
       "      <td>2</td>\n",
       "      <td>Jack's Abby Craft Lagers</td>\n",
       "      <td>Framingham</td>\n",
       "      <td>MA</td>\n",
       "    </tr>\n",
       "    <tr>\n",
       "      <th>3</th>\n",
       "      <td>3</td>\n",
       "      <td>Mike Hess Brewing Company</td>\n",
       "      <td>San Diego</td>\n",
       "      <td>CA</td>\n",
       "    </tr>\n",
       "    <tr>\n",
       "      <th>4</th>\n",
       "      <td>4</td>\n",
       "      <td>Fort Point Beer Company</td>\n",
       "      <td>San Francisco</td>\n",
       "      <td>CA</td>\n",
       "    </tr>\n",
       "    <tr>\n",
       "      <th>...</th>\n",
       "      <td>...</td>\n",
       "      <td>...</td>\n",
       "      <td>...</td>\n",
       "      <td>...</td>\n",
       "    </tr>\n",
       "    <tr>\n",
       "      <th>553</th>\n",
       "      <td>553</td>\n",
       "      <td>Covington Brewhouse</td>\n",
       "      <td>Covington</td>\n",
       "      <td>LA</td>\n",
       "    </tr>\n",
       "    <tr>\n",
       "      <th>554</th>\n",
       "      <td>554</td>\n",
       "      <td>Dave's Brewfarm</td>\n",
       "      <td>Wilson</td>\n",
       "      <td>WI</td>\n",
       "    </tr>\n",
       "    <tr>\n",
       "      <th>555</th>\n",
       "      <td>555</td>\n",
       "      <td>Ukiah Brewing Company</td>\n",
       "      <td>Ukiah</td>\n",
       "      <td>CA</td>\n",
       "    </tr>\n",
       "    <tr>\n",
       "      <th>556</th>\n",
       "      <td>556</td>\n",
       "      <td>Butternuts Beer and Ale</td>\n",
       "      <td>Garrattsville</td>\n",
       "      <td>NY</td>\n",
       "    </tr>\n",
       "    <tr>\n",
       "      <th>557</th>\n",
       "      <td>557</td>\n",
       "      <td>Sleeping Lady Brewing Company</td>\n",
       "      <td>Anchorage</td>\n",
       "      <td>AK</td>\n",
       "    </tr>\n",
       "  </tbody>\n",
       "</table>\n",
       "<p>558 rows × 4 columns</p>\n",
       "</div>"
      ],
      "text/plain": [
       "     brewery_id                   brewery_name           city state\n",
       "0             0             NorthGate Brewing     Minneapolis    MN\n",
       "1             1      Against the Grain Brewery     Louisville    KY\n",
       "2             2       Jack's Abby Craft Lagers     Framingham    MA\n",
       "3             3      Mike Hess Brewing Company      San Diego    CA\n",
       "4             4        Fort Point Beer Company  San Francisco    CA\n",
       "..          ...                            ...            ...   ...\n",
       "553         553            Covington Brewhouse      Covington    LA\n",
       "554         554                Dave's Brewfarm         Wilson    WI\n",
       "555         555          Ukiah Brewing Company          Ukiah    CA\n",
       "556         556        Butternuts Beer and Ale  Garrattsville    NY\n",
       "557         557  Sleeping Lady Brewing Company      Anchorage    AK\n",
       "\n",
       "[558 rows x 4 columns]"
      ]
     },
     "execution_count": 134,
     "metadata": {},
     "output_type": "execute_result"
    }
   ],
   "source": [
    "cerveceras = cerveceras.rename(columns={\"Unnamed: 0\": \"brewery_id\", \"name\":\"brewery_name\"})\n",
    "cerveceras"
   ]
  },
  {
   "attachments": {},
   "cell_type": "markdown",
   "metadata": {},
   "source": [
    "## Ejercicio 18\n",
    "Junta los dos datasets que tienes"
   ]
  },
  {
   "cell_type": "code",
   "execution_count": 136,
   "metadata": {},
   "outputs": [
    {
     "data": {
      "application/vnd.microsoft.datawrangler.viewer.v0+json": {
       "columns": [
        {
         "name": "index",
         "rawType": "int64",
         "type": "integer"
        },
        {
         "name": "abv",
         "rawType": "float64",
         "type": "float"
        },
        {
         "name": "ibu",
         "rawType": "float64",
         "type": "float"
        },
        {
         "name": "id",
         "rawType": "int64",
         "type": "integer"
        },
        {
         "name": "name",
         "rawType": "object",
         "type": "string"
        },
        {
         "name": "style",
         "rawType": "object",
         "type": "unknown"
        },
        {
         "name": "brewery_id",
         "rawType": "int64",
         "type": "integer"
        },
        {
         "name": "ounces",
         "rawType": "float64",
         "type": "float"
        },
        {
         "name": "brewery_name",
         "rawType": "object",
         "type": "string"
        },
        {
         "name": "city",
         "rawType": "object",
         "type": "string"
        },
        {
         "name": "state",
         "rawType": "object",
         "type": "string"
        }
       ],
       "conversionMethod": "pd.DataFrame",
       "ref": "07d12b2d-c1f9-4fc0-bfc8-aca0216efa05",
       "rows": [
        [
         "0",
         "0.05",
         null,
         "1436",
         "Pub Beer",
         "American Pale Lager",
         "408",
         "12.0",
         "10 Barrel Brewing Company",
         "Bend",
         " OR"
        ],
        [
         "1",
         "0.066",
         null,
         "2265",
         "Devil's Cup",
         "American Pale Ale (APA)",
         "177",
         "12.0",
         "18th Street Brewery",
         "Gary",
         " IN"
        ],
        [
         "2",
         "0.071",
         null,
         "2264",
         "Rise of the Phoenix",
         "American IPA",
         "177",
         "12.0",
         "18th Street Brewery",
         "Gary",
         " IN"
        ],
        [
         "3",
         "0.09",
         null,
         "2263",
         "Sinister",
         "American Double / Imperial IPA",
         "177",
         "12.0",
         "18th Street Brewery",
         "Gary",
         " IN"
        ],
        [
         "4",
         "0.075",
         null,
         "2262",
         "Sex and Candy",
         "American IPA",
         "177",
         "12.0",
         "18th Street Brewery",
         "Gary",
         " IN"
        ],
        [
         "5",
         "0.077",
         null,
         "2261",
         "Black Exodus",
         "Oatmeal Stout",
         "177",
         "12.0",
         "18th Street Brewery",
         "Gary",
         " IN"
        ],
        [
         "6",
         "0.045",
         null,
         "2260",
         "Lake Street Express",
         "American Pale Ale (APA)",
         "177",
         "12.0",
         "18th Street Brewery",
         "Gary",
         " IN"
        ],
        [
         "7",
         "0.065",
         null,
         "2259",
         "Foreman",
         "American Porter",
         "177",
         "12.0",
         "18th Street Brewery",
         "Gary",
         " IN"
        ],
        [
         "8",
         "0.055",
         null,
         "2258",
         "Jade",
         "American Pale Ale (APA)",
         "177",
         "12.0",
         "18th Street Brewery",
         "Gary",
         " IN"
        ],
        [
         "9",
         "0.086",
         null,
         "2131",
         "Cone Crusher",
         "American Double / Imperial IPA",
         "177",
         "12.0",
         "18th Street Brewery",
         "Gary",
         " IN"
        ],
        [
         "10",
         "0.072",
         null,
         "2099",
         "Sophomoric Saison",
         "Saison / Farmhouse Ale",
         "177",
         "12.0",
         "18th Street Brewery",
         "Gary",
         " IN"
        ],
        [
         "11",
         "0.073",
         null,
         "2098",
         "Regional Ring Of Fire",
         "Saison / Farmhouse Ale",
         "177",
         "12.0",
         "18th Street Brewery",
         "Gary",
         " IN"
        ],
        [
         "12",
         "0.069",
         null,
         "2097",
         "Garce Selé",
         "Saison / Farmhouse Ale",
         "177",
         "12.0",
         "18th Street Brewery",
         "Gary",
         " IN"
        ],
        [
         "13",
         "0.085",
         null,
         "1980",
         "Troll Destroyer",
         "Belgian IPA",
         "177",
         "12.0",
         "18th Street Brewery",
         "Gary",
         " IN"
        ],
        [
         "14",
         "0.061",
         "60.0",
         "1979",
         "Bitter Bitch",
         "American Pale Ale (APA)",
         "177",
         "12.0",
         "18th Street Brewery",
         "Gary",
         " IN"
        ],
        [
         "15",
         "0.06",
         null,
         "2318",
         "Ginja Ninja",
         "Cider",
         "154",
         "12.0",
         "2 Towns Ciderhouse",
         "Corvallis",
         " OR"
        ],
        [
         "16",
         "0.06",
         null,
         "2170",
         "Cherried Away",
         "Cider",
         "154",
         "12.0",
         "2 Towns Ciderhouse",
         "Corvallis",
         " OR"
        ],
        [
         "17",
         "0.06",
         null,
         "2169",
         "Rhubarbarian",
         "Cider",
         "154",
         "12.0",
         "2 Towns Ciderhouse",
         "Corvallis",
         " OR"
        ],
        [
         "18",
         "0.06",
         null,
         "1502",
         "BrightCider",
         "Cider",
         "154",
         "12.0",
         "2 Towns Ciderhouse",
         "Corvallis",
         " OR"
        ],
        [
         "19",
         "0.0819999999999999",
         null,
         "1593",
         "He Said Baltic-Style Porter",
         "Baltic Porter",
         "368",
         "12.0",
         "21st Amendment Brewery",
         "San Francisco",
         " CA"
        ],
        [
         "20",
         "0.0819999999999999",
         null,
         "1592",
         "He Said Belgian-Style Tripel",
         "Tripel",
         "368",
         "12.0",
         "21st Amendment Brewery",
         "San Francisco",
         " CA"
        ],
        [
         "21",
         "0.099",
         "92.0",
         "1036",
         "Lower De Boom",
         "American Barleywine",
         "368",
         "8.4",
         "21st Amendment Brewery",
         "San Francisco",
         " CA"
        ],
        [
         "22",
         "0.079",
         "45.0",
         "1024",
         "Fireside Chat",
         "Winter Warmer",
         "368",
         "12.0",
         "21st Amendment Brewery",
         "San Francisco",
         " CA"
        ],
        [
         "23",
         "0.079",
         null,
         "976",
         "Marooned On Hog Island",
         "American Stout",
         "368",
         "12.0",
         "21st Amendment Brewery",
         "San Francisco",
         " CA"
        ],
        [
         "24",
         "0.044",
         "42.0",
         "876",
         "Bitter American",
         "American Pale Ale (APA)",
         "368",
         "12.0",
         "21st Amendment Brewery",
         "San Francisco",
         " CA"
        ],
        [
         "25",
         "0.049",
         "17.0",
         "802",
         "Hell or High Watermelon Wheat (2009)",
         "Fruit / Vegetable Beer",
         "368",
         "12.0",
         "21st Amendment Brewery",
         "San Francisco",
         " CA"
        ],
        [
         "26",
         "0.049",
         "17.0",
         "801",
         "Hell or High Watermelon Wheat (2009)",
         "Fruit / Vegetable Beer",
         "368",
         "12.0",
         "21st Amendment Brewery",
         "San Francisco",
         " CA"
        ],
        [
         "27",
         "0.049",
         "17.0",
         "800",
         "21st Amendment Watermelon Wheat Beer (2006)",
         "Fruit / Vegetable Beer",
         "368",
         "12.0",
         "21st Amendment Brewery",
         "San Francisco",
         " CA"
        ],
        [
         "28",
         "0.07",
         "70.0",
         "799",
         "21st Amendment IPA (2006)",
         "American IPA",
         "368",
         "12.0",
         "21st Amendment Brewery",
         "San Francisco",
         " CA"
        ],
        [
         "29",
         "0.07",
         "70.0",
         "797",
         "Brew Free! or Die IPA (2008)",
         "American IPA",
         "368",
         "12.0",
         "21st Amendment Brewery",
         "San Francisco",
         " CA"
        ],
        [
         "30",
         "0.07",
         "70.0",
         "796",
         "Brew Free! or Die IPA (2009)",
         "American IPA",
         "368",
         "12.0",
         "21st Amendment Brewery",
         "San Francisco",
         " CA"
        ],
        [
         "31",
         "0.085",
         "52.0",
         "531",
         "Special Edition: Allies Win The War!",
         "English Strong Ale",
         "368",
         "12.0",
         "21st Amendment Brewery",
         "San Francisco",
         " CA"
        ],
        [
         "32",
         "0.0969999999999999",
         "94.0",
         "432",
         "Hop Crisis",
         "American Double / Imperial IPA",
         "368",
         "12.0",
         "21st Amendment Brewery",
         "San Francisco",
         " CA"
        ],
        [
         "33",
         "0.044",
         "42.0",
         "353",
         "Bitter American (2011)",
         "American Pale Ale (APA)",
         "368",
         "12.0",
         "21st Amendment Brewery",
         "San Francisco",
         " CA"
        ],
        [
         "34",
         "0.079",
         "45.0",
         "321",
         "Fireside Chat (2010)",
         "Winter Warmer",
         "368",
         "12.0",
         "21st Amendment Brewery",
         "San Francisco",
         " CA"
        ],
        [
         "35",
         "0.068",
         "65.0",
         "173",
         "Back in Black",
         "American Black Ale",
         "368",
         "12.0",
         "21st Amendment Brewery",
         "San Francisco",
         " CA"
        ],
        [
         "36",
         "0.083",
         "35.0",
         "11",
         "Monk's Blood",
         "Belgian Dark Ale",
         "368",
         "12.0",
         "21st Amendment Brewery",
         "San Francisco",
         " CA"
        ],
        [
         "37",
         "0.07",
         "65.0",
         "10",
         "Brew Free! or Die IPA",
         "American IPA",
         "368",
         "12.0",
         "21st Amendment Brewery",
         "San Francisco",
         " CA"
        ],
        [
         "38",
         "0.049",
         "17.0",
         "9",
         "Hell or High Watermelon Wheat",
         "Fruit / Vegetable Beer",
         "368",
         "12.0",
         "21st Amendment Brewery",
         "San Francisco",
         " CA"
        ],
        [
         "39",
         "0.07",
         "82.0",
         "2519",
         "Bimini Twist",
         "American IPA",
         "67",
         "12.0",
         "3 Daughters Brewing",
         "St Petersburg",
         " FL"
        ],
        [
         "40",
         "0.05",
         null,
         "2518",
         "Beach Blonde",
         "American Blonde Ale",
         "67",
         "12.0",
         "3 Daughters Brewing",
         "St Petersburg",
         " FL"
        ],
        [
         "41",
         "0.059",
         null,
         "2517",
         "Rod Bender Red",
         "American Amber / Red Ale",
         "67",
         "12.0",
         "3 Daughters Brewing",
         "St Petersburg",
         " FL"
        ],
        [
         "42",
         "0.035",
         "11.0",
         "2545",
         "Passion Fruit Prussia",
         "Berliner Weissbier",
         "60",
         "12.0",
         "4 Hands Brewing Company",
         "Saint Louis",
         " MO"
        ],
        [
         "43",
         "0.045",
         "18.0",
         "2544",
         "Send Help",
         "American Blonde Ale",
         "60",
         "12.0",
         "4 Hands Brewing Company",
         "Saint Louis",
         " MO"
        ],
        [
         "44",
         "0.055",
         null,
         "2324",
         "Cast Iron Oatmeal Brown",
         "American Brown Ale",
         "60",
         "12.0",
         "4 Hands Brewing Company",
         "Saint Louis",
         " MO"
        ],
        [
         "45",
         "0.06",
         null,
         "2288",
         "Reprise Centennial Red",
         "American Amber / Red Ale",
         "60",
         "12.0",
         "4 Hands Brewing Company",
         "Saint Louis",
         " MO"
        ],
        [
         "46",
         "0.055",
         null,
         "2287",
         "Alter Ego",
         "American Black Ale",
         "60",
         "12.0",
         "4 Hands Brewing Company",
         "Saint Louis",
         " MO"
        ],
        [
         "47",
         "0.065",
         null,
         "2286",
         "Divided Sky",
         "American IPA",
         "60",
         "12.0",
         "4 Hands Brewing Company",
         "Saint Louis",
         " MO"
        ],
        [
         "48",
         "0.065",
         null,
         "2285",
         "Resurrected",
         "American IPA",
         "60",
         "12.0",
         "4 Hands Brewing Company",
         "Saint Louis",
         " MO"
        ],
        [
         "49",
         "0.05",
         "28.0",
         "1870",
         "Contact High",
         "American Pale Wheat Ale",
         "60",
         "12.0",
         "4 Hands Brewing Company",
         "Saint Louis",
         " MO"
        ]
       ],
       "shape": {
        "columns": 10,
        "rows": 2410
       }
      },
      "text/html": [
       "<div>\n",
       "<style scoped>\n",
       "    .dataframe tbody tr th:only-of-type {\n",
       "        vertical-align: middle;\n",
       "    }\n",
       "\n",
       "    .dataframe tbody tr th {\n",
       "        vertical-align: top;\n",
       "    }\n",
       "\n",
       "    .dataframe thead th {\n",
       "        text-align: right;\n",
       "    }\n",
       "</style>\n",
       "<table border=\"1\" class=\"dataframe\">\n",
       "  <thead>\n",
       "    <tr style=\"text-align: right;\">\n",
       "      <th></th>\n",
       "      <th>abv</th>\n",
       "      <th>ibu</th>\n",
       "      <th>id</th>\n",
       "      <th>name</th>\n",
       "      <th>style</th>\n",
       "      <th>brewery_id</th>\n",
       "      <th>ounces</th>\n",
       "      <th>brewery_name</th>\n",
       "      <th>city</th>\n",
       "      <th>state</th>\n",
       "    </tr>\n",
       "  </thead>\n",
       "  <tbody>\n",
       "    <tr>\n",
       "      <th>0</th>\n",
       "      <td>0.050</td>\n",
       "      <td>NaN</td>\n",
       "      <td>1436</td>\n",
       "      <td>Pub Beer</td>\n",
       "      <td>American Pale Lager</td>\n",
       "      <td>408</td>\n",
       "      <td>12.0</td>\n",
       "      <td>10 Barrel Brewing Company</td>\n",
       "      <td>Bend</td>\n",
       "      <td>OR</td>\n",
       "    </tr>\n",
       "    <tr>\n",
       "      <th>1</th>\n",
       "      <td>0.066</td>\n",
       "      <td>NaN</td>\n",
       "      <td>2265</td>\n",
       "      <td>Devil's Cup</td>\n",
       "      <td>American Pale Ale (APA)</td>\n",
       "      <td>177</td>\n",
       "      <td>12.0</td>\n",
       "      <td>18th Street Brewery</td>\n",
       "      <td>Gary</td>\n",
       "      <td>IN</td>\n",
       "    </tr>\n",
       "    <tr>\n",
       "      <th>2</th>\n",
       "      <td>0.071</td>\n",
       "      <td>NaN</td>\n",
       "      <td>2264</td>\n",
       "      <td>Rise of the Phoenix</td>\n",
       "      <td>American IPA</td>\n",
       "      <td>177</td>\n",
       "      <td>12.0</td>\n",
       "      <td>18th Street Brewery</td>\n",
       "      <td>Gary</td>\n",
       "      <td>IN</td>\n",
       "    </tr>\n",
       "    <tr>\n",
       "      <th>3</th>\n",
       "      <td>0.090</td>\n",
       "      <td>NaN</td>\n",
       "      <td>2263</td>\n",
       "      <td>Sinister</td>\n",
       "      <td>American Double / Imperial IPA</td>\n",
       "      <td>177</td>\n",
       "      <td>12.0</td>\n",
       "      <td>18th Street Brewery</td>\n",
       "      <td>Gary</td>\n",
       "      <td>IN</td>\n",
       "    </tr>\n",
       "    <tr>\n",
       "      <th>4</th>\n",
       "      <td>0.075</td>\n",
       "      <td>NaN</td>\n",
       "      <td>2262</td>\n",
       "      <td>Sex and Candy</td>\n",
       "      <td>American IPA</td>\n",
       "      <td>177</td>\n",
       "      <td>12.0</td>\n",
       "      <td>18th Street Brewery</td>\n",
       "      <td>Gary</td>\n",
       "      <td>IN</td>\n",
       "    </tr>\n",
       "    <tr>\n",
       "      <th>...</th>\n",
       "      <td>...</td>\n",
       "      <td>...</td>\n",
       "      <td>...</td>\n",
       "      <td>...</td>\n",
       "      <td>...</td>\n",
       "      <td>...</td>\n",
       "      <td>...</td>\n",
       "      <td>...</td>\n",
       "      <td>...</td>\n",
       "      <td>...</td>\n",
       "    </tr>\n",
       "    <tr>\n",
       "      <th>2405</th>\n",
       "      <td>0.067</td>\n",
       "      <td>45.0</td>\n",
       "      <td>928</td>\n",
       "      <td>Belgorado</td>\n",
       "      <td>Belgian IPA</td>\n",
       "      <td>424</td>\n",
       "      <td>12.0</td>\n",
       "      <td>Wynkoop Brewing Company</td>\n",
       "      <td>Denver</td>\n",
       "      <td>CO</td>\n",
       "    </tr>\n",
       "    <tr>\n",
       "      <th>2406</th>\n",
       "      <td>0.052</td>\n",
       "      <td>NaN</td>\n",
       "      <td>807</td>\n",
       "      <td>Rail Yard Ale</td>\n",
       "      <td>American Amber / Red Ale</td>\n",
       "      <td>424</td>\n",
       "      <td>12.0</td>\n",
       "      <td>Wynkoop Brewing Company</td>\n",
       "      <td>Denver</td>\n",
       "      <td>CO</td>\n",
       "    </tr>\n",
       "    <tr>\n",
       "      <th>2407</th>\n",
       "      <td>0.055</td>\n",
       "      <td>NaN</td>\n",
       "      <td>620</td>\n",
       "      <td>B3K Black Lager</td>\n",
       "      <td>Schwarzbier</td>\n",
       "      <td>424</td>\n",
       "      <td>12.0</td>\n",
       "      <td>Wynkoop Brewing Company</td>\n",
       "      <td>Denver</td>\n",
       "      <td>CO</td>\n",
       "    </tr>\n",
       "    <tr>\n",
       "      <th>2408</th>\n",
       "      <td>0.055</td>\n",
       "      <td>40.0</td>\n",
       "      <td>145</td>\n",
       "      <td>Silverback Pale Ale</td>\n",
       "      <td>American Pale Ale (APA)</td>\n",
       "      <td>424</td>\n",
       "      <td>12.0</td>\n",
       "      <td>Wynkoop Brewing Company</td>\n",
       "      <td>Denver</td>\n",
       "      <td>CO</td>\n",
       "    </tr>\n",
       "    <tr>\n",
       "      <th>2409</th>\n",
       "      <td>0.052</td>\n",
       "      <td>NaN</td>\n",
       "      <td>84</td>\n",
       "      <td>Rail Yard Ale (2009)</td>\n",
       "      <td>American Amber / Red Ale</td>\n",
       "      <td>424</td>\n",
       "      <td>12.0</td>\n",
       "      <td>Wynkoop Brewing Company</td>\n",
       "      <td>Denver</td>\n",
       "      <td>CO</td>\n",
       "    </tr>\n",
       "  </tbody>\n",
       "</table>\n",
       "<p>2410 rows × 10 columns</p>\n",
       "</div>"
      ],
      "text/plain": [
       "        abv   ibu    id                  name                           style  \\\n",
       "0     0.050   NaN  1436              Pub Beer             American Pale Lager   \n",
       "1     0.066   NaN  2265           Devil's Cup         American Pale Ale (APA)   \n",
       "2     0.071   NaN  2264   Rise of the Phoenix                    American IPA   \n",
       "3     0.090   NaN  2263              Sinister  American Double / Imperial IPA   \n",
       "4     0.075   NaN  2262         Sex and Candy                    American IPA   \n",
       "...     ...   ...   ...                   ...                             ...   \n",
       "2405  0.067  45.0   928             Belgorado                     Belgian IPA   \n",
       "2406  0.052   NaN   807         Rail Yard Ale        American Amber / Red Ale   \n",
       "2407  0.055   NaN   620       B3K Black Lager                     Schwarzbier   \n",
       "2408  0.055  40.0   145   Silverback Pale Ale         American Pale Ale (APA)   \n",
       "2409  0.052   NaN    84  Rail Yard Ale (2009)        American Amber / Red Ale   \n",
       "\n",
       "      brewery_id  ounces               brewery_name    city state  \n",
       "0            408    12.0  10 Barrel Brewing Company    Bend    OR  \n",
       "1            177    12.0        18th Street Brewery    Gary    IN  \n",
       "2            177    12.0        18th Street Brewery    Gary    IN  \n",
       "3            177    12.0        18th Street Brewery    Gary    IN  \n",
       "4            177    12.0        18th Street Brewery    Gary    IN  \n",
       "...          ...     ...                        ...     ...   ...  \n",
       "2405         424    12.0    Wynkoop Brewing Company  Denver    CO  \n",
       "2406         424    12.0    Wynkoop Brewing Company  Denver    CO  \n",
       "2407         424    12.0    Wynkoop Brewing Company  Denver    CO  \n",
       "2408         424    12.0    Wynkoop Brewing Company  Denver    CO  \n",
       "2409         424    12.0    Wynkoop Brewing Company  Denver    CO  \n",
       "\n",
       "[2410 rows x 10 columns]"
      ]
     },
     "execution_count": 136,
     "metadata": {},
     "output_type": "execute_result"
    }
   ],
   "source": [
    "mix = pd.merge(birra,cerveceras)\n",
    "mix"
   ]
  },
  {
   "attachments": {},
   "cell_type": "markdown",
   "metadata": {},
   "source": [
    "## Ejercicio 19\n",
    "1. ¿Cuántos estados diferentes hay?\n",
    "2. ¿Y ciudades diferentes?\n",
    "3. ¿Cuántas cervecerías hay?"
   ]
  },
  {
   "cell_type": "code",
   "execution_count": 144,
   "metadata": {},
   "outputs": [
    {
     "name": "stdout",
     "output_type": "stream",
     "text": [
      "Estados diferentes: 51\n",
      "\n",
      "Ciudades diferentes: 384\n",
      "\n",
      "Cervecerias diferentes: 551\n"
     ]
    }
   ],
   "source": [
    "states = len(mix[\"state\"].unique())\n",
    "print(\"Estados diferentes:\", states)\n",
    "print()\n",
    "cities = len(mix[\"city\"].unique())\n",
    "print(\"Ciudades diferentes:\", cities)\n",
    "print()\n",
    "cerves = len(mix[\"brewery_name\"].unique())\n",
    "print(\"Cervecerias diferentes:\", cerves)"
   ]
  },
  {
   "attachments": {},
   "cell_type": "markdown",
   "metadata": {},
   "source": [
    "## Ejercicio 20\n",
    "Agrupa por estado y ciudad, la media, mediana y máximo nivel de alcohol"
   ]
  },
  {
   "cell_type": "code",
   "execution_count": 151,
   "metadata": {},
   "outputs": [
    {
     "data": {
      "application/vnd.microsoft.datawrangler.viewer.v0+json": {
       "columns": [
        {
         "name": "('state', 'city')",
         "rawType": "object",
         "type": "unknown"
        },
        {
         "name": "mean",
         "rawType": "float64",
         "type": "float"
        },
        {
         "name": "median",
         "rawType": "float64",
         "type": "float"
        },
        {
         "name": "max",
         "rawType": "float64",
         "type": "float"
        }
       ],
       "conversionMethod": "pd.DataFrame",
       "ref": "1fce6a1a-d7e0-4278-9471-338fce457821",
       "rows": [
        [
         "(' AK', 'Anchorage')",
         "0.054",
         "0.052",
         "0.063"
        ],
        [
         "(' AK', 'Juneau')",
         "0.053",
         "0.053",
         "0.053"
        ],
        [
         "(' AK', 'Soldotna')",
         "0.058",
         "0.058",
         "0.068"
        ],
        [
         "(' AK', 'Talkeetna')",
         "0.059",
         "0.058",
         "0.065"
        ],
        [
         "(' AL', 'Birmingham')",
         "0.065",
         "0.06",
         "0.093"
        ],
        [
         "(' AL', 'Gadsden')",
         "0.06",
         "0.06",
         "0.06"
        ],
        [
         "(' AL', 'Huntsville')",
         "0.058",
         "0.051",
         "0.072"
        ],
        [
         "(' AR', 'Rogers')",
         "0.04",
         "0.04",
         "0.04"
        ],
        [
         "(' AR', 'Springdale')",
         "0.055",
         "0.054",
         "0.061"
        ],
        [
         "(' AZ', 'Chandler')",
         "0.063",
         "0.055",
         "0.095"
        ],
        [
         "(' AZ', 'Flagstaff')",
         "0.055",
         "0.054",
         "0.061"
        ],
        [
         "(' AZ', 'Lake Havasu City')",
         "0.066",
         "0.065",
         "0.085"
        ],
        [
         "(' AZ', 'Phoenix')",
         "0.061",
         "0.061",
         "0.061"
        ],
        [
         "(' AZ', 'Prescott')",
         null,
         null,
         null
        ],
        [
         "(' AZ', 'Tempe')",
         "0.055",
         "0.052",
         "0.067"
        ],
        [
         "(' AZ', 'Tucson')",
         "0.059",
         "0.06",
         "0.071"
        ],
        [
         "(' AZ', 'Williams')",
         "0.052",
         "0.052",
         "0.054"
        ],
        [
         "(' CA', 'Belmont')",
         "0.066",
         "0.071",
         "0.074"
        ],
        [
         "(' CA', 'Boonville')",
         "0.057",
         "0.057",
         "0.07"
        ],
        [
         "(' CA', 'Buellton')",
         "0.049",
         "0.048",
         "0.055"
        ],
        [
         "(' CA', 'Carlsbad')",
         "0.054",
         "0.052",
         "0.068"
        ],
        [
         "(' CA', 'Chico')",
         "0.058",
         "0.056",
         "0.072"
        ],
        [
         "(' CA', 'Claremont')",
         "0.067",
         "0.067",
         "0.067"
        ],
        [
         "(' CA', 'Diamond Springs')",
         "0.05",
         "0.05",
         "0.05"
        ],
        [
         "(' CA', 'Half Moon Bay')",
         "0.037",
         "0.037",
         "0.037"
        ],
        [
         "(' CA', 'Los Angeles')",
         "0.065",
         "0.059",
         "0.094"
        ],
        [
         "(' CA', 'Mammoth Lakes')",
         "0.048",
         "0.044",
         "0.065"
        ],
        [
         "(' CA', 'Mill Valley')",
         "0.075",
         "0.076",
         "0.088"
        ],
        [
         "(' CA', 'Paso Robles')",
         "0.053",
         "0.047",
         "0.075"
        ],
        [
         "(' CA', 'Redlands')",
         "0.044",
         "0.044",
         "0.046"
        ],
        [
         "(' CA', 'Sacramento')",
         "0.061",
         "0.056",
         "0.073"
        ],
        [
         "(' CA', 'San Diego')",
         "0.062",
         "0.058",
         "0.099"
        ],
        [
         "(' CA', 'San Francisco')",
         "0.063",
         "0.061",
         "0.099"
        ],
        [
         "(' CA', 'San Luis Obispo')",
         "0.073",
         "0.074",
         "0.095"
        ],
        [
         "(' CA', 'Santa Cruz')",
         "0.065",
         "0.07",
         "0.089"
        ],
        [
         "(' CA', 'Santee')",
         "0.08",
         "0.08",
         "0.099"
        ],
        [
         "(' CA', 'South San Francisco')",
         "0.052",
         "0.052",
         "0.052"
        ],
        [
         "(' CA', 'Temecula')",
         "0.056",
         "0.05",
         "0.075"
        ],
        [
         "(' CA', 'Torrance')",
         "0.065",
         "0.055",
         "0.099"
        ],
        [
         "(' CA', 'Ukiah')",
         "0.055",
         "0.055",
         "0.055"
        ],
        [
         "(' CA', 'Vista')",
         "0.052",
         "0.052",
         "0.052"
        ],
        [
         "(' CO', 'Arvada')",
         "0.061",
         "0.051",
         "0.092"
        ],
        [
         "(' CO', 'Aspen')",
         "0.063",
         "0.063",
         "0.07"
        ],
        [
         "(' CO', 'Aurora')",
         "0.058",
         "0.061",
         "0.066"
        ],
        [
         "(' CO', 'Boulder')",
         "0.068",
         "0.067",
         "0.128"
        ],
        [
         "(' CO', 'Broomfield')",
         "0.071",
         "0.074",
         "0.095"
        ],
        [
         "(' CO', 'Buena Vista')",
         "0.059",
         "0.055",
         "0.078"
        ],
        [
         "(' CO', 'Colorado Springs')",
         "0.052",
         "0.052",
         "0.052"
        ],
        [
         "(' CO', 'Denver')",
         "0.063",
         "0.062",
         "0.099"
        ],
        [
         "(' CO', 'Dillon')",
         "0.06",
         "0.059",
         "0.069"
        ]
       ],
       "shape": {
        "columns": 3,
        "rows": 401
       }
      },
      "text/html": [
       "<div>\n",
       "<style scoped>\n",
       "    .dataframe tbody tr th:only-of-type {\n",
       "        vertical-align: middle;\n",
       "    }\n",
       "\n",
       "    .dataframe tbody tr th {\n",
       "        vertical-align: top;\n",
       "    }\n",
       "\n",
       "    .dataframe thead th {\n",
       "        text-align: right;\n",
       "    }\n",
       "</style>\n",
       "<table border=\"1\" class=\"dataframe\">\n",
       "  <thead>\n",
       "    <tr style=\"text-align: right;\">\n",
       "      <th></th>\n",
       "      <th></th>\n",
       "      <th>mean</th>\n",
       "      <th>median</th>\n",
       "      <th>max</th>\n",
       "    </tr>\n",
       "    <tr>\n",
       "      <th>state</th>\n",
       "      <th>city</th>\n",
       "      <th></th>\n",
       "      <th></th>\n",
       "      <th></th>\n",
       "    </tr>\n",
       "  </thead>\n",
       "  <tbody>\n",
       "    <tr>\n",
       "      <th rowspan=\"4\" valign=\"top\">AK</th>\n",
       "      <th>Anchorage</th>\n",
       "      <td>0.054</td>\n",
       "      <td>0.052</td>\n",
       "      <td>0.063</td>\n",
       "    </tr>\n",
       "    <tr>\n",
       "      <th>Juneau</th>\n",
       "      <td>0.053</td>\n",
       "      <td>0.053</td>\n",
       "      <td>0.053</td>\n",
       "    </tr>\n",
       "    <tr>\n",
       "      <th>Soldotna</th>\n",
       "      <td>0.058</td>\n",
       "      <td>0.058</td>\n",
       "      <td>0.068</td>\n",
       "    </tr>\n",
       "    <tr>\n",
       "      <th>Talkeetna</th>\n",
       "      <td>0.059</td>\n",
       "      <td>0.058</td>\n",
       "      <td>0.065</td>\n",
       "    </tr>\n",
       "    <tr>\n",
       "      <th>AL</th>\n",
       "      <th>Birmingham</th>\n",
       "      <td>0.065</td>\n",
       "      <td>0.060</td>\n",
       "      <td>0.093</td>\n",
       "    </tr>\n",
       "    <tr>\n",
       "      <th>...</th>\n",
       "      <th>...</th>\n",
       "      <td>...</td>\n",
       "      <td>...</td>\n",
       "      <td>...</td>\n",
       "    </tr>\n",
       "    <tr>\n",
       "      <th>WI</th>\n",
       "      <th>Wilson</th>\n",
       "      <td>0.055</td>\n",
       "      <td>0.055</td>\n",
       "      <td>0.055</td>\n",
       "    </tr>\n",
       "    <tr>\n",
       "      <th>WV</th>\n",
       "      <th>Lewisburg</th>\n",
       "      <td>0.062</td>\n",
       "      <td>0.062</td>\n",
       "      <td>0.067</td>\n",
       "    </tr>\n",
       "    <tr>\n",
       "      <th rowspan=\"3\" valign=\"top\">WY</th>\n",
       "      <th>Jackson</th>\n",
       "      <td>0.055</td>\n",
       "      <td>0.052</td>\n",
       "      <td>0.068</td>\n",
       "    </tr>\n",
       "    <tr>\n",
       "      <th>Pinedale</th>\n",
       "      <td>0.061</td>\n",
       "      <td>0.061</td>\n",
       "      <td>0.072</td>\n",
       "    </tr>\n",
       "    <tr>\n",
       "      <th>Sheridan</th>\n",
       "      <td>0.053</td>\n",
       "      <td>0.048</td>\n",
       "      <td>0.070</td>\n",
       "    </tr>\n",
       "  </tbody>\n",
       "</table>\n",
       "<p>401 rows × 3 columns</p>\n",
       "</div>"
      ],
      "text/plain": [
       "                   mean  median    max\n",
       "state city                            \n",
       "AK    Anchorage   0.054   0.052  0.063\n",
       "      Juneau      0.053   0.053  0.053\n",
       "      Soldotna    0.058   0.058  0.068\n",
       "      Talkeetna   0.059   0.058  0.065\n",
       "AL    Birmingham  0.065   0.060  0.093\n",
       "...                 ...     ...    ...\n",
       "WI    Wilson      0.055   0.055  0.055\n",
       "WV    Lewisburg   0.062   0.062  0.067\n",
       "WY    Jackson     0.055   0.052  0.068\n",
       "      Pinedale    0.061   0.061  0.072\n",
       "      Sheridan    0.053   0.048  0.070\n",
       "\n",
       "[401 rows x 3 columns]"
      ]
     },
     "execution_count": 151,
     "metadata": {},
     "output_type": "execute_result"
    }
   ],
   "source": [
    "ejer_20 = pd.DataFrame(mix.groupby([\"state\", \"city\"])[\"abv\"].agg([\"mean\",\"median\",\"max\"]).round(3))\n",
    "ejer_20"
   ]
  },
  {
   "attachments": {},
   "cell_type": "markdown",
   "metadata": {},
   "source": [
    "## Ejercicio 21\n",
    "¿Cuáles son las cervezas más amargas que se consumen en Indiana, estado = `IN`?"
   ]
  },
  {
   "cell_type": "code",
   "execution_count": null,
   "metadata": {},
   "outputs": [
    {
     "name": "stdout",
     "output_type": "stream",
     "text": [
      "        abv   ibu    id                      name  \\\n",
      "1     0.066   NaN  2265               Devil's Cup   \n",
      "2     0.071   NaN  2264       Rise of the Phoenix   \n",
      "3     0.090   NaN  2263                  Sinister   \n",
      "4     0.075   NaN  2262             Sex and Candy   \n",
      "5     0.077   NaN  2261              Black Exodus   \n",
      "...     ...   ...   ...                       ...   \n",
      "2195  0.045  35.0   948  Circuit Bohemian Pilsner   \n",
      "2275  0.045  50.0  2190      Campside Session IPA   \n",
      "2276  0.045  15.0  1951          Upland Wheat Ale   \n",
      "2277  0.060   NaN  1950             Dragonfly IPA   \n",
      "2329  0.047   NaN   780        T-6 Red Ale (2004)   \n",
      "\n",
      "                               style  brewery_id  ounces  \\\n",
      "1            American Pale Ale (APA)         177    12.0   \n",
      "2                       American IPA         177    12.0   \n",
      "3     American Double / Imperial IPA         177    12.0   \n",
      "4                       American IPA         177    12.0   \n",
      "5                      Oatmeal Stout         177    12.0   \n",
      "...                              ...         ...     ...   \n",
      "2195                  Czech Pilsener          17    16.0   \n",
      "2275                    American IPA         202    16.0   \n",
      "2276                         Witbier         202    16.0   \n",
      "2277                    American IPA         202    16.0   \n",
      "2329        American Amber / Red Ale         506    12.0   \n",
      "\n",
      "                 brewery_name         city state  \n",
      "1         18th Street Brewery         Gary    IN  \n",
      "2         18th Street Brewery         Gary    IN  \n",
      "3         18th Street Brewery         Gary    IN  \n",
      "4         18th Street Brewery         Gary    IN  \n",
      "5         18th Street Brewery         Gary    IN  \n",
      "...                       ...          ...   ...  \n",
      "2195  Tin Man Brewing Company   Evansville    IN  \n",
      "2275   Upland Brewing Company  Bloomington    IN  \n",
      "2276   Upland Brewing Company  Bloomington    IN  \n",
      "2277   Upland Brewing Company  Bloomington    IN  \n",
      "2329  Warbird Brewing Company   Fort Wayne    IN  \n",
      "\n",
      "[139 rows x 10 columns]\n",
      "                              name    ibu\n",
      "479               Hopkick Dropkick  115.0\n",
      "2191         Overlord Imperial IPA  115.0\n",
      "811                 Half Cycle IPA  104.0\n",
      "2062                          Isis   91.0\n",
      "2189                          Csar   90.0\n",
      "...                            ...    ...\n",
      "2056                     The Deuce    NaN\n",
      "2061                         Chaka    NaN\n",
      "2190  Klingon Warnog Roggen Dunkel    NaN\n",
      "2277                 Dragonfly IPA    NaN\n",
      "2329            T-6 Red Ale (2004)    NaN\n",
      "\n",
      "[139 rows x 2 columns]\n"
     ]
    }
   ],
   "source": [
    "mix[\"state\"].unique() #espacio previo a la sigla en los estados\n",
    "\n",
    "cervezas_in = mix[mix['state'] == ' IN']\n",
    "print(cervezas_in)\n",
    "\n",
    "bitter = cervezas_in.sort_values(by='ibu', ascending=False)\n",
    "\n",
    "print(bitter[['name', 'ibu']])"
   ]
  },
  {
   "attachments": {},
   "cell_type": "markdown",
   "metadata": {},
   "source": [
    "## Ejercicio 22\n",
    "Obtén una tabla con los principales estadísticos del campo `ibu`,  a nivel ciudad"
   ]
  },
  {
   "cell_type": "code",
   "execution_count": 164,
   "metadata": {},
   "outputs": [
    {
     "data": {
      "application/vnd.microsoft.datawrangler.viewer.v0+json": {
       "columns": [
        {
         "name": "city",
         "rawType": "object",
         "type": "string"
        },
        {
         "name": "count",
         "rawType": "float64",
         "type": "float"
        },
        {
         "name": "mean",
         "rawType": "float64",
         "type": "float"
        },
        {
         "name": "std",
         "rawType": "float64",
         "type": "float"
        },
        {
         "name": "min",
         "rawType": "float64",
         "type": "float"
        },
        {
         "name": "25%",
         "rawType": "float64",
         "type": "float"
        },
        {
         "name": "50%",
         "rawType": "float64",
         "type": "float"
        },
        {
         "name": "75%",
         "rawType": "float64",
         "type": "float"
        },
        {
         "name": "max",
         "rawType": "float64",
         "type": "float"
        }
       ],
       "conversionMethod": "pd.DataFrame",
       "ref": "b15987ab-cae1-404e-81ad-25a44b09c617",
       "rows": [
        [
         "Abingdon",
         "1.0",
         "135.0",
         null,
         "135.0",
         "135.0",
         "135.0",
         "135.0",
         "135.0"
        ],
        [
         "Abita Springs",
         "3.0",
         "27.333333333333332",
         "21.455380055672126",
         "13.0",
         "15.0",
         "17.0",
         "34.5",
         "52.0"
        ],
        [
         "Ada",
         "0.0",
         null,
         null,
         null,
         null,
         null,
         null,
         null
        ],
        [
         "Afton",
         "4.0",
         "43.0",
         "19.8997487421324",
         "22.0",
         "28.0",
         "45.0",
         "60.0",
         "60.0"
        ],
        [
         "Airway Heights",
         "0.0",
         null,
         null,
         null,
         null,
         null,
         null,
         null
        ],
        [
         "Albuquerque",
         "4.0",
         "54.25",
         "38.88765871070152",
         "15.0",
         "26.25",
         "51.0",
         "79.0",
         "100.0"
        ],
        [
         "Alpine",
         "0.0",
         null,
         null,
         null,
         null,
         null,
         null,
         null
        ],
        [
         "Anchorage",
         "10.0",
         "40.4",
         "26.563132345414388",
         "10.0",
         "15.5",
         "42.5",
         "63.25",
         "70.0"
        ],
        [
         "Angola",
         "2.0",
         "19.0",
         "15.556349186104045",
         "8.0",
         "13.5",
         "19.0",
         "24.5",
         "30.0"
        ],
        [
         "Ann Arbor",
         "1.0",
         "15.0",
         null,
         "15.0",
         "15.0",
         "15.0",
         "15.0",
         "15.0"
        ],
        [
         "Arrington",
         "1.0",
         "16.0",
         null,
         "16.0",
         "16.0",
         "16.0",
         "16.0",
         "16.0"
        ],
        [
         "Arvada",
         "3.0",
         "45.666666666666664",
         "23.072349974229617",
         "29.0",
         "32.5",
         "36.0",
         "54.0",
         "72.0"
        ],
        [
         "Ashburn",
         "2.0",
         "60.0",
         "7.0710678118654755",
         "55.0",
         "57.5",
         "60.0",
         "62.5",
         "65.0"
        ],
        [
         "Asheville",
         "6.0",
         "36.666666666666664",
         "17.107503227141788",
         "24.0",
         "26.25",
         "29.5",
         "39.5",
         "69.0"
        ],
        [
         "Ashland",
         "17.0",
         "54.23529411764706",
         "26.927052873840246",
         "16.0",
         "40.0",
         "55.0",
         "55.0",
         "100.0"
        ],
        [
         "Aspen",
         "2.0",
         "47.0",
         "28.284271247461902",
         "27.0",
         "37.0",
         "47.0",
         "57.0",
         "67.0"
        ],
        [
         "Astoria",
         "5.0",
         "69.0",
         "46.63153439465616",
         "35.0",
         "35.0",
         "40.0",
         "97.0",
         "138.0"
        ],
        [
         "Athens",
         "2.0",
         "53.5",
         "16.263455967290593",
         "42.0",
         "47.75",
         "53.5",
         "59.25",
         "65.0"
        ],
        [
         "Atlanta",
         "1.0",
         "35.0",
         null,
         "35.0",
         "35.0",
         "35.0",
         "35.0",
         "35.0"
        ],
        [
         "Atlantic Highlands",
         "4.0",
         "56.0",
         "41.480919308359915",
         "9.0",
         "28.5",
         "57.5",
         "85.0",
         "100.0"
        ],
        [
         "Aurora",
         "24.0",
         "34.666666666666664",
         "21.383997809550035",
         "12.0",
         "22.0",
         "26.5",
         "39.25",
         "100.0"
        ],
        [
         "Austin",
         "13.0",
         "39.07692307692308",
         "17.900007162296234",
         "20.0",
         "27.0",
         "35.0",
         "42.0",
         "75.0"
        ],
        [
         "Avon",
         "0.0",
         null,
         null,
         null,
         null,
         null,
         null,
         null
        ],
        [
         "Baltimore",
         "2.0",
         "50.0",
         "56.568542494923804",
         "10.0",
         "30.0",
         "50.0",
         "70.0",
         "90.0"
        ],
        [
         "Bargersville",
         "1.0",
         "22.0",
         null,
         "22.0",
         "22.0",
         "22.0",
         "22.0",
         "22.0"
        ],
        [
         "Baton Rouge",
         "6.0",
         "33.166666666666664",
         "15.118421434351758",
         "18.0",
         "22.75",
         "31.5",
         "36.5",
         "60.0"
        ],
        [
         "Battle Creek",
         "2.0",
         "36.0",
         "26.870057685088806",
         "17.0",
         "26.5",
         "36.0",
         "45.5",
         "55.0"
        ],
        [
         "Belfast",
         "0.0",
         null,
         null,
         null,
         null,
         null,
         null,
         null
        ],
        [
         "Bellingham",
         "0.0",
         null,
         null,
         null,
         null,
         null,
         null,
         null
        ],
        [
         "Belmont",
         "3.0",
         "41.333333333333336",
         "38.552993831002716",
         "12.0",
         "19.5",
         "27.0",
         "56.0",
         "85.0"
        ],
        [
         "Belt",
         "0.0",
         null,
         null,
         null,
         null,
         null,
         null,
         null
        ],
        [
         "Bend",
         "9.0",
         "45.666666666666664",
         "20.00624902374256",
         "18.0",
         "30.0",
         "40.0",
         "69.0",
         "70.0"
        ],
        [
         "Biglerville",
         "0.0",
         null,
         null,
         null,
         null,
         null,
         null,
         null
        ],
        [
         "Birmingham",
         "11.0",
         "43.09090909090909",
         "25.590836428122255",
         "6.0",
         "30.0",
         "36.0",
         "54.5",
         "103.0"
        ],
        [
         "Black Mountain",
         "2.0",
         "41.0",
         "14.142135623730951",
         "31.0",
         "36.0",
         "41.0",
         "46.0",
         "51.0"
        ],
        [
         "Blanco",
         "7.0",
         "37.0",
         "27.012342857787562",
         "5.0",
         "21.0",
         "25.0",
         "51.0",
         "85.0"
        ],
        [
         "Bloomfield",
         "1.0",
         "11.0",
         null,
         "11.0",
         "11.0",
         "11.0",
         "11.0",
         "11.0"
        ],
        [
         "Bloomington",
         "8.0",
         "37.25",
         "29.261139514965674",
         "12.0",
         "15.75",
         "22.0",
         "56.5",
         "85.0"
        ],
        [
         "Boise",
         "7.0",
         "76.28571428571429",
         "37.70815245944519",
         "12.0",
         "61.0",
         "100.0",
         "100.0",
         "100.0"
        ],
        [
         "Boone",
         "3.0",
         "39.0",
         "31.240998703626616",
         "19.0",
         "21.0",
         "23.0",
         "49.0",
         "75.0"
        ],
        [
         "Boonville",
         "14.0",
         "22.5",
         "25.40063597023326",
         "4.0",
         "7.75",
         "14.0",
         "22.5",
         "80.0"
        ],
        [
         "Boston",
         "18.0",
         "27.5",
         "12.705950435547441",
         "7.0",
         "16.25",
         "29.0",
         "39.0",
         "45.0"
        ],
        [
         "Boulder",
         "26.0",
         "37.5",
         "20.717625346549735",
         "10.0",
         "20.5",
         "32.0",
         "49.5",
         "90.0"
        ],
        [
         "Boynton Beach",
         "1.0",
         "64.0",
         null,
         "64.0",
         "64.0",
         "64.0",
         "64.0",
         "64.0"
        ],
        [
         "Bozeman",
         "4.0",
         "52.25",
         "22.45551157288562",
         "25.0",
         "45.25",
         "52.0",
         "59.0",
         "80.0"
        ],
        [
         "Brevard",
         "6.0",
         "72.16666666666667",
         "22.274798914169054",
         "35.0",
         "65.0",
         "75.0",
         "85.0",
         "98.0"
        ],
        [
         "Bridgewater Corners",
         "5.0",
         "28.6",
         "12.521980673998822",
         "8.0",
         "30.0",
         "30.0",
         "33.0",
         "42.0"
        ],
        [
         "Bridgman",
         "1.0",
         "35.0",
         null,
         "35.0",
         "35.0",
         "35.0",
         "35.0",
         "35.0"
        ],
        [
         "Bronx",
         "3.0",
         "37.333333333333336",
         "18.583146486355137",
         "16.0",
         "31.0",
         "46.0",
         "48.0",
         "50.0"
        ],
        [
         "Brooklyn",
         "28.0",
         "51.07142857142857",
         "25.019886270618997",
         "7.0",
         "34.75",
         "49.0",
         "62.5",
         "111.0"
        ]
       ],
       "shape": {
        "columns": 8,
        "rows": 384
       }
      },
      "text/html": [
       "<div>\n",
       "<style scoped>\n",
       "    .dataframe tbody tr th:only-of-type {\n",
       "        vertical-align: middle;\n",
       "    }\n",
       "\n",
       "    .dataframe tbody tr th {\n",
       "        vertical-align: top;\n",
       "    }\n",
       "\n",
       "    .dataframe thead th {\n",
       "        text-align: right;\n",
       "    }\n",
       "</style>\n",
       "<table border=\"1\" class=\"dataframe\">\n",
       "  <thead>\n",
       "    <tr style=\"text-align: right;\">\n",
       "      <th></th>\n",
       "      <th>count</th>\n",
       "      <th>mean</th>\n",
       "      <th>std</th>\n",
       "      <th>min</th>\n",
       "      <th>25%</th>\n",
       "      <th>50%</th>\n",
       "      <th>75%</th>\n",
       "      <th>max</th>\n",
       "    </tr>\n",
       "    <tr>\n",
       "      <th>city</th>\n",
       "      <th></th>\n",
       "      <th></th>\n",
       "      <th></th>\n",
       "      <th></th>\n",
       "      <th></th>\n",
       "      <th></th>\n",
       "      <th></th>\n",
       "      <th></th>\n",
       "    </tr>\n",
       "  </thead>\n",
       "  <tbody>\n",
       "    <tr>\n",
       "      <th>Abingdon</th>\n",
       "      <td>1.0</td>\n",
       "      <td>135.000000</td>\n",
       "      <td>NaN</td>\n",
       "      <td>135.0</td>\n",
       "      <td>135.00</td>\n",
       "      <td>135.0</td>\n",
       "      <td>135.00</td>\n",
       "      <td>135.0</td>\n",
       "    </tr>\n",
       "    <tr>\n",
       "      <th>Abita Springs</th>\n",
       "      <td>3.0</td>\n",
       "      <td>27.333333</td>\n",
       "      <td>21.455380</td>\n",
       "      <td>13.0</td>\n",
       "      <td>15.00</td>\n",
       "      <td>17.0</td>\n",
       "      <td>34.50</td>\n",
       "      <td>52.0</td>\n",
       "    </tr>\n",
       "    <tr>\n",
       "      <th>Ada</th>\n",
       "      <td>0.0</td>\n",
       "      <td>NaN</td>\n",
       "      <td>NaN</td>\n",
       "      <td>NaN</td>\n",
       "      <td>NaN</td>\n",
       "      <td>NaN</td>\n",
       "      <td>NaN</td>\n",
       "      <td>NaN</td>\n",
       "    </tr>\n",
       "    <tr>\n",
       "      <th>Afton</th>\n",
       "      <td>4.0</td>\n",
       "      <td>43.000000</td>\n",
       "      <td>19.899749</td>\n",
       "      <td>22.0</td>\n",
       "      <td>28.00</td>\n",
       "      <td>45.0</td>\n",
       "      <td>60.00</td>\n",
       "      <td>60.0</td>\n",
       "    </tr>\n",
       "    <tr>\n",
       "      <th>Airway Heights</th>\n",
       "      <td>0.0</td>\n",
       "      <td>NaN</td>\n",
       "      <td>NaN</td>\n",
       "      <td>NaN</td>\n",
       "      <td>NaN</td>\n",
       "      <td>NaN</td>\n",
       "      <td>NaN</td>\n",
       "      <td>NaN</td>\n",
       "    </tr>\n",
       "    <tr>\n",
       "      <th>...</th>\n",
       "      <td>...</td>\n",
       "      <td>...</td>\n",
       "      <td>...</td>\n",
       "      <td>...</td>\n",
       "      <td>...</td>\n",
       "      <td>...</td>\n",
       "      <td>...</td>\n",
       "      <td>...</td>\n",
       "    </tr>\n",
       "    <tr>\n",
       "      <th>Woodinville</th>\n",
       "      <td>4.0</td>\n",
       "      <td>46.750000</td>\n",
       "      <td>18.643587</td>\n",
       "      <td>27.0</td>\n",
       "      <td>39.75</td>\n",
       "      <td>44.0</td>\n",
       "      <td>51.00</td>\n",
       "      <td>72.0</td>\n",
       "    </tr>\n",
       "    <tr>\n",
       "      <th>Worcester</th>\n",
       "      <td>1.0</td>\n",
       "      <td>69.000000</td>\n",
       "      <td>NaN</td>\n",
       "      <td>69.0</td>\n",
       "      <td>69.00</td>\n",
       "      <td>69.0</td>\n",
       "      <td>69.00</td>\n",
       "      <td>69.0</td>\n",
       "    </tr>\n",
       "    <tr>\n",
       "      <th>Yakima</th>\n",
       "      <td>2.0</td>\n",
       "      <td>54.000000</td>\n",
       "      <td>22.627417</td>\n",
       "      <td>38.0</td>\n",
       "      <td>46.00</td>\n",
       "      <td>54.0</td>\n",
       "      <td>62.00</td>\n",
       "      <td>70.0</td>\n",
       "    </tr>\n",
       "    <tr>\n",
       "      <th>Yardley</th>\n",
       "      <td>0.0</td>\n",
       "      <td>NaN</td>\n",
       "      <td>NaN</td>\n",
       "      <td>NaN</td>\n",
       "      <td>NaN</td>\n",
       "      <td>NaN</td>\n",
       "      <td>NaN</td>\n",
       "      <td>NaN</td>\n",
       "    </tr>\n",
       "    <tr>\n",
       "      <th>York</th>\n",
       "      <td>4.0</td>\n",
       "      <td>44.250000</td>\n",
       "      <td>22.779742</td>\n",
       "      <td>20.0</td>\n",
       "      <td>35.00</td>\n",
       "      <td>41.0</td>\n",
       "      <td>50.25</td>\n",
       "      <td>75.0</td>\n",
       "    </tr>\n",
       "  </tbody>\n",
       "</table>\n",
       "<p>384 rows × 8 columns</p>\n",
       "</div>"
      ],
      "text/plain": [
       "                count        mean        std    min     25%    50%     75%  \\\n",
       "city                                                                         \n",
       "Abingdon          1.0  135.000000        NaN  135.0  135.00  135.0  135.00   \n",
       "Abita Springs     3.0   27.333333  21.455380   13.0   15.00   17.0   34.50   \n",
       "Ada               0.0         NaN        NaN    NaN     NaN    NaN     NaN   \n",
       "Afton             4.0   43.000000  19.899749   22.0   28.00   45.0   60.00   \n",
       "Airway Heights    0.0         NaN        NaN    NaN     NaN    NaN     NaN   \n",
       "...               ...         ...        ...    ...     ...    ...     ...   \n",
       "Woodinville       4.0   46.750000  18.643587   27.0   39.75   44.0   51.00   \n",
       "Worcester         1.0   69.000000        NaN   69.0   69.00   69.0   69.00   \n",
       "Yakima            2.0   54.000000  22.627417   38.0   46.00   54.0   62.00   \n",
       "Yardley           0.0         NaN        NaN    NaN     NaN    NaN     NaN   \n",
       "York              4.0   44.250000  22.779742   20.0   35.00   41.0   50.25   \n",
       "\n",
       "                  max  \n",
       "city                   \n",
       "Abingdon        135.0  \n",
       "Abita Springs    52.0  \n",
       "Ada               NaN  \n",
       "Afton            60.0  \n",
       "Airway Heights    NaN  \n",
       "...               ...  \n",
       "Woodinville      72.0  \n",
       "Worcester        69.0  \n",
       "Yakima           70.0  \n",
       "Yardley           NaN  \n",
       "York             75.0  \n",
       "\n",
       "[384 rows x 8 columns]"
      ]
     },
     "execution_count": 164,
     "metadata": {},
     "output_type": "execute_result"
    }
   ],
   "source": [
    "mix.groupby(\"city\")[\"ibu\"].describe()"
   ]
  },
  {
   "attachments": {},
   "cell_type": "markdown",
   "metadata": {},
   "source": [
    "## Ejercicio 23\n",
    "Consigue en un DataFrame de todas las cervezas en cuyas cervecerías al menos haya una cerveza con un `abv` mínimo 0.07."
   ]
  },
  {
   "cell_type": "code",
   "execution_count": null,
   "metadata": {},
   "outputs": [
    {
     "data": {
      "application/vnd.microsoft.datawrangler.viewer.v0+json": {
       "columns": [
        {
         "name": "index",
         "rawType": "int64",
         "type": "integer"
        },
        {
         "name": "abv",
         "rawType": "float64",
         "type": "float"
        },
        {
         "name": "ibu",
         "rawType": "float64",
         "type": "float"
        },
        {
         "name": "id",
         "rawType": "int64",
         "type": "integer"
        },
        {
         "name": "name",
         "rawType": "object",
         "type": "string"
        },
        {
         "name": "style",
         "rawType": "object",
         "type": "string"
        },
        {
         "name": "brewery_id",
         "rawType": "int64",
         "type": "integer"
        },
        {
         "name": "ounces",
         "rawType": "float64",
         "type": "float"
        },
        {
         "name": "brewery_name",
         "rawType": "object",
         "type": "string"
        },
        {
         "name": "city",
         "rawType": "object",
         "type": "string"
        },
        {
         "name": "state",
         "rawType": "object",
         "type": "string"
        },
        {
         "name": "medias_cerv",
         "rawType": "float64",
         "type": "float"
        }
       ],
       "conversionMethod": "pd.DataFrame",
       "ref": "43050c79-d944-4498-b1d9-7406b60ae3f2",
       "rows": [
        [
         "2",
         "0.071",
         null,
         "2264",
         "Rise of the Phoenix",
         "American IPA",
         "177",
         "12.0",
         "18th Street Brewery",
         "Gary",
         " IN",
         null
        ],
        [
         "3",
         "0.09",
         null,
         "2263",
         "Sinister",
         "American Double / Imperial IPA",
         "177",
         "12.0",
         "18th Street Brewery",
         "Gary",
         " IN",
         null
        ],
        [
         "4",
         "0.075",
         null,
         "2262",
         "Sex and Candy",
         "American IPA",
         "177",
         "12.0",
         "18th Street Brewery",
         "Gary",
         " IN",
         null
        ],
        [
         "5",
         "0.077",
         null,
         "2261",
         "Black Exodus",
         "Oatmeal Stout",
         "177",
         "12.0",
         "18th Street Brewery",
         "Gary",
         " IN",
         null
        ],
        [
         "9",
         "0.086",
         null,
         "2131",
         "Cone Crusher",
         "American Double / Imperial IPA",
         "177",
         "12.0",
         "18th Street Brewery",
         "Gary",
         " IN",
         null
        ],
        [
         "10",
         "0.072",
         null,
         "2099",
         "Sophomoric Saison",
         "Saison / Farmhouse Ale",
         "177",
         "12.0",
         "18th Street Brewery",
         "Gary",
         " IN",
         null
        ],
        [
         "11",
         "0.073",
         null,
         "2098",
         "Regional Ring Of Fire",
         "Saison / Farmhouse Ale",
         "177",
         "12.0",
         "18th Street Brewery",
         "Gary",
         " IN",
         null
        ],
        [
         "13",
         "0.085",
         null,
         "1980",
         "Troll Destroyer",
         "Belgian IPA",
         "177",
         "12.0",
         "18th Street Brewery",
         "Gary",
         " IN",
         null
        ],
        [
         "19",
         "0.0819999999999999",
         null,
         "1593",
         "He Said Baltic-Style Porter",
         "Baltic Porter",
         "368",
         "12.0",
         "21st Amendment Brewery",
         "San Francisco",
         " CA",
         null
        ],
        [
         "20",
         "0.0819999999999999",
         null,
         "1592",
         "He Said Belgian-Style Tripel",
         "Tripel",
         "368",
         "12.0",
         "21st Amendment Brewery",
         "San Francisco",
         " CA",
         null
        ],
        [
         "21",
         "0.099",
         "92.0",
         "1036",
         "Lower De Boom",
         "American Barleywine",
         "368",
         "8.4",
         "21st Amendment Brewery",
         "San Francisco",
         " CA",
         null
        ],
        [
         "22",
         "0.079",
         "45.0",
         "1024",
         "Fireside Chat",
         "Winter Warmer",
         "368",
         "12.0",
         "21st Amendment Brewery",
         "San Francisco",
         " CA",
         null
        ],
        [
         "23",
         "0.079",
         null,
         "976",
         "Marooned On Hog Island",
         "American Stout",
         "368",
         "12.0",
         "21st Amendment Brewery",
         "San Francisco",
         " CA",
         null
        ],
        [
         "31",
         "0.085",
         "52.0",
         "531",
         "Special Edition: Allies Win The War!",
         "English Strong Ale",
         "368",
         "12.0",
         "21st Amendment Brewery",
         "San Francisco",
         " CA",
         null
        ],
        [
         "32",
         "0.0969999999999999",
         "94.0",
         "432",
         "Hop Crisis",
         "American Double / Imperial IPA",
         "368",
         "12.0",
         "21st Amendment Brewery",
         "San Francisco",
         " CA",
         null
        ],
        [
         "34",
         "0.079",
         "45.0",
         "321",
         "Fireside Chat (2010)",
         "Winter Warmer",
         "368",
         "12.0",
         "21st Amendment Brewery",
         "San Francisco",
         " CA",
         null
        ],
        [
         "36",
         "0.083",
         "35.0",
         "11",
         "Monk's Blood",
         "Belgian Dark Ale",
         "368",
         "12.0",
         "21st Amendment Brewery",
         "San Francisco",
         " CA",
         null
        ],
        [
         "52",
         "0.09",
         null,
         "2220",
         "Barn Yeti",
         "Belgian Strong Dark Ale",
         "27",
         "16.0",
         "450 North Brewing Company",
         "Columbus",
         " IN",
         null
        ],
        [
         "54",
         "0.09",
         "50.0",
         "2218",
         "Ironman",
         "English Strong Ale",
         "27",
         "16.0",
         "450 North Brewing Company",
         "Columbus",
         " IN",
         null
        ],
        [
         "60",
         "0.084",
         "82.0",
         "47",
         "Ballz Deep Double IPA",
         "American Double / Imperial IPA",
         "481",
         "16.0",
         "7 Seas Brewing Company",
         "Gig Harbor",
         " WA",
         null
        ],
        [
         "67",
         "0.0819999999999999",
         "68.0",
         "2540",
         "Citra Ass Down",
         "American IPA",
         "62",
         "16.0",
         "Against The Grain Brewery",
         "Louisville",
         " KY",
         null
        ],
        [
         "69",
         "0.08",
         "68.0",
         "2686",
         "Citra Ass Down",
         "American Double / Imperial IPA",
         "1",
         "16.0",
         "Against the Grain Brewery",
         "Louisville",
         " KY",
         null
        ],
        [
         "70",
         "0.125",
         "80.0",
         "2685",
         "London Balling",
         "English Barleywine",
         "1",
         "16.0",
         "Against the Grain Brewery",
         "Louisville",
         " KY",
         null
        ],
        [
         "71",
         "0.077",
         "25.0",
         "2684",
         "35 K",
         "Milk / Sweet Stout",
         "1",
         "16.0",
         "Against the Grain Brewery",
         "Louisville",
         " KY",
         null
        ],
        [
         "77",
         "0.076",
         "68.0",
         "2678",
         "Rico Sauvin",
         "American Double / Imperial IPA",
         "1",
         "16.0",
         "Against the Grain Brewery",
         "Louisville",
         " KY",
         null
        ],
        [
         "87",
         "0.0819999999999999",
         "103.0",
         "2401",
         "Yellow Wolf Imperial IPA",
         "American Double / Imperial IPA",
         "117",
         "12.0",
         "Alameda Brewing",
         "Portland",
         " OR",
         null
        ],
        [
         "127",
         "0.085",
         null,
         "2039",
         "Uroboros",
         "American Stout",
         "193",
         "12.0",
         "Anthem Brewing Company",
         "Oklahoma City",
         " OK",
         null
        ],
        [
         "128",
         "0.071",
         "75.0",
         "2511",
         "Long Leaf",
         "American IPA",
         "69",
         "16.0",
         "Appalachian Mountain Brewery",
         "Boone",
         " NC",
         null
        ],
        [
         "134",
         "0.092",
         "50.0",
         "1333",
         "Quakertown Stout",
         "American Double / Imperial Stout",
         "426",
         "12.0",
         "Armadillo Ale Works",
         "Denton",
         " TX",
         null
        ],
        [
         "142",
         "0.077",
         null,
         "1639",
         "Aslan IPA",
         "American IPA",
         "353",
         "16.0",
         "Aslan Brewing Company",
         "Bellingham",
         " WA",
         null
        ],
        [
         "143",
         "0.077",
         null,
         "1638",
         "Aslan Amber",
         "American Amber / Red Ale",
         "353",
         "16.0",
         "Aslan Brewing Company",
         "Bellingham",
         " WA",
         null
        ],
        [
         "147",
         "0.0819999999999999",
         "138.0",
         "980",
         "Bitter Bitch Imperial IPA",
         "American Double / Imperial IPA",
         "374",
         "12.0",
         "Astoria Brewing Company",
         "Astoria",
         " OR",
         null
        ],
        [
         "150",
         "0.075",
         "115.0",
         "2503",
         "Hop A-Peel",
         "American Double / Imperial IPA",
         "72",
         "16.0",
         "Atwater Brewery",
         "Detroit",
         " MI",
         null
        ],
        [
         "161",
         "0.08",
         null,
         "2589",
         "Raja",
         "American Double / Imperial IPA",
         "37",
         "12.0",
         "Avery Brewing Company",
         "Boulder",
         " CO",
         null
        ],
        [
         "168",
         "0.072",
         "22.0",
         "1579",
         "OktoberBeast",
         "Märzen / Oktoberfest",
         "360",
         "12.0",
         "Aviator Brewing Company",
         "Fuquay-Varina",
         " NC",
         null
        ],
        [
         "171",
         "0.092",
         "5.0",
         "704",
         "Devils Tramping Ground Tripel",
         "Tripel",
         "360",
         "12.0",
         "Aviator Brewing Company",
         "Fuquay-Varina",
         " NC",
         null
        ],
        [
         "173",
         "0.086",
         null,
         "2058",
         "Palate Mallet",
         "American Double / Imperial IPA",
         "235",
         "12.0",
         "Back East Brewing Company",
         "Bloomfield",
         " CT",
         null
        ],
        [
         "212",
         "0.088",
         "108.0",
         "1806",
         "Hoptopus Double IPA",
         "American Double / Imperial IPA",
         "306",
         "16.0",
         "Beach Brewing Company",
         "Virginia Beach",
         " VA",
         null
        ],
        [
         "224",
         "0.083",
         null,
         "2557",
         "Uber Lupin Schwarz IPA",
         "American Double / Imperial IPA",
         "53",
         "16.0",
         "Bent Brewstillery",
         "Roseville",
         " MN",
         null
        ],
        [
         "227",
         "0.072",
         "87.0",
         "2410",
         "Harness the Winter",
         "American IPA",
         "75",
         "12.0",
         "Bent Paddle Brewing Company",
         "Duluth",
         " MN",
         null
        ],
        [
         "234",
         "0.078",
         null,
         "1158",
         "La Frontera Premium IPA",
         "American IPA",
         "463",
         "12.0",
         "Big Bend Brewing Company",
         "Alpine",
         " TX",
         null
        ],
        [
         "239",
         "0.081",
         "17.0",
         "2104",
         "Aprè Shred",
         "American Strong Ale",
         "220",
         "16.0",
         "Big Choice Brewing",
         "Broomfield",
         " CO",
         null
        ],
        [
         "240",
         "0.095",
         "104.0",
         "1762",
         "Hemlock Double IPA",
         "American Double / Imperial IPA",
         "220",
         "12.0",
         "Big Choice Brewing",
         "Broomfield",
         " CO",
         null
        ],
        [
         "246",
         "0.08",
         "54.0",
         "2639",
         "Dark Star",
         "American Stout",
         "8",
         "16.0",
         "Big Lake Brewing",
         "Holland",
         " MI",
         null
        ],
        [
         "249",
         "0.075",
         "60.0",
         "2585",
         "Galaxy IPA",
         "American IPA",
         "40",
         "16.0",
         "Big Muddy Brewing",
         "Murphysboro",
         " IL",
         null
        ],
        [
         "256",
         "0.072",
         "60.0",
         "1456",
         "Powder Hound Winter Ale",
         "English Strong Ale",
         "336",
         "12.0",
         "Big Sky Brewing Company",
         "Missoula",
         " MT",
         null
        ],
        [
         "267",
         "0.099",
         "85.0",
         "1256",
         "Forest Fire Imperial Smoked Rye",
         "Rye Beer",
         "444",
         "16.0",
         "Big Wood Brewery",
         "Vadnais Heights",
         " MN",
         null
        ],
        [
         "268",
         "0.098",
         "76.0",
         "1255",
         "Bad Axe Imperial IPA",
         "American Double / Imperial IPA",
         "444",
         "16.0",
         "Big Wood Brewery",
         "Vadnais Heights",
         " MN",
         null
        ],
        [
         "275",
         "0.072",
         "75.0",
         "2620",
         "Saucy Intruder",
         "Rye Beer",
         "18",
         "16.0",
         "Black Acre Brewing Co.",
         "Indianapolis",
         " IN",
         null
        ],
        [
         "277",
         "0.075",
         "35.0",
         "1898",
         "Blackmarket Rye IPA",
         "American IPA",
         "112",
         "12.0",
         "Black Market Brewing Company",
         "Temecula",
         " CA",
         null
        ]
       ],
       "shape": {
        "columns": 11,
        "rows": 409
       }
      },
      "text/html": [
       "<div>\n",
       "<style scoped>\n",
       "    .dataframe tbody tr th:only-of-type {\n",
       "        vertical-align: middle;\n",
       "    }\n",
       "\n",
       "    .dataframe tbody tr th {\n",
       "        vertical-align: top;\n",
       "    }\n",
       "\n",
       "    .dataframe thead th {\n",
       "        text-align: right;\n",
       "    }\n",
       "</style>\n",
       "<table border=\"1\" class=\"dataframe\">\n",
       "  <thead>\n",
       "    <tr style=\"text-align: right;\">\n",
       "      <th></th>\n",
       "      <th>abv</th>\n",
       "      <th>ibu</th>\n",
       "      <th>id</th>\n",
       "      <th>name</th>\n",
       "      <th>style</th>\n",
       "      <th>brewery_id</th>\n",
       "      <th>ounces</th>\n",
       "      <th>brewery_name</th>\n",
       "      <th>city</th>\n",
       "      <th>state</th>\n",
       "      <th>medias_cerv</th>\n",
       "    </tr>\n",
       "  </thead>\n",
       "  <tbody>\n",
       "    <tr>\n",
       "      <th>2</th>\n",
       "      <td>0.071</td>\n",
       "      <td>NaN</td>\n",
       "      <td>2264</td>\n",
       "      <td>Rise of the Phoenix</td>\n",
       "      <td>American IPA</td>\n",
       "      <td>177</td>\n",
       "      <td>12.0</td>\n",
       "      <td>18th Street Brewery</td>\n",
       "      <td>Gary</td>\n",
       "      <td>IN</td>\n",
       "      <td>NaN</td>\n",
       "    </tr>\n",
       "    <tr>\n",
       "      <th>3</th>\n",
       "      <td>0.090</td>\n",
       "      <td>NaN</td>\n",
       "      <td>2263</td>\n",
       "      <td>Sinister</td>\n",
       "      <td>American Double / Imperial IPA</td>\n",
       "      <td>177</td>\n",
       "      <td>12.0</td>\n",
       "      <td>18th Street Brewery</td>\n",
       "      <td>Gary</td>\n",
       "      <td>IN</td>\n",
       "      <td>NaN</td>\n",
       "    </tr>\n",
       "    <tr>\n",
       "      <th>4</th>\n",
       "      <td>0.075</td>\n",
       "      <td>NaN</td>\n",
       "      <td>2262</td>\n",
       "      <td>Sex and Candy</td>\n",
       "      <td>American IPA</td>\n",
       "      <td>177</td>\n",
       "      <td>12.0</td>\n",
       "      <td>18th Street Brewery</td>\n",
       "      <td>Gary</td>\n",
       "      <td>IN</td>\n",
       "      <td>NaN</td>\n",
       "    </tr>\n",
       "    <tr>\n",
       "      <th>5</th>\n",
       "      <td>0.077</td>\n",
       "      <td>NaN</td>\n",
       "      <td>2261</td>\n",
       "      <td>Black Exodus</td>\n",
       "      <td>Oatmeal Stout</td>\n",
       "      <td>177</td>\n",
       "      <td>12.0</td>\n",
       "      <td>18th Street Brewery</td>\n",
       "      <td>Gary</td>\n",
       "      <td>IN</td>\n",
       "      <td>NaN</td>\n",
       "    </tr>\n",
       "    <tr>\n",
       "      <th>9</th>\n",
       "      <td>0.086</td>\n",
       "      <td>NaN</td>\n",
       "      <td>2131</td>\n",
       "      <td>Cone Crusher</td>\n",
       "      <td>American Double / Imperial IPA</td>\n",
       "      <td>177</td>\n",
       "      <td>12.0</td>\n",
       "      <td>18th Street Brewery</td>\n",
       "      <td>Gary</td>\n",
       "      <td>IN</td>\n",
       "      <td>NaN</td>\n",
       "    </tr>\n",
       "    <tr>\n",
       "      <th>...</th>\n",
       "      <td>...</td>\n",
       "      <td>...</td>\n",
       "      <td>...</td>\n",
       "      <td>...</td>\n",
       "      <td>...</td>\n",
       "      <td>...</td>\n",
       "      <td>...</td>\n",
       "      <td>...</td>\n",
       "      <td>...</td>\n",
       "      <td>...</td>\n",
       "      <td>...</td>\n",
       "    </tr>\n",
       "    <tr>\n",
       "      <th>2380</th>\n",
       "      <td>0.080</td>\n",
       "      <td>31.0</td>\n",
       "      <td>761</td>\n",
       "      <td>P-51 Porter</td>\n",
       "      <td>American Porter</td>\n",
       "      <td>509</td>\n",
       "      <td>16.0</td>\n",
       "      <td>Wingman Brewers</td>\n",
       "      <td>Tacoma</td>\n",
       "      <td>WA</td>\n",
       "      <td>NaN</td>\n",
       "    </tr>\n",
       "    <tr>\n",
       "      <th>2382</th>\n",
       "      <td>0.071</td>\n",
       "      <td>60.0</td>\n",
       "      <td>2148</td>\n",
       "      <td>#002 American I.P.A.</td>\n",
       "      <td>American IPA</td>\n",
       "      <td>211</td>\n",
       "      <td>12.0</td>\n",
       "      <td>Wisconsin Brewing Company</td>\n",
       "      <td>Verona</td>\n",
       "      <td>WI</td>\n",
       "      <td>NaN</td>\n",
       "    </tr>\n",
       "    <tr>\n",
       "      <th>2398</th>\n",
       "      <td>0.077</td>\n",
       "      <td>30.0</td>\n",
       "      <td>1513</td>\n",
       "      <td>Lights Out Vanilla Cream Extra Stout</td>\n",
       "      <td>American Double / Imperial IPA</td>\n",
       "      <td>199</td>\n",
       "      <td>12.0</td>\n",
       "      <td>Worthy Brewing Company</td>\n",
       "      <td>Bend</td>\n",
       "      <td>OR</td>\n",
       "      <td>NaN</td>\n",
       "    </tr>\n",
       "    <tr>\n",
       "      <th>2402</th>\n",
       "      <td>0.082</td>\n",
       "      <td>NaN</td>\n",
       "      <td>1316</td>\n",
       "      <td>Colorojo Imperial Red Ale</td>\n",
       "      <td>American Strong Ale</td>\n",
       "      <td>424</td>\n",
       "      <td>12.0</td>\n",
       "      <td>Wynkoop Brewing Company</td>\n",
       "      <td>Denver</td>\n",
       "      <td>CO</td>\n",
       "      <td>NaN</td>\n",
       "    </tr>\n",
       "    <tr>\n",
       "      <th>2404</th>\n",
       "      <td>0.075</td>\n",
       "      <td>NaN</td>\n",
       "      <td>1035</td>\n",
       "      <td>Rocky Mountain Oyster Stout</td>\n",
       "      <td>American Stout</td>\n",
       "      <td>424</td>\n",
       "      <td>12.0</td>\n",
       "      <td>Wynkoop Brewing Company</td>\n",
       "      <td>Denver</td>\n",
       "      <td>CO</td>\n",
       "      <td>NaN</td>\n",
       "    </tr>\n",
       "  </tbody>\n",
       "</table>\n",
       "<p>409 rows × 11 columns</p>\n",
       "</div>"
      ],
      "text/plain": [
       "        abv   ibu    id                                  name  \\\n",
       "2     0.071   NaN  2264                   Rise of the Phoenix   \n",
       "3     0.090   NaN  2263                              Sinister   \n",
       "4     0.075   NaN  2262                         Sex and Candy   \n",
       "5     0.077   NaN  2261                          Black Exodus   \n",
       "9     0.086   NaN  2131                          Cone Crusher   \n",
       "...     ...   ...   ...                                   ...   \n",
       "2380  0.080  31.0   761                           P-51 Porter   \n",
       "2382  0.071  60.0  2148                  #002 American I.P.A.   \n",
       "2398  0.077  30.0  1513  Lights Out Vanilla Cream Extra Stout   \n",
       "2402  0.082   NaN  1316             Colorojo Imperial Red Ale   \n",
       "2404  0.075   NaN  1035           Rocky Mountain Oyster Stout   \n",
       "\n",
       "                               style  brewery_id  ounces  \\\n",
       "2                       American IPA         177    12.0   \n",
       "3     American Double / Imperial IPA         177    12.0   \n",
       "4                       American IPA         177    12.0   \n",
       "5                      Oatmeal Stout         177    12.0   \n",
       "9     American Double / Imperial IPA         177    12.0   \n",
       "...                              ...         ...     ...   \n",
       "2380                 American Porter         509    16.0   \n",
       "2382                    American IPA         211    12.0   \n",
       "2398  American Double / Imperial IPA         199    12.0   \n",
       "2402             American Strong Ale         424    12.0   \n",
       "2404                  American Stout         424    12.0   \n",
       "\n",
       "                   brewery_name    city state  medias_cerv  \n",
       "2           18th Street Brewery    Gary    IN          NaN  \n",
       "3           18th Street Brewery    Gary    IN          NaN  \n",
       "4           18th Street Brewery    Gary    IN          NaN  \n",
       "5           18th Street Brewery    Gary    IN          NaN  \n",
       "9           18th Street Brewery    Gary    IN          NaN  \n",
       "...                         ...     ...   ...          ...  \n",
       "2380            Wingman Brewers  Tacoma    WA          NaN  \n",
       "2382  Wisconsin Brewing Company  Verona    WI          NaN  \n",
       "2398     Worthy Brewing Company    Bend    OR          NaN  \n",
       "2402    Wynkoop Brewing Company  Denver    CO          NaN  \n",
       "2404    Wynkoop Brewing Company  Denver    CO          NaN  \n",
       "\n",
       "[409 rows x 11 columns]"
      ]
     },
     "execution_count": 166,
     "metadata": {},
     "output_type": "execute_result"
    }
   ],
   "source": [
    "mix[mix[\"abv\"]>0.07]\n"
   ]
  },
  {
   "attachments": {},
   "cell_type": "markdown",
   "metadata": {},
   "source": [
    "## Ejercicio 24\n",
    "Teniendo en cuenta la media de amargor de todas las cervezas, obtén una tabla con las cervezas cuyos estados tengan una media de amargor en cerveza por encima de la media"
   ]
  },
  {
   "cell_type": "code",
   "execution_count": 60,
   "metadata": {},
   "outputs": [],
   "source": [
    "# Las cervezas que se encuentran en aquellos estados, cuya media de amargor, sea superior a la media de amargor total"
   ]
  },
  {
   "cell_type": "code",
   "execution_count": 174,
   "metadata": {},
   "outputs": [
    {
     "data": {
      "application/vnd.microsoft.datawrangler.viewer.v0+json": {
       "columns": [
        {
         "name": "index",
         "rawType": "int64",
         "type": "integer"
        },
        {
         "name": "abv",
         "rawType": "float64",
         "type": "float"
        },
        {
         "name": "ibu",
         "rawType": "float64",
         "type": "float"
        },
        {
         "name": "id",
         "rawType": "int64",
         "type": "integer"
        },
        {
         "name": "name",
         "rawType": "object",
         "type": "string"
        },
        {
         "name": "style",
         "rawType": "object",
         "type": "string"
        },
        {
         "name": "brewery_id",
         "rawType": "int64",
         "type": "integer"
        },
        {
         "name": "ounces",
         "rawType": "float64",
         "type": "float"
        },
        {
         "name": "brewery_name",
         "rawType": "object",
         "type": "string"
        },
        {
         "name": "city",
         "rawType": "object",
         "type": "string"
        },
        {
         "name": "state",
         "rawType": "object",
         "type": "string"
        },
        {
         "name": "medias_cerv",
         "rawType": "float64",
         "type": "float"
        }
       ],
       "conversionMethod": "pd.DataFrame",
       "ref": "455b1c40-dcd1-4da3-8391-f559bc603d65",
       "rows": [
        [
         "14",
         "0.061",
         "60.0",
         "1979",
         "Bitter Bitch",
         "American Pale Ale (APA)",
         "177",
         "12.0",
         "18th Street Brewery",
         "Gary",
         " IN",
         "42.989010989010985"
        ],
        [
         "21",
         "0.099",
         "92.0",
         "1036",
         "Lower De Boom",
         "American Barleywine",
         "368",
         "8.4",
         "21st Amendment Brewery",
         "San Francisco",
         " CA",
         "46.28148148148148"
        ],
        [
         "28",
         "0.07",
         "70.0",
         "799",
         "21st Amendment IPA (2006)",
         "American IPA",
         "368",
         "12.0",
         "21st Amendment Brewery",
         "San Francisco",
         " CA",
         "46.28148148148148"
        ],
        [
         "29",
         "0.07",
         "70.0",
         "797",
         "Brew Free! or Die IPA (2008)",
         "American IPA",
         "368",
         "12.0",
         "21st Amendment Brewery",
         "San Francisco",
         " CA",
         "46.28148148148148"
        ],
        [
         "30",
         "0.07",
         "70.0",
         "796",
         "Brew Free! or Die IPA (2009)",
         "American IPA",
         "368",
         "12.0",
         "21st Amendment Brewery",
         "San Francisco",
         " CA",
         "46.28148148148148"
        ],
        [
         "31",
         "0.085",
         "52.0",
         "531",
         "Special Edition: Allies Win The War!",
         "English Strong Ale",
         "368",
         "12.0",
         "21st Amendment Brewery",
         "San Francisco",
         " CA",
         "46.28148148148148"
        ],
        [
         "32",
         "0.0969999999999999",
         "94.0",
         "432",
         "Hop Crisis",
         "American Double / Imperial IPA",
         "368",
         "12.0",
         "21st Amendment Brewery",
         "San Francisco",
         " CA",
         "46.28148148148148"
        ],
        [
         "35",
         "0.068",
         "65.0",
         "173",
         "Back in Black",
         "American Black Ale",
         "368",
         "12.0",
         "21st Amendment Brewery",
         "San Francisco",
         " CA",
         "46.28148148148148"
        ],
        [
         "37",
         "0.07",
         "65.0",
         "10",
         "Brew Free! or Die IPA",
         "American IPA",
         "368",
         "12.0",
         "21st Amendment Brewery",
         "San Francisco",
         " CA",
         "46.28148148148148"
        ],
        [
         "39",
         "0.07",
         "82.0",
         "2519",
         "Bimini Twist",
         "American IPA",
         "67",
         "12.0",
         "3 Daughters Brewing",
         "St Petersburg",
         " FL",
         "46.75675675675676"
        ],
        [
         "51",
         "0.05",
         "45.0",
         "2602",
         "Citrafest",
         "American IPA",
         "27",
         "16.0",
         "450 North Brewing Company",
         "Columbus",
         " IN",
         "42.989010989010985"
        ],
        [
         "53",
         "0.069",
         "65.0",
         "2219",
         "Scarecrow",
         "American IPA",
         "27",
         "16.0",
         "450 North Brewing Company",
         "Columbus",
         " IN",
         "42.989010989010985"
        ],
        [
         "54",
         "0.09",
         "50.0",
         "2218",
         "Ironman",
         "English Strong Ale",
         "27",
         "16.0",
         "450 North Brewing Company",
         "Columbus",
         " IN",
         "42.989010989010985"
        ],
        [
         "57",
         "0.059",
         "75.0",
         "972",
         "Rude Parrot IPA",
         "American IPA",
         "481",
         "16.0",
         "7 Seas Brewing Company",
         "Gig Harbor",
         " WA",
         "44.97674418604651"
        ],
        [
         "60",
         "0.084",
         "82.0",
         "47",
         "Ballz Deep Double IPA",
         "American Double / Imperial IPA",
         "481",
         "16.0",
         "7 Seas Brewing Company",
         "Gig Harbor",
         " WA",
         "44.97674418604651"
        ],
        [
         "64",
         "0.065",
         "52.0",
         "516",
         "Jockamo IPA",
         "American IPA",
         "533",
         "12.0",
         "Abita Brewing Company",
         "Abita Springs",
         " LA",
         "33.0"
        ],
        [
         "67",
         "0.0819999999999999",
         "68.0",
         "2540",
         "Citra Ass Down",
         "American IPA",
         "62",
         "16.0",
         "Against The Grain Brewery",
         "Louisville",
         " KY",
         "40.714285714285715"
        ],
        [
         "69",
         "0.08",
         "68.0",
         "2686",
         "Citra Ass Down",
         "American Double / Imperial IPA",
         "1",
         "16.0",
         "Against the Grain Brewery",
         "Louisville",
         " KY",
         "40.714285714285715"
        ],
        [
         "70",
         "0.125",
         "80.0",
         "2685",
         "London Balling",
         "English Barleywine",
         "1",
         "16.0",
         "Against the Grain Brewery",
         "Louisville",
         " KY",
         "40.714285714285715"
        ],
        [
         "72",
         "0.042",
         "42.0",
         "2683",
         "A Beer",
         "American Pale Ale (APA)",
         "1",
         "16.0",
         "Against the Grain Brewery",
         "Louisville",
         " KY",
         "40.714285714285715"
        ],
        [
         "77",
         "0.076",
         "68.0",
         "2678",
         "Rico Sauvin",
         "American Double / Imperial IPA",
         "1",
         "16.0",
         "Against the Grain Brewery",
         "Louisville",
         " KY",
         "40.714285714285715"
        ],
        [
         "80",
         "0.06",
         "65.0",
         "2675",
         "Pile of Face",
         "American IPA",
         "1",
         "16.0",
         "Against the Grain Brewery",
         "Louisville",
         " KY",
         "40.714285714285715"
        ],
        [
         "87",
         "0.0819999999999999",
         "103.0",
         "2401",
         "Yellow Wolf Imperial IPA",
         "American Double / Imperial IPA",
         "117",
         "12.0",
         "Alameda Brewing",
         "Portland",
         " OR",
         "47.94252873563219"
        ],
        [
         "107",
         "0.07",
         "80.0",
         "1327",
         "Hop Ottin' IPA",
         "American IPA",
         "171",
         "12.0",
         "Anderson Valley Brewing Company",
         "Boonville",
         " CA",
         "46.28148148148148"
        ],
        [
         "115",
         "0.07",
         "80.0",
         "367",
         "Hop Ottin' IPA (2011)",
         "American IPA",
         "171",
         "12.0",
         "Anderson Valley Brewing Company",
         "Boonville",
         " CA",
         "46.28148148148148"
        ],
        [
         "128",
         "0.071",
         "75.0",
         "2511",
         "Long Leaf",
         "American IPA",
         "69",
         "16.0",
         "Appalachian Mountain Brewery",
         "Boone",
         " NC",
         "43.3"
        ],
        [
         "131",
         "0.06",
         "55.0",
         "413",
         "Sky High Rye",
         "American Pale Ale (APA)",
         "541",
         "12.0",
         "Arcadia Brewing Company",
         "Battle Creek",
         " MI",
         "36.73684210526316"
        ],
        [
         "134",
         "0.092",
         "50.0",
         "1333",
         "Quakertown Stout",
         "American Double / Imperial Stout",
         "426",
         "12.0",
         "Armadillo Ale Works",
         "Denton",
         " TX",
         "40.39325842696629"
        ],
        [
         "140",
         "0.06",
         "69.0",
         "428",
         "Shiva IPA",
         "American IPA",
         "528",
         "12.0",
         "Asheville Brewing Company",
         "Asheville",
         " NC",
         "43.3"
        ],
        [
         "145",
         "0.07",
         "67.0",
         "596",
         "Independence Pass Ale",
         "American IPA",
         "523",
         "12.0",
         "Aspen Brewing Company",
         "Aspen",
         " CO",
         "47.43150684931507"
        ],
        [
         "147",
         "0.0819999999999999",
         "138.0",
         "980",
         "Bitter Bitch Imperial IPA",
         "American Double / Imperial IPA",
         "374",
         "12.0",
         "Astoria Brewing Company",
         "Astoria",
         " OR",
         "47.94252873563219"
        ],
        [
         "150",
         "0.075",
         "115.0",
         "2503",
         "Hop A-Peel",
         "American Double / Imperial IPA",
         "72",
         "16.0",
         "Atwater Brewery",
         "Detroit",
         " MI",
         "36.73684210526316"
        ],
        [
         "154",
         "0.05",
         "62.0",
         "528",
         "Grand Circus IPA",
         "American IPA",
         "72",
         "12.0",
         "Atwater Brewery",
         "Detroit",
         " MI",
         "36.73684210526316"
        ],
        [
         "165",
         "0.063",
         "69.0",
         "107",
         "Avery India Pale Ale",
         "American IPA",
         "37",
         "12.0",
         "Avery Brewing Company",
         "Boulder",
         " CO",
         "47.43150684931507"
        ],
        [
         "180",
         "0.068",
         "70.0",
         "966",
         "Topcutter India Pale Ale",
         "American IPA",
         "483",
         "12.0",
         "Bale Breaker Brewing Company",
         "Yakima",
         " WA",
         "44.97674418604651"
        ],
        [
         "185",
         "0.07",
         "75.0",
         "1400",
         "Big Eye India Pale Ale",
         "American IPA",
         "34",
         "12.0",
         "Ballast Point Brewing Company",
         "San Diego",
         " CA",
         "46.28148148148148"
        ],
        [
         "187",
         "0.07",
         "70.0",
         "1018",
         "Sculpin IPA",
         "American IPA",
         "34",
         "12.0",
         "Ballast Point Brewing Company",
         "San Diego",
         " CA",
         "46.28148148148148"
        ],
        [
         "190",
         "0.035",
         "45.0",
         "1643",
         "Banner American Ale",
         "American Amber / Red Ale",
         "318",
         "12.0",
         "Banner Beer Company",
         "Williamsburg",
         " MA",
         "38.0"
        ],
        [
         "191",
         "0.07",
         "46.0",
         "2618",
         "Thai.p.a",
         "American IPA",
         "20",
         "16.0",
         "Bare Hands Brewery",
         "Granger",
         " IN",
         "42.989010989010985"
        ],
        [
         "192",
         "0.06",
         "60.0",
         "2005",
         "Barrio Blanco",
         "American IPA",
         "251",
         "12.0",
         "Barrio Brewing Company",
         "Tucson",
         " AZ",
         "35.208333333333336"
        ],
        [
         "195",
         "0.067",
         "60.0",
         "2323",
         "Ultra Gnar Gnar IPA",
         "American IPA",
         "116",
         "12.0",
         "Base Camp Brewing Co.",
         "Portland",
         " OR",
         "47.94252873563219"
        ],
        [
         "196",
         "0.068",
         "62.0",
         "2189",
         "In-Tents India Pale Lager",
         "American Pale Lager",
         "116",
         "12.0",
         "Base Camp Brewing Co.",
         "Portland",
         " OR",
         "47.94252873563219"
        ],
        [
         "199",
         "0.054",
         "55.0",
         "1966",
         "Wagon Party",
         "California Common / Steam Beer",
         "258",
         "12.0",
         "Bauhaus Brew Labs",
         "Minneapolis",
         " MN",
         "49.95652173913044"
        ],
        [
         "200",
         "0.067",
         "70.0",
         "1965",
         "Sky-Five",
         "American IPA",
         "258",
         "12.0",
         "Bauhaus Brew Labs",
         "Minneapolis",
         " MN",
         "49.95652173913044"
        ],
        [
         "211",
         "0.069",
         "69.0",
         "182",
         "Stowaway IPA",
         "American IPA",
         "292",
         "12.0",
         "Baxter Brewing Company",
         "Lewiston",
         " ME",
         "52.857142857142854"
        ],
        [
         "212",
         "0.088",
         "108.0",
         "1806",
         "Hoptopus Double IPA",
         "American Double / Imperial IPA",
         "306",
         "16.0",
         "Beach Brewing Company",
         "Virginia Beach",
         " VA",
         "45.371428571428574"
        ],
        [
         "214",
         "0.0579999999999999",
         "45.0",
         "2423",
         "Fenway American Pale Ale",
         "American Pale Ale (APA)",
         "103",
         "12.0",
         "Beer Works Brewery",
         "Lowell",
         " MA",
         "38.0"
        ],
        [
         "215",
         "0.068",
         "85.0",
         "2420",
         "Back Bay IPA",
         "American IPA",
         "103",
         "12.0",
         "Beer Works Brewery",
         "Lowell",
         " MA",
         "38.0"
        ],
        [
         "227",
         "0.072",
         "87.0",
         "2410",
         "Harness the Winter",
         "American IPA",
         "75",
         "12.0",
         "Bent Paddle Brewing Company",
         "Duluth",
         " MN",
         "49.95652173913044"
        ],
        [
         "229",
         "0.062",
         "68.0",
         "1901",
         "Bent Hop Golden IPA",
         "American IPA",
         "75",
         "12.0",
         "Bent Paddle Brewing Company",
         "Duluth",
         " MN",
         "49.95652173913044"
        ]
       ],
       "shape": {
        "columns": 11,
        "rows": 570
       }
      },
      "text/html": [
       "<div>\n",
       "<style scoped>\n",
       "    .dataframe tbody tr th:only-of-type {\n",
       "        vertical-align: middle;\n",
       "    }\n",
       "\n",
       "    .dataframe tbody tr th {\n",
       "        vertical-align: top;\n",
       "    }\n",
       "\n",
       "    .dataframe thead th {\n",
       "        text-align: right;\n",
       "    }\n",
       "</style>\n",
       "<table border=\"1\" class=\"dataframe\">\n",
       "  <thead>\n",
       "    <tr style=\"text-align: right;\">\n",
       "      <th></th>\n",
       "      <th>abv</th>\n",
       "      <th>ibu</th>\n",
       "      <th>id</th>\n",
       "      <th>name</th>\n",
       "      <th>style</th>\n",
       "      <th>brewery_id</th>\n",
       "      <th>ounces</th>\n",
       "      <th>brewery_name</th>\n",
       "      <th>city</th>\n",
       "      <th>state</th>\n",
       "      <th>medias_cerv</th>\n",
       "    </tr>\n",
       "  </thead>\n",
       "  <tbody>\n",
       "    <tr>\n",
       "      <th>14</th>\n",
       "      <td>0.061</td>\n",
       "      <td>60.0</td>\n",
       "      <td>1979</td>\n",
       "      <td>Bitter Bitch</td>\n",
       "      <td>American Pale Ale (APA)</td>\n",
       "      <td>177</td>\n",
       "      <td>12.0</td>\n",
       "      <td>18th Street Brewery</td>\n",
       "      <td>Gary</td>\n",
       "      <td>IN</td>\n",
       "      <td>42.989011</td>\n",
       "    </tr>\n",
       "    <tr>\n",
       "      <th>21</th>\n",
       "      <td>0.099</td>\n",
       "      <td>92.0</td>\n",
       "      <td>1036</td>\n",
       "      <td>Lower De Boom</td>\n",
       "      <td>American Barleywine</td>\n",
       "      <td>368</td>\n",
       "      <td>8.4</td>\n",
       "      <td>21st Amendment Brewery</td>\n",
       "      <td>San Francisco</td>\n",
       "      <td>CA</td>\n",
       "      <td>46.281481</td>\n",
       "    </tr>\n",
       "    <tr>\n",
       "      <th>28</th>\n",
       "      <td>0.070</td>\n",
       "      <td>70.0</td>\n",
       "      <td>799</td>\n",
       "      <td>21st Amendment IPA (2006)</td>\n",
       "      <td>American IPA</td>\n",
       "      <td>368</td>\n",
       "      <td>12.0</td>\n",
       "      <td>21st Amendment Brewery</td>\n",
       "      <td>San Francisco</td>\n",
       "      <td>CA</td>\n",
       "      <td>46.281481</td>\n",
       "    </tr>\n",
       "    <tr>\n",
       "      <th>29</th>\n",
       "      <td>0.070</td>\n",
       "      <td>70.0</td>\n",
       "      <td>797</td>\n",
       "      <td>Brew Free! or Die IPA (2008)</td>\n",
       "      <td>American IPA</td>\n",
       "      <td>368</td>\n",
       "      <td>12.0</td>\n",
       "      <td>21st Amendment Brewery</td>\n",
       "      <td>San Francisco</td>\n",
       "      <td>CA</td>\n",
       "      <td>46.281481</td>\n",
       "    </tr>\n",
       "    <tr>\n",
       "      <th>30</th>\n",
       "      <td>0.070</td>\n",
       "      <td>70.0</td>\n",
       "      <td>796</td>\n",
       "      <td>Brew Free! or Die IPA (2009)</td>\n",
       "      <td>American IPA</td>\n",
       "      <td>368</td>\n",
       "      <td>12.0</td>\n",
       "      <td>21st Amendment Brewery</td>\n",
       "      <td>San Francisco</td>\n",
       "      <td>CA</td>\n",
       "      <td>46.281481</td>\n",
       "    </tr>\n",
       "    <tr>\n",
       "      <th>...</th>\n",
       "      <td>...</td>\n",
       "      <td>...</td>\n",
       "      <td>...</td>\n",
       "      <td>...</td>\n",
       "      <td>...</td>\n",
       "      <td>...</td>\n",
       "      <td>...</td>\n",
       "      <td>...</td>\n",
       "      <td>...</td>\n",
       "      <td>...</td>\n",
       "      <td>...</td>\n",
       "    </tr>\n",
       "    <tr>\n",
       "      <th>2393</th>\n",
       "      <td>0.065</td>\n",
       "      <td>82.0</td>\n",
       "      <td>2417</td>\n",
       "      <td>4000 Footer IPA</td>\n",
       "      <td>American IPA</td>\n",
       "      <td>109</td>\n",
       "      <td>12.0</td>\n",
       "      <td>Woodstock Inn, Station &amp; Brewery</td>\n",
       "      <td>North Woodstock</td>\n",
       "      <td>NH</td>\n",
       "      <td>48.500000</td>\n",
       "    </tr>\n",
       "    <tr>\n",
       "      <th>2395</th>\n",
       "      <td>0.065</td>\n",
       "      <td>69.0</td>\n",
       "      <td>1697</td>\n",
       "      <td>Be Hoppy IPA</td>\n",
       "      <td>American IPA</td>\n",
       "      <td>339</td>\n",
       "      <td>16.0</td>\n",
       "      <td>Wormtown Brewery</td>\n",
       "      <td>Worcester</td>\n",
       "      <td>MA</td>\n",
       "      <td>38.000000</td>\n",
       "    </tr>\n",
       "    <tr>\n",
       "      <th>2396</th>\n",
       "      <td>0.069</td>\n",
       "      <td>69.0</td>\n",
       "      <td>2194</td>\n",
       "      <td>Worthy IPA</td>\n",
       "      <td>American IPA</td>\n",
       "      <td>199</td>\n",
       "      <td>12.0</td>\n",
       "      <td>Worthy Brewing Company</td>\n",
       "      <td>Bend</td>\n",
       "      <td>OR</td>\n",
       "      <td>47.942529</td>\n",
       "    </tr>\n",
       "    <tr>\n",
       "      <th>2399</th>\n",
       "      <td>0.069</td>\n",
       "      <td>69.0</td>\n",
       "      <td>1512</td>\n",
       "      <td>Worthy IPA (2013)</td>\n",
       "      <td>American IPA</td>\n",
       "      <td>199</td>\n",
       "      <td>12.0</td>\n",
       "      <td>Worthy Brewing Company</td>\n",
       "      <td>Bend</td>\n",
       "      <td>OR</td>\n",
       "      <td>47.942529</td>\n",
       "    </tr>\n",
       "    <tr>\n",
       "      <th>2400</th>\n",
       "      <td>0.060</td>\n",
       "      <td>50.0</td>\n",
       "      <td>1511</td>\n",
       "      <td>Worthy Pale</td>\n",
       "      <td>American Pale Ale (APA)</td>\n",
       "      <td>199</td>\n",
       "      <td>12.0</td>\n",
       "      <td>Worthy Brewing Company</td>\n",
       "      <td>Bend</td>\n",
       "      <td>OR</td>\n",
       "      <td>47.942529</td>\n",
       "    </tr>\n",
       "  </tbody>\n",
       "</table>\n",
       "<p>570 rows × 11 columns</p>\n",
       "</div>"
      ],
      "text/plain": [
       "        abv   ibu    id                          name  \\\n",
       "14    0.061  60.0  1979                  Bitter Bitch   \n",
       "21    0.099  92.0  1036                 Lower De Boom   \n",
       "28    0.070  70.0   799     21st Amendment IPA (2006)   \n",
       "29    0.070  70.0   797  Brew Free! or Die IPA (2008)   \n",
       "30    0.070  70.0   796  Brew Free! or Die IPA (2009)   \n",
       "...     ...   ...   ...                           ...   \n",
       "2393  0.065  82.0  2417               4000 Footer IPA   \n",
       "2395  0.065  69.0  1697                  Be Hoppy IPA   \n",
       "2396  0.069  69.0  2194                    Worthy IPA   \n",
       "2399  0.069  69.0  1512             Worthy IPA (2013)   \n",
       "2400  0.060  50.0  1511                   Worthy Pale   \n",
       "\n",
       "                        style  brewery_id  ounces  \\\n",
       "14    American Pale Ale (APA)         177    12.0   \n",
       "21        American Barleywine         368     8.4   \n",
       "28               American IPA         368    12.0   \n",
       "29               American IPA         368    12.0   \n",
       "30               American IPA         368    12.0   \n",
       "...                       ...         ...     ...   \n",
       "2393             American IPA         109    12.0   \n",
       "2395             American IPA         339    16.0   \n",
       "2396             American IPA         199    12.0   \n",
       "2399             American IPA         199    12.0   \n",
       "2400  American Pale Ale (APA)         199    12.0   \n",
       "\n",
       "                          brewery_name             city state  medias_cerv  \n",
       "14                 18th Street Brewery             Gary    IN    42.989011  \n",
       "21              21st Amendment Brewery    San Francisco    CA    46.281481  \n",
       "28              21st Amendment Brewery    San Francisco    CA    46.281481  \n",
       "29              21st Amendment Brewery    San Francisco    CA    46.281481  \n",
       "30              21st Amendment Brewery    San Francisco    CA    46.281481  \n",
       "...                                ...              ...   ...          ...  \n",
       "2393  Woodstock Inn, Station & Brewery  North Woodstock    NH    48.500000  \n",
       "2395                  Wormtown Brewery        Worcester    MA    38.000000  \n",
       "2396            Worthy Brewing Company             Bend    OR    47.942529  \n",
       "2399            Worthy Brewing Company             Bend    OR    47.942529  \n",
       "2400            Worthy Brewing Company             Bend    OR    47.942529  \n",
       "\n",
       "[570 rows x 11 columns]"
      ]
     },
     "execution_count": 174,
     "metadata": {},
     "output_type": "execute_result"
    }
   ],
   "source": [
    "mix[\"medias_cerv\"] = mix.groupby(\"state\")[\"ibu\"].transform(\"mean\")\n",
    "\n",
    "mix[mix[\"ibu\"]>mix[\"medias_cerv\"]]"
   ]
  }
 ],
 "metadata": {
  "kernelspec": {
   "display_name": "Python 3",
   "language": "python",
   "name": "python3"
  },
  "language_info": {
   "codemirror_mode": {
    "name": "ipython",
    "version": 3
   },
   "file_extension": ".py",
   "mimetype": "text/x-python",
   "name": "python",
   "nbconvert_exporter": "python",
   "pygments_lexer": "ipython3",
   "version": "3.13.1"
  }
 },
 "nbformat": 4,
 "nbformat_minor": 4
}
