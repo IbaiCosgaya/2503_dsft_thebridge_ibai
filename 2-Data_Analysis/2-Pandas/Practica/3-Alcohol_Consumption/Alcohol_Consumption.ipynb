{
 "cells": [
  {
   "attachments": {},
   "cell_type": "markdown",
   "metadata": {},
   "source": [
    "# Ex - GroupBy"
   ]
  },
  {
   "cell_type": "code",
   "execution_count": 7,
   "metadata": {},
   "outputs": [],
   "source": [
    "import pandas as pd\n",
    "import numpy as np"
   ]
  },
  {
   "attachments": {},
   "cell_type": "markdown",
   "metadata": {},
   "source": [
    "### Step 2. Import the dataset from this [address](https://raw.githubusercontent.com/justmarkham/DAT8/master/data/drinks.csv). "
   ]
  },
  {
   "attachments": {},
   "cell_type": "markdown",
   "metadata": {},
   "source": [
    "### Step 3. Assign it to a variable called drinks."
   ]
  },
  {
   "cell_type": "code",
   "execution_count": null,
   "metadata": {},
   "outputs": [
    {
     "data": {
      "application/vnd.microsoft.datawrangler.viewer.v0+json": {
       "columns": [
        {
         "name": "index",
         "rawType": "int64",
         "type": "integer"
        },
        {
         "name": "country",
         "rawType": "object",
         "type": "string"
        },
        {
         "name": "beer_servings",
         "rawType": "int64",
         "type": "integer"
        },
        {
         "name": "spirit_servings",
         "rawType": "int64",
         "type": "integer"
        },
        {
         "name": "wine_servings",
         "rawType": "int64",
         "type": "integer"
        },
        {
         "name": "total_litres_of_pure_alcohol",
         "rawType": "float64",
         "type": "float"
        },
        {
         "name": "continent",
         "rawType": "object",
         "type": "unknown"
        }
       ],
       "conversionMethod": "pd.DataFrame",
       "ref": "43124408-f067-4ca3-85e3-805ad7b9c29c",
       "rows": [
        [
         "0",
         "Afghanistan",
         "0",
         "0",
         "0",
         "0.0",
         "AS"
        ],
        [
         "1",
         "Albania",
         "89",
         "132",
         "54",
         "4.9",
         "EU"
        ],
        [
         "2",
         "Algeria",
         "25",
         "0",
         "14",
         "0.7",
         "AF"
        ],
        [
         "3",
         "Andorra",
         "245",
         "138",
         "312",
         "12.4",
         "EU"
        ],
        [
         "4",
         "Angola",
         "217",
         "57",
         "45",
         "5.9",
         "AF"
        ],
        [
         "5",
         "Antigua & Barbuda",
         "102",
         "128",
         "45",
         "4.9",
         null
        ],
        [
         "6",
         "Argentina",
         "193",
         "25",
         "221",
         "8.3",
         "SA"
        ],
        [
         "7",
         "Armenia",
         "21",
         "179",
         "11",
         "3.8",
         "EU"
        ],
        [
         "8",
         "Australia",
         "261",
         "72",
         "212",
         "10.4",
         "OC"
        ],
        [
         "9",
         "Austria",
         "279",
         "75",
         "191",
         "9.7",
         "EU"
        ],
        [
         "10",
         "Azerbaijan",
         "21",
         "46",
         "5",
         "1.3",
         "EU"
        ],
        [
         "11",
         "Bahamas",
         "122",
         "176",
         "51",
         "6.3",
         null
        ],
        [
         "12",
         "Bahrain",
         "42",
         "63",
         "7",
         "2.0",
         "AS"
        ],
        [
         "13",
         "Bangladesh",
         "0",
         "0",
         "0",
         "0.0",
         "AS"
        ],
        [
         "14",
         "Barbados",
         "143",
         "173",
         "36",
         "6.3",
         null
        ],
        [
         "15",
         "Belarus",
         "142",
         "373",
         "42",
         "14.4",
         "EU"
        ],
        [
         "16",
         "Belgium",
         "295",
         "84",
         "212",
         "10.5",
         "EU"
        ],
        [
         "17",
         "Belize",
         "263",
         "114",
         "8",
         "6.8",
         null
        ],
        [
         "18",
         "Benin",
         "34",
         "4",
         "13",
         "1.1",
         "AF"
        ],
        [
         "19",
         "Bhutan",
         "23",
         "0",
         "0",
         "0.4",
         "AS"
        ],
        [
         "20",
         "Bolivia",
         "167",
         "41",
         "8",
         "3.8",
         "SA"
        ],
        [
         "21",
         "Bosnia-Herzegovina",
         "76",
         "173",
         "8",
         "4.6",
         "EU"
        ],
        [
         "22",
         "Botswana",
         "173",
         "35",
         "35",
         "5.4",
         "AF"
        ],
        [
         "23",
         "Brazil",
         "245",
         "145",
         "16",
         "7.2",
         "SA"
        ],
        [
         "24",
         "Brunei",
         "31",
         "2",
         "1",
         "0.6",
         "AS"
        ],
        [
         "25",
         "Bulgaria",
         "231",
         "252",
         "94",
         "10.3",
         "EU"
        ],
        [
         "26",
         "Burkina Faso",
         "25",
         "7",
         "7",
         "4.3",
         "AF"
        ],
        [
         "27",
         "Burundi",
         "88",
         "0",
         "0",
         "6.3",
         "AF"
        ],
        [
         "28",
         "Cote d'Ivoire",
         "37",
         "1",
         "7",
         "4.0",
         "AF"
        ],
        [
         "29",
         "Cabo Verde",
         "144",
         "56",
         "16",
         "4.0",
         "AF"
        ],
        [
         "30",
         "Cambodia",
         "57",
         "65",
         "1",
         "2.2",
         "AS"
        ],
        [
         "31",
         "Cameroon",
         "147",
         "1",
         "4",
         "5.8",
         "AF"
        ],
        [
         "32",
         "Canada",
         "240",
         "122",
         "100",
         "8.2",
         null
        ],
        [
         "33",
         "Central African Republic",
         "17",
         "2",
         "1",
         "1.8",
         "AF"
        ],
        [
         "34",
         "Chad",
         "15",
         "1",
         "1",
         "0.4",
         "AF"
        ],
        [
         "35",
         "Chile",
         "130",
         "124",
         "172",
         "7.6",
         "SA"
        ],
        [
         "36",
         "China",
         "79",
         "192",
         "8",
         "5.0",
         "AS"
        ],
        [
         "37",
         "Colombia",
         "159",
         "76",
         "3",
         "4.2",
         "SA"
        ],
        [
         "38",
         "Comoros",
         "1",
         "3",
         "1",
         "0.1",
         "AF"
        ],
        [
         "39",
         "Congo",
         "76",
         "1",
         "9",
         "1.7",
         "AF"
        ],
        [
         "40",
         "Cook Islands",
         "0",
         "254",
         "74",
         "5.9",
         "OC"
        ],
        [
         "41",
         "Costa Rica",
         "149",
         "87",
         "11",
         "4.4",
         null
        ],
        [
         "42",
         "Croatia",
         "230",
         "87",
         "254",
         "10.2",
         "EU"
        ],
        [
         "43",
         "Cuba",
         "93",
         "137",
         "5",
         "4.2",
         null
        ],
        [
         "44",
         "Cyprus",
         "192",
         "154",
         "113",
         "8.2",
         "EU"
        ],
        [
         "45",
         "Czech Republic",
         "361",
         "170",
         "134",
         "11.8",
         "EU"
        ],
        [
         "46",
         "North Korea",
         "0",
         "0",
         "0",
         "0.0",
         "AS"
        ],
        [
         "47",
         "DR Congo",
         "32",
         "3",
         "1",
         "2.3",
         "AF"
        ],
        [
         "48",
         "Denmark",
         "224",
         "81",
         "278",
         "10.4",
         "EU"
        ],
        [
         "49",
         "Djibouti",
         "15",
         "44",
         "3",
         "1.1",
         "AF"
        ]
       ],
       "shape": {
        "columns": 6,
        "rows": 193
       }
      },
      "text/html": [
       "<div>\n",
       "<style scoped>\n",
       "    .dataframe tbody tr th:only-of-type {\n",
       "        vertical-align: middle;\n",
       "    }\n",
       "\n",
       "    .dataframe tbody tr th {\n",
       "        vertical-align: top;\n",
       "    }\n",
       "\n",
       "    .dataframe thead th {\n",
       "        text-align: right;\n",
       "    }\n",
       "</style>\n",
       "<table border=\"1\" class=\"dataframe\">\n",
       "  <thead>\n",
       "    <tr style=\"text-align: right;\">\n",
       "      <th></th>\n",
       "      <th>country</th>\n",
       "      <th>beer_servings</th>\n",
       "      <th>spirit_servings</th>\n",
       "      <th>wine_servings</th>\n",
       "      <th>total_litres_of_pure_alcohol</th>\n",
       "      <th>continent</th>\n",
       "    </tr>\n",
       "  </thead>\n",
       "  <tbody>\n",
       "    <tr>\n",
       "      <th>0</th>\n",
       "      <td>Afghanistan</td>\n",
       "      <td>0</td>\n",
       "      <td>0</td>\n",
       "      <td>0</td>\n",
       "      <td>0.0</td>\n",
       "      <td>AS</td>\n",
       "    </tr>\n",
       "    <tr>\n",
       "      <th>1</th>\n",
       "      <td>Albania</td>\n",
       "      <td>89</td>\n",
       "      <td>132</td>\n",
       "      <td>54</td>\n",
       "      <td>4.9</td>\n",
       "      <td>EU</td>\n",
       "    </tr>\n",
       "    <tr>\n",
       "      <th>2</th>\n",
       "      <td>Algeria</td>\n",
       "      <td>25</td>\n",
       "      <td>0</td>\n",
       "      <td>14</td>\n",
       "      <td>0.7</td>\n",
       "      <td>AF</td>\n",
       "    </tr>\n",
       "    <tr>\n",
       "      <th>3</th>\n",
       "      <td>Andorra</td>\n",
       "      <td>245</td>\n",
       "      <td>138</td>\n",
       "      <td>312</td>\n",
       "      <td>12.4</td>\n",
       "      <td>EU</td>\n",
       "    </tr>\n",
       "    <tr>\n",
       "      <th>4</th>\n",
       "      <td>Angola</td>\n",
       "      <td>217</td>\n",
       "      <td>57</td>\n",
       "      <td>45</td>\n",
       "      <td>5.9</td>\n",
       "      <td>AF</td>\n",
       "    </tr>\n",
       "    <tr>\n",
       "      <th>...</th>\n",
       "      <td>...</td>\n",
       "      <td>...</td>\n",
       "      <td>...</td>\n",
       "      <td>...</td>\n",
       "      <td>...</td>\n",
       "      <td>...</td>\n",
       "    </tr>\n",
       "    <tr>\n",
       "      <th>188</th>\n",
       "      <td>Venezuela</td>\n",
       "      <td>333</td>\n",
       "      <td>100</td>\n",
       "      <td>3</td>\n",
       "      <td>7.7</td>\n",
       "      <td>SA</td>\n",
       "    </tr>\n",
       "    <tr>\n",
       "      <th>189</th>\n",
       "      <td>Vietnam</td>\n",
       "      <td>111</td>\n",
       "      <td>2</td>\n",
       "      <td>1</td>\n",
       "      <td>2.0</td>\n",
       "      <td>AS</td>\n",
       "    </tr>\n",
       "    <tr>\n",
       "      <th>190</th>\n",
       "      <td>Yemen</td>\n",
       "      <td>6</td>\n",
       "      <td>0</td>\n",
       "      <td>0</td>\n",
       "      <td>0.1</td>\n",
       "      <td>AS</td>\n",
       "    </tr>\n",
       "    <tr>\n",
       "      <th>191</th>\n",
       "      <td>Zambia</td>\n",
       "      <td>32</td>\n",
       "      <td>19</td>\n",
       "      <td>4</td>\n",
       "      <td>2.5</td>\n",
       "      <td>AF</td>\n",
       "    </tr>\n",
       "    <tr>\n",
       "      <th>192</th>\n",
       "      <td>Zimbabwe</td>\n",
       "      <td>64</td>\n",
       "      <td>18</td>\n",
       "      <td>4</td>\n",
       "      <td>4.7</td>\n",
       "      <td>AF</td>\n",
       "    </tr>\n",
       "  </tbody>\n",
       "</table>\n",
       "<p>193 rows × 6 columns</p>\n",
       "</div>"
      ],
      "text/plain": [
       "         country  beer_servings  spirit_servings  wine_servings  \\\n",
       "0    Afghanistan              0                0              0   \n",
       "1        Albania             89              132             54   \n",
       "2        Algeria             25                0             14   \n",
       "3        Andorra            245              138            312   \n",
       "4         Angola            217               57             45   \n",
       "..           ...            ...              ...            ...   \n",
       "188    Venezuela            333              100              3   \n",
       "189      Vietnam            111                2              1   \n",
       "190        Yemen              6                0              0   \n",
       "191       Zambia             32               19              4   \n",
       "192     Zimbabwe             64               18              4   \n",
       "\n",
       "     total_litres_of_pure_alcohol continent  \n",
       "0                             0.0        AS  \n",
       "1                             4.9        EU  \n",
       "2                             0.7        AF  \n",
       "3                            12.4        EU  \n",
       "4                             5.9        AF  \n",
       "..                            ...       ...  \n",
       "188                           7.7        SA  \n",
       "189                           2.0        AS  \n",
       "190                           0.1        AS  \n",
       "191                           2.5        AF  \n",
       "192                           4.7        AF  \n",
       "\n",
       "[193 rows x 6 columns]"
      ]
     },
     "execution_count": 8,
     "metadata": {},
     "output_type": "execute_result"
    }
   ],
   "source": [
    "url = \"https://raw.githubusercontent.com/justmarkham/DAT8/master/data/drinks.csv\"\n",
    "\n",
    "drinks = pd.read_csv(url)\n",
    "drinks"
   ]
  },
  {
   "cell_type": "code",
   "execution_count": 9,
   "metadata": {},
   "outputs": [
    {
     "data": {
      "application/vnd.microsoft.datawrangler.viewer.v0+json": {
       "columns": [
        {
         "name": "index",
         "rawType": "int64",
         "type": "integer"
        },
        {
         "name": "country",
         "rawType": "object",
         "type": "string"
        },
        {
         "name": "beer_servings",
         "rawType": "int64",
         "type": "integer"
        },
        {
         "name": "spirit_servings",
         "rawType": "int64",
         "type": "integer"
        },
        {
         "name": "wine_servings",
         "rawType": "int64",
         "type": "integer"
        },
        {
         "name": "total_litres_of_pure_alcohol",
         "rawType": "float64",
         "type": "float"
        },
        {
         "name": "continent",
         "rawType": "object",
         "type": "unknown"
        }
       ],
       "conversionMethod": "pd.DataFrame",
       "ref": "3292eeb6-383b-4b80-89bf-71afc984a3ab",
       "rows": [
        [
         "5",
         "Antigua & Barbuda",
         "102",
         "128",
         "45",
         "4.9",
         null
        ],
        [
         "11",
         "Bahamas",
         "122",
         "176",
         "51",
         "6.3",
         null
        ],
        [
         "14",
         "Barbados",
         "143",
         "173",
         "36",
         "6.3",
         null
        ],
        [
         "17",
         "Belize",
         "263",
         "114",
         "8",
         "6.8",
         null
        ],
        [
         "32",
         "Canada",
         "240",
         "122",
         "100",
         "8.2",
         null
        ],
        [
         "41",
         "Costa Rica",
         "149",
         "87",
         "11",
         "4.4",
         null
        ],
        [
         "43",
         "Cuba",
         "93",
         "137",
         "5",
         "4.2",
         null
        ],
        [
         "50",
         "Dominica",
         "52",
         "286",
         "26",
         "6.6",
         null
        ],
        [
         "51",
         "Dominican Republic",
         "193",
         "147",
         "9",
         "6.2",
         null
        ],
        [
         "54",
         "El Salvador",
         "52",
         "69",
         "2",
         "2.2",
         null
        ],
        [
         "68",
         "Grenada",
         "199",
         "438",
         "28",
         "11.9",
         null
        ],
        [
         "69",
         "Guatemala",
         "53",
         "69",
         "2",
         "2.2",
         null
        ],
        [
         "73",
         "Haiti",
         "1",
         "326",
         "1",
         "5.9",
         null
        ],
        [
         "74",
         "Honduras",
         "69",
         "98",
         "2",
         "3.0",
         null
        ],
        [
         "84",
         "Jamaica",
         "82",
         "97",
         "9",
         "3.4",
         null
        ],
        [
         "109",
         "Mexico",
         "238",
         "68",
         "5",
         "5.5",
         null
        ],
        [
         "122",
         "Nicaragua",
         "78",
         "118",
         "1",
         "3.5",
         null
        ],
        [
         "130",
         "Panama",
         "285",
         "104",
         "18",
         "7.2",
         null
        ],
        [
         "143",
         "St. Kitts & Nevis",
         "194",
         "205",
         "32",
         "7.7",
         null
        ],
        [
         "144",
         "St. Lucia",
         "171",
         "315",
         "71",
         "10.1",
         null
        ],
        [
         "145",
         "St. Vincent & the Grenadines",
         "120",
         "221",
         "11",
         "6.3",
         null
        ],
        [
         "174",
         "Trinidad & Tobago",
         "197",
         "156",
         "7",
         "6.4",
         null
        ],
        [
         "184",
         "USA",
         "249",
         "158",
         "84",
         "8.7",
         null
        ]
       ],
       "shape": {
        "columns": 6,
        "rows": 23
       }
      },
      "text/html": [
       "<div>\n",
       "<style scoped>\n",
       "    .dataframe tbody tr th:only-of-type {\n",
       "        vertical-align: middle;\n",
       "    }\n",
       "\n",
       "    .dataframe tbody tr th {\n",
       "        vertical-align: top;\n",
       "    }\n",
       "\n",
       "    .dataframe thead th {\n",
       "        text-align: right;\n",
       "    }\n",
       "</style>\n",
       "<table border=\"1\" class=\"dataframe\">\n",
       "  <thead>\n",
       "    <tr style=\"text-align: right;\">\n",
       "      <th></th>\n",
       "      <th>country</th>\n",
       "      <th>beer_servings</th>\n",
       "      <th>spirit_servings</th>\n",
       "      <th>wine_servings</th>\n",
       "      <th>total_litres_of_pure_alcohol</th>\n",
       "      <th>continent</th>\n",
       "    </tr>\n",
       "  </thead>\n",
       "  <tbody>\n",
       "    <tr>\n",
       "      <th>5</th>\n",
       "      <td>Antigua &amp; Barbuda</td>\n",
       "      <td>102</td>\n",
       "      <td>128</td>\n",
       "      <td>45</td>\n",
       "      <td>4.9</td>\n",
       "      <td>NaN</td>\n",
       "    </tr>\n",
       "    <tr>\n",
       "      <th>11</th>\n",
       "      <td>Bahamas</td>\n",
       "      <td>122</td>\n",
       "      <td>176</td>\n",
       "      <td>51</td>\n",
       "      <td>6.3</td>\n",
       "      <td>NaN</td>\n",
       "    </tr>\n",
       "    <tr>\n",
       "      <th>14</th>\n",
       "      <td>Barbados</td>\n",
       "      <td>143</td>\n",
       "      <td>173</td>\n",
       "      <td>36</td>\n",
       "      <td>6.3</td>\n",
       "      <td>NaN</td>\n",
       "    </tr>\n",
       "    <tr>\n",
       "      <th>17</th>\n",
       "      <td>Belize</td>\n",
       "      <td>263</td>\n",
       "      <td>114</td>\n",
       "      <td>8</td>\n",
       "      <td>6.8</td>\n",
       "      <td>NaN</td>\n",
       "    </tr>\n",
       "    <tr>\n",
       "      <th>32</th>\n",
       "      <td>Canada</td>\n",
       "      <td>240</td>\n",
       "      <td>122</td>\n",
       "      <td>100</td>\n",
       "      <td>8.2</td>\n",
       "      <td>NaN</td>\n",
       "    </tr>\n",
       "    <tr>\n",
       "      <th>41</th>\n",
       "      <td>Costa Rica</td>\n",
       "      <td>149</td>\n",
       "      <td>87</td>\n",
       "      <td>11</td>\n",
       "      <td>4.4</td>\n",
       "      <td>NaN</td>\n",
       "    </tr>\n",
       "    <tr>\n",
       "      <th>43</th>\n",
       "      <td>Cuba</td>\n",
       "      <td>93</td>\n",
       "      <td>137</td>\n",
       "      <td>5</td>\n",
       "      <td>4.2</td>\n",
       "      <td>NaN</td>\n",
       "    </tr>\n",
       "    <tr>\n",
       "      <th>50</th>\n",
       "      <td>Dominica</td>\n",
       "      <td>52</td>\n",
       "      <td>286</td>\n",
       "      <td>26</td>\n",
       "      <td>6.6</td>\n",
       "      <td>NaN</td>\n",
       "    </tr>\n",
       "    <tr>\n",
       "      <th>51</th>\n",
       "      <td>Dominican Republic</td>\n",
       "      <td>193</td>\n",
       "      <td>147</td>\n",
       "      <td>9</td>\n",
       "      <td>6.2</td>\n",
       "      <td>NaN</td>\n",
       "    </tr>\n",
       "    <tr>\n",
       "      <th>54</th>\n",
       "      <td>El Salvador</td>\n",
       "      <td>52</td>\n",
       "      <td>69</td>\n",
       "      <td>2</td>\n",
       "      <td>2.2</td>\n",
       "      <td>NaN</td>\n",
       "    </tr>\n",
       "    <tr>\n",
       "      <th>68</th>\n",
       "      <td>Grenada</td>\n",
       "      <td>199</td>\n",
       "      <td>438</td>\n",
       "      <td>28</td>\n",
       "      <td>11.9</td>\n",
       "      <td>NaN</td>\n",
       "    </tr>\n",
       "    <tr>\n",
       "      <th>69</th>\n",
       "      <td>Guatemala</td>\n",
       "      <td>53</td>\n",
       "      <td>69</td>\n",
       "      <td>2</td>\n",
       "      <td>2.2</td>\n",
       "      <td>NaN</td>\n",
       "    </tr>\n",
       "    <tr>\n",
       "      <th>73</th>\n",
       "      <td>Haiti</td>\n",
       "      <td>1</td>\n",
       "      <td>326</td>\n",
       "      <td>1</td>\n",
       "      <td>5.9</td>\n",
       "      <td>NaN</td>\n",
       "    </tr>\n",
       "    <tr>\n",
       "      <th>74</th>\n",
       "      <td>Honduras</td>\n",
       "      <td>69</td>\n",
       "      <td>98</td>\n",
       "      <td>2</td>\n",
       "      <td>3.0</td>\n",
       "      <td>NaN</td>\n",
       "    </tr>\n",
       "    <tr>\n",
       "      <th>84</th>\n",
       "      <td>Jamaica</td>\n",
       "      <td>82</td>\n",
       "      <td>97</td>\n",
       "      <td>9</td>\n",
       "      <td>3.4</td>\n",
       "      <td>NaN</td>\n",
       "    </tr>\n",
       "    <tr>\n",
       "      <th>109</th>\n",
       "      <td>Mexico</td>\n",
       "      <td>238</td>\n",
       "      <td>68</td>\n",
       "      <td>5</td>\n",
       "      <td>5.5</td>\n",
       "      <td>NaN</td>\n",
       "    </tr>\n",
       "    <tr>\n",
       "      <th>122</th>\n",
       "      <td>Nicaragua</td>\n",
       "      <td>78</td>\n",
       "      <td>118</td>\n",
       "      <td>1</td>\n",
       "      <td>3.5</td>\n",
       "      <td>NaN</td>\n",
       "    </tr>\n",
       "    <tr>\n",
       "      <th>130</th>\n",
       "      <td>Panama</td>\n",
       "      <td>285</td>\n",
       "      <td>104</td>\n",
       "      <td>18</td>\n",
       "      <td>7.2</td>\n",
       "      <td>NaN</td>\n",
       "    </tr>\n",
       "    <tr>\n",
       "      <th>143</th>\n",
       "      <td>St. Kitts &amp; Nevis</td>\n",
       "      <td>194</td>\n",
       "      <td>205</td>\n",
       "      <td>32</td>\n",
       "      <td>7.7</td>\n",
       "      <td>NaN</td>\n",
       "    </tr>\n",
       "    <tr>\n",
       "      <th>144</th>\n",
       "      <td>St. Lucia</td>\n",
       "      <td>171</td>\n",
       "      <td>315</td>\n",
       "      <td>71</td>\n",
       "      <td>10.1</td>\n",
       "      <td>NaN</td>\n",
       "    </tr>\n",
       "    <tr>\n",
       "      <th>145</th>\n",
       "      <td>St. Vincent &amp; the Grenadines</td>\n",
       "      <td>120</td>\n",
       "      <td>221</td>\n",
       "      <td>11</td>\n",
       "      <td>6.3</td>\n",
       "      <td>NaN</td>\n",
       "    </tr>\n",
       "    <tr>\n",
       "      <th>174</th>\n",
       "      <td>Trinidad &amp; Tobago</td>\n",
       "      <td>197</td>\n",
       "      <td>156</td>\n",
       "      <td>7</td>\n",
       "      <td>6.4</td>\n",
       "      <td>NaN</td>\n",
       "    </tr>\n",
       "    <tr>\n",
       "      <th>184</th>\n",
       "      <td>USA</td>\n",
       "      <td>249</td>\n",
       "      <td>158</td>\n",
       "      <td>84</td>\n",
       "      <td>8.7</td>\n",
       "      <td>NaN</td>\n",
       "    </tr>\n",
       "  </tbody>\n",
       "</table>\n",
       "</div>"
      ],
      "text/plain": [
       "                          country  beer_servings  spirit_servings  \\\n",
       "5               Antigua & Barbuda            102              128   \n",
       "11                        Bahamas            122              176   \n",
       "14                       Barbados            143              173   \n",
       "17                         Belize            263              114   \n",
       "32                         Canada            240              122   \n",
       "41                     Costa Rica            149               87   \n",
       "43                           Cuba             93              137   \n",
       "50                       Dominica             52              286   \n",
       "51             Dominican Republic            193              147   \n",
       "54                    El Salvador             52               69   \n",
       "68                        Grenada            199              438   \n",
       "69                      Guatemala             53               69   \n",
       "73                          Haiti              1              326   \n",
       "74                       Honduras             69               98   \n",
       "84                        Jamaica             82               97   \n",
       "109                        Mexico            238               68   \n",
       "122                     Nicaragua             78              118   \n",
       "130                        Panama            285              104   \n",
       "143             St. Kitts & Nevis            194              205   \n",
       "144                     St. Lucia            171              315   \n",
       "145  St. Vincent & the Grenadines            120              221   \n",
       "174             Trinidad & Tobago            197              156   \n",
       "184                           USA            249              158   \n",
       "\n",
       "     wine_servings  total_litres_of_pure_alcohol continent  \n",
       "5               45                           4.9       NaN  \n",
       "11              51                           6.3       NaN  \n",
       "14              36                           6.3       NaN  \n",
       "17               8                           6.8       NaN  \n",
       "32             100                           8.2       NaN  \n",
       "41              11                           4.4       NaN  \n",
       "43               5                           4.2       NaN  \n",
       "50              26                           6.6       NaN  \n",
       "51               9                           6.2       NaN  \n",
       "54               2                           2.2       NaN  \n",
       "68              28                          11.9       NaN  \n",
       "69               2                           2.2       NaN  \n",
       "73               1                           5.9       NaN  \n",
       "74               2                           3.0       NaN  \n",
       "84               9                           3.4       NaN  \n",
       "109              5                           5.5       NaN  \n",
       "122              1                           3.5       NaN  \n",
       "130             18                           7.2       NaN  \n",
       "143             32                           7.7       NaN  \n",
       "144             71                          10.1       NaN  \n",
       "145             11                           6.3       NaN  \n",
       "174              7                           6.4       NaN  \n",
       "184             84                           8.7       NaN  "
      ]
     },
     "execution_count": 9,
     "metadata": {},
     "output_type": "execute_result"
    }
   ],
   "source": [
    "mask = drinks[\"continent\"].isnull()\n",
    "drinks[mask]"
   ]
  },
  {
   "cell_type": "code",
   "execution_count": null,
   "metadata": {},
   "outputs": [
    {
     "name": "stdout",
     "output_type": "stream",
     "text": [
      "<class 'pandas.core.frame.DataFrame'>\n",
      "RangeIndex: 193 entries, 0 to 192\n",
      "Data columns (total 6 columns):\n",
      " #   Column                        Non-Null Count  Dtype  \n",
      "---  ------                        --------------  -----  \n",
      " 0   country                       193 non-null    object \n",
      " 1   beer_servings                 193 non-null    int64  \n",
      " 2   spirit_servings               193 non-null    int64  \n",
      " 3   wine_servings                 193 non-null    int64  \n",
      " 4   total_litres_of_pure_alcohol  193 non-null    float64\n",
      " 5   continent                     170 non-null    object \n",
      "dtypes: float64(1), int64(3), object(2)\n",
      "memory usage: 9.2+ KB\n"
     ]
    }
   ],
   "source": [
    "drinks.info()\n",
    "drinks[\"continent\"] = drinks[\"continent\"].fillna(\"NA\")"
   ]
  },
  {
   "cell_type": "code",
   "execution_count": null,
   "metadata": {},
   "outputs": [
    {
     "name": "stdout",
     "output_type": "stream",
     "text": [
      "<class 'pandas.core.frame.DataFrame'>\n",
      "RangeIndex: 193 entries, 0 to 192\n",
      "Data columns (total 6 columns):\n",
      " #   Column                        Non-Null Count  Dtype  \n",
      "---  ------                        --------------  -----  \n",
      " 0   country                       193 non-null    object \n",
      " 1   beer_servings                 193 non-null    int64  \n",
      " 2   spirit_servings               193 non-null    int64  \n",
      " 3   wine_servings                 193 non-null    int64  \n",
      " 4   total_litres_of_pure_alcohol  193 non-null    float64\n",
      " 5   continent                     193 non-null    object \n",
      "dtypes: float64(1), int64(3), object(2)\n",
      "memory usage: 9.2+ KB\n"
     ]
    }
   ],
   "source": [
    "drinks.info()"
   ]
  },
  {
   "attachments": {},
   "cell_type": "markdown",
   "metadata": {},
   "source": [
    "### Step 4. Which continent drinks more beer on average?"
   ]
  },
  {
   "cell_type": "code",
   "execution_count": 21,
   "metadata": {},
   "outputs": [
    {
     "data": {
      "text/plain": [
       "'EU'"
      ]
     },
     "execution_count": 21,
     "metadata": {},
     "output_type": "execute_result"
    }
   ],
   "source": [
    "average = drinks.groupby(\"continent\")[\"beer_servings\"].mean().sort_values()\n",
    "\n",
    "average.idxmax()"
   ]
  },
  {
   "attachments": {},
   "cell_type": "markdown",
   "metadata": {},
   "source": [
    "### Step 5. For each continent print the statistics for wine consumption."
   ]
  },
  {
   "cell_type": "code",
   "execution_count": 13,
   "metadata": {},
   "outputs": [
    {
     "data": {
      "application/vnd.microsoft.datawrangler.viewer.v0+json": {
       "columns": [
        {
         "name": "continent",
         "rawType": "object",
         "type": "string"
        },
        {
         "name": "count",
         "rawType": "float64",
         "type": "float"
        },
        {
         "name": "mean",
         "rawType": "float64",
         "type": "float"
        },
        {
         "name": "std",
         "rawType": "float64",
         "type": "float"
        },
        {
         "name": "min",
         "rawType": "float64",
         "type": "float"
        },
        {
         "name": "25%",
         "rawType": "float64",
         "type": "float"
        },
        {
         "name": "50%",
         "rawType": "float64",
         "type": "float"
        },
        {
         "name": "75%",
         "rawType": "float64",
         "type": "float"
        },
        {
         "name": "max",
         "rawType": "float64",
         "type": "float"
        }
       ],
       "conversionMethod": "pd.DataFrame",
       "ref": "0ae9709e-8906-40bf-9460-8d0dbf2f2933",
       "rows": [
        [
         "AF",
         "53.0",
         "16.264150943396228",
         "38.84641897335842",
         "0.0",
         "1.0",
         "2.0",
         "13.0",
         "233.0"
        ],
        [
         "AS",
         "44.0",
         "9.068181818181818",
         "21.667033931944488",
         "0.0",
         "0.0",
         "1.0",
         "8.0",
         "123.0"
        ],
        [
         "EU",
         "45.0",
         "142.22222222222223",
         "97.42173756146494",
         "0.0",
         "59.0",
         "128.0",
         "195.0",
         "370.0"
        ],
        [
         "OC",
         "16.0",
         "35.625",
         "64.55578982554547",
         "0.0",
         "1.0",
         "8.5",
         "23.25",
         "212.0"
        ],
        [
         "SA",
         "12.0",
         "62.416666666666664",
         "88.62018888937148",
         "1.0",
         "3.0",
         "12.0",
         "98.5",
         "221.0"
        ]
       ],
       "shape": {
        "columns": 8,
        "rows": 5
       }
      },
      "text/html": [
       "<div>\n",
       "<style scoped>\n",
       "    .dataframe tbody tr th:only-of-type {\n",
       "        vertical-align: middle;\n",
       "    }\n",
       "\n",
       "    .dataframe tbody tr th {\n",
       "        vertical-align: top;\n",
       "    }\n",
       "\n",
       "    .dataframe thead th {\n",
       "        text-align: right;\n",
       "    }\n",
       "</style>\n",
       "<table border=\"1\" class=\"dataframe\">\n",
       "  <thead>\n",
       "    <tr style=\"text-align: right;\">\n",
       "      <th></th>\n",
       "      <th>count</th>\n",
       "      <th>mean</th>\n",
       "      <th>std</th>\n",
       "      <th>min</th>\n",
       "      <th>25%</th>\n",
       "      <th>50%</th>\n",
       "      <th>75%</th>\n",
       "      <th>max</th>\n",
       "    </tr>\n",
       "    <tr>\n",
       "      <th>continent</th>\n",
       "      <th></th>\n",
       "      <th></th>\n",
       "      <th></th>\n",
       "      <th></th>\n",
       "      <th></th>\n",
       "      <th></th>\n",
       "      <th></th>\n",
       "      <th></th>\n",
       "    </tr>\n",
       "  </thead>\n",
       "  <tbody>\n",
       "    <tr>\n",
       "      <th>AF</th>\n",
       "      <td>53.0</td>\n",
       "      <td>16.264151</td>\n",
       "      <td>38.846419</td>\n",
       "      <td>0.0</td>\n",
       "      <td>1.0</td>\n",
       "      <td>2.0</td>\n",
       "      <td>13.00</td>\n",
       "      <td>233.0</td>\n",
       "    </tr>\n",
       "    <tr>\n",
       "      <th>AS</th>\n",
       "      <td>44.0</td>\n",
       "      <td>9.068182</td>\n",
       "      <td>21.667034</td>\n",
       "      <td>0.0</td>\n",
       "      <td>0.0</td>\n",
       "      <td>1.0</td>\n",
       "      <td>8.00</td>\n",
       "      <td>123.0</td>\n",
       "    </tr>\n",
       "    <tr>\n",
       "      <th>EU</th>\n",
       "      <td>45.0</td>\n",
       "      <td>142.222222</td>\n",
       "      <td>97.421738</td>\n",
       "      <td>0.0</td>\n",
       "      <td>59.0</td>\n",
       "      <td>128.0</td>\n",
       "      <td>195.00</td>\n",
       "      <td>370.0</td>\n",
       "    </tr>\n",
       "    <tr>\n",
       "      <th>OC</th>\n",
       "      <td>16.0</td>\n",
       "      <td>35.625000</td>\n",
       "      <td>64.555790</td>\n",
       "      <td>0.0</td>\n",
       "      <td>1.0</td>\n",
       "      <td>8.5</td>\n",
       "      <td>23.25</td>\n",
       "      <td>212.0</td>\n",
       "    </tr>\n",
       "    <tr>\n",
       "      <th>SA</th>\n",
       "      <td>12.0</td>\n",
       "      <td>62.416667</td>\n",
       "      <td>88.620189</td>\n",
       "      <td>1.0</td>\n",
       "      <td>3.0</td>\n",
       "      <td>12.0</td>\n",
       "      <td>98.50</td>\n",
       "      <td>221.0</td>\n",
       "    </tr>\n",
       "  </tbody>\n",
       "</table>\n",
       "</div>"
      ],
      "text/plain": [
       "           count        mean        std  min   25%    50%     75%    max\n",
       "continent                                                               \n",
       "AF          53.0   16.264151  38.846419  0.0   1.0    2.0   13.00  233.0\n",
       "AS          44.0    9.068182  21.667034  0.0   0.0    1.0    8.00  123.0\n",
       "EU          45.0  142.222222  97.421738  0.0  59.0  128.0  195.00  370.0\n",
       "OC          16.0   35.625000  64.555790  0.0   1.0    8.5   23.25  212.0\n",
       "SA          12.0   62.416667  88.620189  1.0   3.0   12.0   98.50  221.0"
      ]
     },
     "execution_count": 13,
     "metadata": {},
     "output_type": "execute_result"
    }
   ],
   "source": [
    "wine_grouped = drinks.groupby(\"continent\").describe()\n",
    "wine_grouped = wine_grouped[\"wine_servings\"]\n",
    "wine_grouped"
   ]
  },
  {
   "attachments": {},
   "cell_type": "markdown",
   "metadata": {},
   "source": [
    "### Step 6. Print the mean alcohol consumption per continent for every column"
   ]
  },
  {
   "cell_type": "code",
   "execution_count": null,
   "metadata": {},
   "outputs": [],
   "source": [
    "mean_alc = drinks.groupby(\"continent\").mean()\n",
    "print(mean_alc)"
   ]
  },
  {
   "cell_type": "code",
   "execution_count": null,
   "metadata": {},
   "outputs": [
    {
     "name": "stdout",
     "output_type": "stream",
     "text": [
      "           beer_servings  spirit_servings  wine_servings  \\\n",
      "continent                                                  \n",
      "AF             61.471698        16.339623      16.264151   \n",
      "AS             37.045455        60.840909       9.068182   \n",
      "EU            193.777778       132.555556     142.222222   \n",
      "NA            145.434783       165.739130      24.521739   \n",
      "OC             89.687500        58.437500      35.625000   \n",
      "SA            175.083333       114.750000      62.416667   \n",
      "\n",
      "           total_litres_of_pure_alcohol  \n",
      "continent                                \n",
      "AF                             3.007547  \n",
      "AS                             2.170455  \n",
      "EU                             8.617778  \n",
      "NA                             5.995652  \n",
      "OC                             3.381250  \n",
      "SA                             6.308333  \n"
     ]
    }
   ],
   "source": [
    "mean_consumption = drinks.groupby(\"continent\")[[\"beer_servings\", \"spirit_servings\", \"wine_servings\", \"total_litres_of_pure_alcohol\"]].mean()\n",
    "\n",
    "print(mean_consumption)"
   ]
  },
  {
   "attachments": {},
   "cell_type": "markdown",
   "metadata": {},
   "source": [
    "### Step 7. Print the median alcohol consumption per continent for every column"
   ]
  },
  {
   "cell_type": "code",
   "execution_count": null,
   "metadata": {},
   "outputs": [
    {
     "name": "stdout",
     "output_type": "stream",
     "text": [
      "           beer_servings  spirit_servings  wine_servings  \\\n",
      "continent                                                  \n",
      "AF                  32.0              3.0            2.0   \n",
      "AS                  17.5             16.0            1.0   \n",
      "EU                 219.0            122.0          128.0   \n",
      "NA                 143.0            137.0           11.0   \n",
      "OC                  52.5             37.0            8.5   \n",
      "SA                 162.5            108.5           12.0   \n",
      "\n",
      "           total_litres_of_pure_alcohol  \n",
      "continent                                \n",
      "AF                                 2.30  \n",
      "AS                                 1.20  \n",
      "EU                                10.00  \n",
      "NA                                 6.30  \n",
      "OC                                 1.75  \n",
      "SA                                 6.85  \n"
     ]
    }
   ],
   "source": [
    "mean_consumption = drinks.groupby(\"continent\")[[\"beer_servings\", \"spirit_servings\", \"wine_servings\", \"total_litres_of_pure_alcohol\"]].median()\n",
    "\n",
    "print(mean_consumption)"
   ]
  },
  {
   "attachments": {},
   "cell_type": "markdown",
   "metadata": {},
   "source": [
    "### Step 8. Print the mean, min and max values for spirit consumption per continent."
   ]
  },
  {
   "cell_type": "code",
   "execution_count": 22,
   "metadata": {},
   "outputs": [
    {
     "name": "stdout",
     "output_type": "stream",
     "text": [
      "            mean  min  max\n",
      "continent                 \n",
      "AF          16.3    0  152\n",
      "AS          60.8    0  326\n",
      "EU         132.6    0  373\n",
      "OC          58.4    0  254\n",
      "SA         114.8   25  302\n"
     ]
    }
   ],
   "source": [
    "spirit = drinks.groupby(\"continent\")[\"spirit_servings\"].agg([\"mean\", \"min\", \"max\"]).round(1)\n",
    "\n",
    "print(spirit)"
   ]
  },
  {
   "cell_type": "code",
   "execution_count": 26,
   "metadata": {},
   "outputs": [
    {
     "data": {
      "application/vnd.microsoft.datawrangler.viewer.v0+json": {
       "columns": [
        {
         "name": "index",
         "rawType": "int64",
         "type": "integer"
        },
        {
         "name": "country",
         "rawType": "object",
         "type": "string"
        },
        {
         "name": "beer_servings",
         "rawType": "int64",
         "type": "integer"
        },
        {
         "name": "spirit_servings",
         "rawType": "int64",
         "type": "integer"
        },
        {
         "name": "wine_servings",
         "rawType": "int64",
         "type": "integer"
        },
        {
         "name": "total_litres_of_pure_alcohol",
         "rawType": "float64",
         "type": "float"
        },
        {
         "name": "continent",
         "rawType": "object",
         "type": "string"
        }
       ],
       "conversionMethod": "pd.DataFrame",
       "ref": "c216b4af-c142-4db6-b2c9-8e57e8361399",
       "rows": [
        [
         "111",
         "Monaco",
         "0",
         "0",
         "0",
         "0.0",
         "EU"
        ],
        [
         "147",
         "San Marino",
         "0",
         "0",
         "0",
         "0.0",
         "EU"
        ]
       ],
       "shape": {
        "columns": 6,
        "rows": 2
       }
      },
      "text/html": [
       "<div>\n",
       "<style scoped>\n",
       "    .dataframe tbody tr th:only-of-type {\n",
       "        vertical-align: middle;\n",
       "    }\n",
       "\n",
       "    .dataframe tbody tr th {\n",
       "        vertical-align: top;\n",
       "    }\n",
       "\n",
       "    .dataframe thead th {\n",
       "        text-align: right;\n",
       "    }\n",
       "</style>\n",
       "<table border=\"1\" class=\"dataframe\">\n",
       "  <thead>\n",
       "    <tr style=\"text-align: right;\">\n",
       "      <th></th>\n",
       "      <th>country</th>\n",
       "      <th>beer_servings</th>\n",
       "      <th>spirit_servings</th>\n",
       "      <th>wine_servings</th>\n",
       "      <th>total_litres_of_pure_alcohol</th>\n",
       "      <th>continent</th>\n",
       "    </tr>\n",
       "  </thead>\n",
       "  <tbody>\n",
       "    <tr>\n",
       "      <th>111</th>\n",
       "      <td>Monaco</td>\n",
       "      <td>0</td>\n",
       "      <td>0</td>\n",
       "      <td>0</td>\n",
       "      <td>0.0</td>\n",
       "      <td>EU</td>\n",
       "    </tr>\n",
       "    <tr>\n",
       "      <th>147</th>\n",
       "      <td>San Marino</td>\n",
       "      <td>0</td>\n",
       "      <td>0</td>\n",
       "      <td>0</td>\n",
       "      <td>0.0</td>\n",
       "      <td>EU</td>\n",
       "    </tr>\n",
       "  </tbody>\n",
       "</table>\n",
       "</div>"
      ],
      "text/plain": [
       "        country  beer_servings  spirit_servings  wine_servings  \\\n",
       "111      Monaco              0                0              0   \n",
       "147  San Marino              0                0              0   \n",
       "\n",
       "     total_litres_of_pure_alcohol continent  \n",
       "111                           0.0        EU  \n",
       "147                           0.0        EU  "
      ]
     },
     "execution_count": 26,
     "metadata": {},
     "output_type": "execute_result"
    }
   ],
   "source": [
    "drinks.loc[(drinks[\"continent\"]==\"EU\") & (drinks[\"spirit_servings\"]==0)]"
   ]
  }
 ],
 "metadata": {
  "kernelspec": {
   "display_name": "Python 3",
   "language": "python",
   "name": "python3"
  },
  "language_info": {
   "codemirror_mode": {
    "name": "ipython",
    "version": 3
   },
   "file_extension": ".py",
   "mimetype": "text/x-python",
   "name": "python",
   "nbconvert_exporter": "python",
   "pygments_lexer": "ipython3",
   "version": "3.13.1"
  }
 },
 "nbformat": 4,
 "nbformat_minor": 4
}
